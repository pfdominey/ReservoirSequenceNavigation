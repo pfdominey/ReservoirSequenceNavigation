{
 "cells": [
  {
   "cell_type": "markdown",
   "metadata": {
    "tags": []
   },
   "source": [
    "# IMPORTS AND FUNCTION DEFINITIONS"
   ]
  },
  {
   "cell_type": "code",
   "execution_count": 1,
   "metadata": {
    "tags": []
   },
   "outputs": [
    {
     "name": "stderr",
     "output_type": "stream",
     "text": [
      "Using Numpy backend.\n"
     ]
    }
   ],
   "source": [
    "import os\n",
    "import numpy as np\n",
    "import pandas as pd\n",
    "import seaborn as sns\n",
    "import pingouin as pg\n",
    "from numpy.linalg import norm\n",
    "from itertools import combinations\n",
    "\n",
    "from plotter import *\n",
    "from plotnine import *\n",
    "from easyesn.optimizers import GradientOptimizer\n",
    "from easyesn import PredictionESN\n",
    "from easyesn import BaseESN\n",
    "# note: you must make this change in the easyesn code\n",
    "# https://github.com/kalekiu/easyesn/issues/12\n",
    "from easyesn.optimizers import GridSearchOptimizer\n",
    "from easyesn import helper as hlp\n",
    "import ipywidgets as widgets\n",
    "from IPython.display import display, Markdown, Latex\n",
    "\n",
    "%matplotlib inline\n",
    "\n",
    "\n",
    "\"\"\" NOTES:\n",
    "    This file provides mechanisms to:\n",
    "    A) Data Processing\n",
    "        1) Load trajectories from csv files ( file must contain columns 'x', 'y')\n",
    "        2) Create a trajectory from a trajectory generator (see more documentation in respective function)\n",
    "        3) Load a generator from a csv file\n",
    "        4) Load a set of feeders from a csv file\n",
    "        5) Generate a matrix of place cell activations (row=place cell, column=time_index) \n",
    "           pc activation computed according to following formula:\n",
    "                 e^( log(K) * ||pos - pc_center||^2 / r^2  )\n",
    "           where \n",
    "                r is the place cell's radius\n",
    "                K is the place cell's activation value at the radius\n",
    "    \n",
    "    B) Plot data\n",
    "        Imports functionalities from 'plotter.py' which uses library matplotlib\n",
    "\"\"\"\n",
    "\n",
    "\n",
    "# CONSTANTS\n",
    "PC_VALUE_AT_RADIUS = 0.8  # 0.2 activation value (constant K in pc activation formula)\n",
    "\n",
    "\n",
    "def list_files(folder, extension=\"\"):\n",
    "    \"\"\" lost all files in the folder with the given extension\n",
    "    \"\"\"\n",
    "    return sorted([ f for f in os.listdir(folder) if f.endswith(extension)])\n",
    "\n",
    "def pad_single_sequence(s, length):\n",
    "    \"\"\" Pads a dataframe so that it has the given length.\n",
    "        we expect len(s) < length, if so, the first element is repeated as necessary.\n",
    "    \"\"\"\n",
    "    pad_vectors = [ s.loc[[0]] ] * (length - len(s))\n",
    "    return pd.concat([* pad_vectors , s]).reset_index(drop=True)\n",
    "\n",
    "def pad_all_sequences(sequences):\n",
    "    \"\"\"\n",
    "        Pads all sequences so that they have the same number of elements.\n",
    "        Padding is added by repeating the first element as necessary\n",
    "    \"\"\"\n",
    "    longest = max([ len(s) for s in sequences.values() ])\n",
    "    return { k : pad_single_sequence(s, longest) for k, s in sequences.items() }\n",
    "\n",
    "def calculate_sequence_mean_displacement(sequence):\n",
    "    \"\"\"\n",
    "        Calculates the mean distance between consecutive points in the sequence.\n",
    "    \"\"\"\n",
    "    num_data = len(sequence)\n",
    "    displacements = sequence.loc[0:(num_data-2)].reset_index(drop=True) - sequence.loc[1:(num_data-1)].reset_index(drop=True)    \n",
    "    return norm(displacements, axis=1).mean()\n",
    "\n",
    "def load_path(file_name):\n",
    "    \"\"\"\" load csv fle specifying a path\n",
    "         file must contain at least columns 'x' and 'y'\n",
    "    \"\"\"\n",
    "    return pd.read_csv(file_name, delim_whitespace=True)\n",
    "    # return sequence[['x', 'y']].to_numpy()\n",
    "\n",
    "\n",
    "def load_generator(file_name):\n",
    "    \"\"\"\" load csv fle specifying a path generator\n",
    "             file must contain at least columns 'x', 'y' and 'steps'\n",
    "        \"\"\"\n",
    "    return pd.read_csv(file_name, delim_whitespace=True)\n",
    "\n",
    "\n",
    "def generate_path(generator):\n",
    "    \"\"\" Generate a path using a generator\n",
    "        'generator' is a pandas data frame containing at least 3 columns 'x' 'y' and 'steps'\n",
    "        Column 'steps' indicate the number of step to reach the following way point (the\n",
    "        value in the last row is ignored since it is the last point in the path)\n",
    "    \"\"\"\n",
    "\n",
    "    # convert data to numpy arrays\n",
    "    xy = generator[['x', 'y']].to_numpy()  # waypoints\n",
    "    steps = generator['steps'].to_numpy()  #\n",
    "\n",
    "    # interpolate each segment\n",
    "    # endpoint=False will avoid repeating the last coordinate of each segment\n",
    "    interpolator = lambda m_tuple: np.linspace(*m_tuple, endpoint=False)\n",
    "    data = zip(xy[:-1], xy[1:], steps[:-1])\n",
    "    path = np.concatenate(list(map(interpolator, data)) + [[xy[-1]]])\n",
    "    return pd.DataFrame(path, columns=['x', 'y'])\n",
    "\n",
    "\n",
    "def load_feeders(file_name):\n",
    "    \"\"\"\"Function to load a set of feeders\"\"\"\n",
    "    return pd.read_csv(file_name, delim_whitespace=True)[['x', 'y']]\n",
    "\n",
    "\n",
    "def load_place_cells(file_name):\n",
    "    \"\"\"\" Load csv fle specifying a set of place cells\n",
    "         file must contain at least columns 'x', 'y' and 'placeradius'\n",
    "    \"\"\"\n",
    "    return pd.read_csv(file_name, delim_whitespace=True)\n",
    "    # return pcs[['x', 'y']].to_numpy(), pcs['placeradius'].to_numpy()\n",
    "\n",
    "\n",
    "def calc_activation_matrix(path, pcs):\n",
    "    \"\"\" Calculate a matrix containing the activation of all place cells for all times.\n",
    "        Each row represents a place cell, while columns represent the time index.\n",
    "        Both 'pos' and 'pcs' are data frames containing the path and the set of place cells.\n",
    "    \"\"\"\n",
    "    # get number of pcs and position in path\n",
    "    num_pcs = len(pcs)\n",
    "    num_pos = len(path)\n",
    "\n",
    "    # convert data to numpy to operate\n",
    "    radii = pcs['placeradius'].to_numpy()\n",
    "    pcs = pcs[['x', 'y']].to_numpy()\n",
    "    pos = path[['x', 'y']].to_numpy()\n",
    "\n",
    "    # replicate the position vector by the number of place cells for easy operations\n",
    "    pos_tile = pos.reshape(1, -1, 2)\n",
    "    pos_all = np.tile(pos_tile, (num_pcs, 1, 1))\n",
    "\n",
    "    # replicate the place cells and radii by the number of positions for easy operations\n",
    "    pcs_tile = pcs.reshape(-1, 1, 2)\n",
    "    pcs_all = np.tile(pcs_tile, (1, num_pos, 1))\n",
    "    radii_all = np.tile(radii.reshape((-1, 1)), (1, num_pos))\n",
    "\n",
    "    # calculate the activations (see description of formula at the top of this file)\n",
    "    delta = pos_all - pcs_all\n",
    "    delta2 = (delta * delta).sum(2)\n",
    "    r2 = radii_all * radii_all\n",
    "    exponents = np.log(PC_VALUE_AT_RADIUS) * delta2 / r2\n",
    "    activations = np.exp(exponents)\n",
    "    return activations\n",
    "\n",
    "\n",
    "def plot_paths_and_activations(pcs, sequence, activations, save_name, compare_sequence = None, title='', output_folder=''):\n",
    "    \"\"\"\n",
    "        Creates figures with two subplots.\n",
    "        Left plot shows heatmap representing the activation of the sequence vs time.\n",
    "        Right plot shows the place cells in space, and the sequence path.\n",
    "        If a compare sequence is given, the right plot also includes a second sequence to compare to\n",
    "    \"\"\"\n",
    "    # create ouput folder if it doesnt exist:\n",
    "    make_dirs(output_folder)\n",
    "    \n",
    "    fig, axs = plt.subplots(1, 2 )\n",
    "    fig.suptitle(title)\n",
    "    f1 = axs[0]\n",
    "    f2 = axs[1]\n",
    "    f2.autoscale(enable=True)\n",
    "    f2.set_aspect('equal')\n",
    "    plot_activation_matrix_heatmap(activations, plot=f1)\n",
    "\n",
    "    plot_place_cells(pcs, plot=f2)  # add place cells to figure\n",
    "#    plot_maze(plot=f2)\n",
    "    if compare_sequence is not None:\n",
    "        plot_path(compare_sequence, plot=f2)\n",
    "    plot_path(sequence, plot=f2)\n",
    "#    plot_feeders(feeders, plot=f2, s=80, zorder=2)  # zorder can be used to move the layer up or down\n",
    "    plt.savefig(output_folder + save_name, dpi = 1200)\n",
    "    \n",
    "    return fig\n",
    "\n",
    "\n",
    "def cos_sim(v1, v2):\n",
    "    \"\"\"\n",
    "        Returns the cosine similitude between two vectors\n",
    "    \"\"\"\n",
    "    return np.dot(v1, v2) / (norm(v1) * norm(v2))\n",
    "\n",
    "\n",
    "def create_and_train_reservoir(activations):\n",
    "    \"\"\"\n",
    "        Creates and trains the reservoir network.\n",
    "        Activation sequences is used as input and expected output of the network.\n",
    "        Rows are expected to be place cells, while columns are expected to represent time indeces\n",
    "    \"\"\"\n",
    "    \n",
    "    # initialize random seed, and set reservoir dimensions\n",
    "    np.random.seed(1)\n",
    "    vectorDim = len(activations) # reservoir input dimension\n",
    "    numNode = 400   # number of reservoir nodes\n",
    "\n",
    "    # create training input and output sets, augment it 2^10 times: \n",
    "    inputDataTraining = activations.T \n",
    "    outputDataTraining = activations.T\n",
    "    print('activation shape:', activations.shape) \n",
    "    print('input data shape:', inputDataTraining.shape)\n",
    "\n",
    "    # augment data by concatenating 2^10 times\n",
    "    inputDataTraining = np.concatenate( [ inputDataTraining ] * 1024, axis = 0 )\n",
    "    outputDataTraining=inputDataTraining\n",
    "    print('augmented data shape:', inputDataTraining.shape)\n",
    "\n",
    "    # create and train network: \n",
    "    esn = PredictionESN(n_input=vectorDim, n_output=vectorDim, n_reservoir=numNode, leakingRate=0.05, regressionParameters=[1e-2], solver=\"lsqr\", feedback=False)\n",
    "    esn.fit(inputDataTraining, outputDataTraining, transientTime=\"Auto\", verbose=1)\n",
    "    return esn\n",
    "\n",
    "def predict_reservoir(trained_reservoir, activations, continuation=False):\n",
    "    \"\"\"\n",
    "        Uses the trained reservoir to predict using the activations as input\n",
    "        Activations should be a matrix with rows indicating pcs and columns indicating time\n",
    "        Resturns only the last few states\n",
    "    \"\"\"\n",
    "    prediction, reservoirStatesBuffer = trained_reservoir.predict(activations.T, continuation=continuation)\n",
    "    # print(reservoirStatesBuffer.shape)\n",
    "    return prediction, reservoirStatesBuffer[257:,:].T\n",
    "\n",
    "def plot_can_reservoir_distinguish_sequences( activations, states, integrators, input_similitudes, state_similitudes, integrator_similitudes, s1, s2, output_folder=''):\n",
    "    \"\"\"\n",
    "        Generates a plot with 6 subplots\n",
    "    \"\"\"\n",
    "    \n",
    "    fig= plt.figure(figsize=(10,10))\n",
    "    fig.suptitle(f'Sequences: {s1} VS {s2}')\n",
    "    #fig.suptitle('State Trajectories', fontsize=16)\n",
    "    #fig.suptitle('State Trajectories')\n",
    "\n",
    "    plt.subplot(331)\n",
    "    plt.title('Input Temporal Structure 1')\n",
    "    #plt.plot( inputDataTesting[:76,:])\n",
    "    #sns.heatmap(activations, cmap=\"seismic\")\n",
    "    sns.heatmap(activations[s1])\n",
    "    #plt.ylim([-1.1,1])\n",
    "    \n",
    "    plt.subplot(334)\n",
    "    plt.title('Input Temporal Structure 2')\n",
    "    #plt.plot( inputDataTesting2[:76,:])\n",
    "    #sns.heatmap(activations2, vmin=0.4, vmax=1)\n",
    "    sns.heatmap(activations[s2])\n",
    "    #plt.ylim([-1.1,1])\n",
    "   \n",
    "\n",
    "\n",
    "    plt.subplot(337)\n",
    "    plt.title('Inputs Cosine Similarity')\n",
    "    plt.plot( input_similitudes[s1][s2])\n",
    "    plt.ylim([0,1.1])\n",
    "\n",
    "    plt.subplot(338)\n",
    "    plt.title('Reservoir States Cosine Similarity')\n",
    "    plt.plot( state_similitudes[s1][s2])\n",
    "    plt.ylim([0,1.1])\n",
    "    \n",
    "    plt.subplot(339)\n",
    "    plt.title('Integrator States Cosine Similarity')\n",
    "    plt.plot( integrator_similitudes[s1][s2])\n",
    "    plt.ylim([0,1.1])\n",
    "\n",
    "\n",
    "    # Following we plot the reservoir temporal structure, we can simplify printing only the first 10 states\n",
    "    resn = 10\n",
    "    plt.subplot(332)\n",
    "    plt.title('Reservoir States Temporal Structure 1')\n",
    "    plt.plot( states[s1][s1][:,:resn])\n",
    "    #plt.plot( inputDataTestingA[:,:5])\n",
    "    plt.ylim([-1.1,1])\n",
    "    \n",
    "    plt.subplot(335)\n",
    "    plt.title('Reservoir States Temporal Structure 2')\n",
    "    plt.plot( states[s1][s2][:,:resn])\n",
    "    #plt.plot( inputDataTestingB[:,:5])\n",
    "    plt.ylim([-1.1,1])\n",
    "    \n",
    "    \n",
    "    resn = 256\n",
    "    plt.subplot(333)\n",
    "    plt.title('Integrator States Temporal Structure 1')\n",
    "    plt.plot( integrators[s1][:,:resn])\n",
    "    #plt.plot( inputDataTestingA[:,:5])\n",
    "    # plt.ylim([-1.1,1])\n",
    "    \n",
    "    plt.subplot(336)\n",
    "    plt.title('Integrator States Temporal Structure 2')\n",
    "    plt.plot( integrators[s2][:,:resn])\n",
    "    #plt.plot( inputDataTestingB[:,:5])\n",
    "    # plt.ylim([-1.1,1])\n",
    "    \n",
    "\n",
    "    fig.tight_layout()\n",
    "    plt.savefig(output_folder + f'reservoirstates-Y-simplified_{s1}_{s2}.png')\n",
    "    return fig\n",
    "     \n",
    "    \n",
    "def make_dirs(folder):\n",
    "    if not os.path.exists(folder):\n",
    "        os.makedirs(folder)\n",
    "        \n",
    "def create_empty_tabs(names):\n",
    "    %matplotlib inline\n",
    "    tabs = { n : widgets.Output() for n in names}\n",
    "    tab_widget = widgets.Tab(children = list(tabs.values()))\n",
    "    names = list(tabs.keys())\n",
    "    for i in range(len(names)):\n",
    "        tab_widget.set_title(i, names[i])\n",
    "    display(tab_widget)\n",
    "    return tabs\n",
    "        \n",
    "def create_or_add_to_tab_display(data, tab_widget=None):\n",
    "    %matplotlib inline\n",
    "    # get data to be displayed\n",
    "    tab_names = list(data)\n",
    "    tab_data = list(data.values())\n",
    "\n",
    "    # if tab widget not yet created, create it:\n",
    "    if tab_widget is None:\n",
    "        tab_widget = widgets.Tab(children = [ widgets.Output() for t in tab_names ])\n",
    "        for i in range(len(tab_names)):\n",
    "            tab_widget.set_title(i, tab_names[i])\n",
    "    \n",
    "    for i in range(len(tab_names)):\n",
    "        with tab_widget.children[i]:\n",
    "            display(tab_data[i])\n",
    "            \n",
    "    return tab_widget       \n",
    "        \n",
    "def linear_integrator_states(data, past_coef, present_coef):\n",
    "    result = np.zeros(data.shape)\n",
    "    result[0] = data[0]\n",
    "    for i in range(1,len(data)):\n",
    "        result[i] = result[i-1]*past_coef + data[i]*present_coef\n",
    "    return result\n",
    "\n",
    "def constant_map(groups, value):\n",
    "    return {g:value for g in groups}\n",
    "\n"
   ]
  },
  {
   "cell_type": "markdown",
   "metadata": {
    "tags": []
   },
   "source": [
    "# PREPROCESS ROBOT SEQUENCES"
   ]
  },
  {
   "cell_type": "code",
   "execution_count": 2,
   "metadata": {
    "tags": []
   },
   "outputs": [],
   "source": [
    "# INVERT AND STORE INVERTED ROBOT SEQUENCES\n",
    "input_folder  = 'input/robot_recordings/' \n",
    "output_folder = 'input/robot_recordings/inverted/'\n",
    "make_dirs(output_folder)\n",
    "files = list_files(input_folder, '.csv')\n",
    "\n",
    "def read_invert_save(input_folder, output_folder, file):\n",
    "    data = pd.read_csv(input_folder + f)\n",
    "    data2 = data.reindex(index=data.index[::-1]).reset_index(drop=True)\n",
    "    data2.to_csv(output_folder + f, index=False)\n",
    "    \n",
    "for f in files:\n",
    "    read_invert_save(input_folder, output_folder, f)\n",
    "    "
   ]
  },
  {
   "cell_type": "markdown",
   "metadata": {
    "tags": []
   },
   "source": [
    "# LOAD SEQUENCES AND CALCULATE ACTIVATIONS"
   ]
  },
  {
   "cell_type": "code",
   "execution_count": 3,
   "metadata": {
    "tags": []
   },
   "outputs": [
    {
     "data": {
      "text/markdown": [
       "## Average distance between samples in robot paths:"
      ],
      "text/plain": [
       "<IPython.core.display.Markdown object>"
      ]
     },
     "metadata": {},
     "output_type": "display_data"
    },
    {
     "data": {
      "text/plain": [
       "{'fss_0': 0.10172203909764774,\n",
       " 'fss_1': 0.10024876655448742,\n",
       " 'kkk_0': 0.1037335119470402,\n",
       " 'kkk_1': 0.10272399158152683,\n",
       " 'sfs_0': 0.10098300073848074,\n",
       " 'sfs_1': 0.10472721395373853}"
      ]
     },
     "metadata": {},
     "output_type": "display_data"
    },
    {
     "data": {
      "text/markdown": [
       "## Paths and activations (may take some time)..."
      ],
      "text/plain": [
       "<IPython.core.display.Markdown object>"
      ]
     },
     "metadata": {},
     "output_type": "display_data"
    },
    {
     "data": {
      "application/vnd.jupyter.widget-view+json": {
       "model_id": "404f2ff653d04ab2aef07b8aff58647f",
       "version_major": 2,
       "version_minor": 0
      },
      "text/plain": [
       "Tab(children=(Output(), Output(), Output(), Output(), Output(), Output(), Output(), Output(), Output(), Output…"
      ]
     },
     "metadata": {},
     "output_type": "display_data"
    }
   ],
   "source": [
    "# FOLDERS \n",
    "folder_generators = 'input/'                           # folder where synthetic trajectory generators are stored\n",
    "folder_recordings = 'input/robot_recordings/'          # folder where robot paths are stored\n",
    "folder_inverted   = 'input/robot_recordings/inverted/' # folder where inverted robot paths are stored\n",
    "\n",
    "# GLOBAL VARIABLES\n",
    "paths = {} # dictionary of data frames representing paths\n",
    "activations = {} # history of place cell activations for each path in 'paths'\n",
    "\n",
    "# SYNTHETIC PATH GENERATOR FILES\n",
    "y_a = 'path-y-a'\n",
    "y_b = 'path-y-b'\n",
    "syn_fss = 'syn-fss'\n",
    "syn_sfs = 'syn-sfs'\n",
    "syn_mmm = 'syn-mmm'\n",
    "\n",
    "# LOAD PLACE CELLS AND FEEDERS\n",
    "pcs = load_place_cells('input/placecells.csv')\n",
    "abcde = load_path('input/abcde.csv')\n",
    "feeders = load_feeders('input/feeders.csv')\n",
    "\n",
    "\n",
    "# LOAD AND GENERATE SYNTHETIC PATHS\n",
    "synthetic_set1 = [ y_a, y_b ]\n",
    "synthetic_set2 = [ syn_fss, syn_sfs, syn_mmm ]\n",
    "paths.update({ f : generate_path(load_generator(folder_generators + f)) for f in synthetic_set1 + synthetic_set2 })\n",
    "\n",
    "\n",
    "# LOAD ROBOT PATHS\n",
    "paths_robot = { f[-9:-4] : pd.read_csv(folder_recordings + f)[['x','y']].copy()  for f in list_files(folder_recordings, '.csv') }\n",
    "paths_robot_inverted = { f'{f[-9:-4]}_inverted' : pd.read_csv(folder_inverted + f)[['x','y']].copy()  for f in list_files(folder_inverted, '.csv') }\n",
    "padded = pad_all_sequences(paths_robot)\n",
    "padded_inverted = pad_all_sequences(paths_robot_inverted)\n",
    "paths.update( padded )\n",
    "paths.update( padded_inverted  )\n",
    "\n",
    "\n",
    "# CALCULATE AND PRINT MEAN DISTANCE BETWEEN SAMPLES IN ROBOT PATHS\n",
    "robot_mean_distances = { k : calculate_sequence_mean_displacement(s) for k, s in paths_robot.items()} # need to use unpadded sequences, else averages extra zeros\n",
    "display(Markdown('## Average distance between samples in robot paths:'))\n",
    "display(robot_mean_distances)\n",
    "\n",
    "# CALCULATE PC ACTIVATIONS FOR EACH PATH\n",
    "activations.update({ k : calc_activation_matrix(p, pcs) for k, p in paths.items() })\n",
    "\n",
    "\n",
    "# DEFINE DATASETS (groups of sequences for different experiments)\n",
    "data_sets = {\n",
    "    'synthetic1' : synthetic_set1, \n",
    "    'synthetic2' : synthetic_set2, \n",
    "    'robot' : list(paths_robot.keys()),  \n",
    "    'robot_inverted' : list(paths_robot_inverted.keys())\n",
    "}\n",
    "\n",
    "\n",
    "# PLOT PATHS AND ACTIVATIONS\n",
    "display(Markdown('## Paths and activations (may take some time)...'))\n",
    "save_folder = 'images/path_and_activations/'\n",
    "figures_PA =  { k:plot_paths_and_activations(pcs, p, activations[k], f'path_and_activation_{k}.png', title = f'Sequence {k}', output_folder = save_folder) \n",
    "                for k, p in paths.items() }\n",
    "\n",
    "tab_widget = create_or_add_to_tab_display(figures_PA) # {y_a:f1, y_b:f2})\n",
    "\n",
    "display(tab_widget)\n"
   ]
  },
  {
   "cell_type": "markdown",
   "metadata": {
    "tags": []
   },
   "source": [
    "## PLOT INTERACTIVE PATH POINTS"
   ]
  },
  {
   "cell_type": "code",
   "execution_count": 4,
   "metadata": {},
   "outputs": [
    {
     "data": {
      "text/html": [
       "\n",
       "    <div class=\"bk-root\">\n",
       "        <a href=\"https://bokeh.org\" target=\"_blank\" class=\"bk-logo bk-logo-small bk-logo-notebook\"></a>\n",
       "        <span id=\"1002\">Loading BokehJS ...</span>\n",
       "    </div>"
      ]
     },
     "metadata": {},
     "output_type": "display_data"
    },
    {
     "data": {
      "application/javascript": [
       "\n",
       "(function(root) {\n",
       "  function now() {\n",
       "    return new Date();\n",
       "  }\n",
       "\n",
       "  const force = true;\n",
       "\n",
       "  if (typeof root._bokeh_onload_callbacks === \"undefined\" || force === true) {\n",
       "    root._bokeh_onload_callbacks = [];\n",
       "    root._bokeh_is_loading = undefined;\n",
       "  }\n",
       "\n",
       "  const JS_MIME_TYPE = 'application/javascript';\n",
       "  const HTML_MIME_TYPE = 'text/html';\n",
       "  const EXEC_MIME_TYPE = 'application/vnd.bokehjs_exec.v0+json';\n",
       "  const CLASS_NAME = 'output_bokeh rendered_html';\n",
       "\n",
       "  /**\n",
       "   * Render data to the DOM node\n",
       "   */\n",
       "  function render(props, node) {\n",
       "    const script = document.createElement(\"script\");\n",
       "    node.appendChild(script);\n",
       "  }\n",
       "\n",
       "  /**\n",
       "   * Handle when an output is cleared or removed\n",
       "   */\n",
       "  function handleClearOutput(event, handle) {\n",
       "    const cell = handle.cell;\n",
       "\n",
       "    const id = cell.output_area._bokeh_element_id;\n",
       "    const server_id = cell.output_area._bokeh_server_id;\n",
       "    // Clean up Bokeh references\n",
       "    if (id != null && id in Bokeh.index) {\n",
       "      Bokeh.index[id].model.document.clear();\n",
       "      delete Bokeh.index[id];\n",
       "    }\n",
       "\n",
       "    if (server_id !== undefined) {\n",
       "      // Clean up Bokeh references\n",
       "      const cmd_clean = \"from bokeh.io.state import curstate; print(curstate().uuid_to_server['\" + server_id + \"'].get_sessions()[0].document.roots[0]._id)\";\n",
       "      cell.notebook.kernel.execute(cmd_clean, {\n",
       "        iopub: {\n",
       "          output: function(msg) {\n",
       "            const id = msg.content.text.trim();\n",
       "            if (id in Bokeh.index) {\n",
       "              Bokeh.index[id].model.document.clear();\n",
       "              delete Bokeh.index[id];\n",
       "            }\n",
       "          }\n",
       "        }\n",
       "      });\n",
       "      // Destroy server and session\n",
       "      const cmd_destroy = \"import bokeh.io.notebook as ion; ion.destroy_server('\" + server_id + \"')\";\n",
       "      cell.notebook.kernel.execute(cmd_destroy);\n",
       "    }\n",
       "  }\n",
       "\n",
       "  /**\n",
       "   * Handle when a new output is added\n",
       "   */\n",
       "  function handleAddOutput(event, handle) {\n",
       "    const output_area = handle.output_area;\n",
       "    const output = handle.output;\n",
       "\n",
       "    // limit handleAddOutput to display_data with EXEC_MIME_TYPE content only\n",
       "    if ((output.output_type != \"display_data\") || (!Object.prototype.hasOwnProperty.call(output.data, EXEC_MIME_TYPE))) {\n",
       "      return\n",
       "    }\n",
       "\n",
       "    const toinsert = output_area.element.find(\".\" + CLASS_NAME.split(' ')[0]);\n",
       "\n",
       "    if (output.metadata[EXEC_MIME_TYPE][\"id\"] !== undefined) {\n",
       "      toinsert[toinsert.length - 1].firstChild.textContent = output.data[JS_MIME_TYPE];\n",
       "      // store reference to embed id on output_area\n",
       "      output_area._bokeh_element_id = output.metadata[EXEC_MIME_TYPE][\"id\"];\n",
       "    }\n",
       "    if (output.metadata[EXEC_MIME_TYPE][\"server_id\"] !== undefined) {\n",
       "      const bk_div = document.createElement(\"div\");\n",
       "      bk_div.innerHTML = output.data[HTML_MIME_TYPE];\n",
       "      const script_attrs = bk_div.children[0].attributes;\n",
       "      for (let i = 0; i < script_attrs.length; i++) {\n",
       "        toinsert[toinsert.length - 1].firstChild.setAttribute(script_attrs[i].name, script_attrs[i].value);\n",
       "        toinsert[toinsert.length - 1].firstChild.textContent = bk_div.children[0].textContent\n",
       "      }\n",
       "      // store reference to server id on output_area\n",
       "      output_area._bokeh_server_id = output.metadata[EXEC_MIME_TYPE][\"server_id\"];\n",
       "    }\n",
       "  }\n",
       "\n",
       "  function register_renderer(events, OutputArea) {\n",
       "\n",
       "    function append_mime(data, metadata, element) {\n",
       "      // create a DOM node to render to\n",
       "      const toinsert = this.create_output_subarea(\n",
       "        metadata,\n",
       "        CLASS_NAME,\n",
       "        EXEC_MIME_TYPE\n",
       "      );\n",
       "      this.keyboard_manager.register_events(toinsert);\n",
       "      // Render to node\n",
       "      const props = {data: data, metadata: metadata[EXEC_MIME_TYPE]};\n",
       "      render(props, toinsert[toinsert.length - 1]);\n",
       "      element.append(toinsert);\n",
       "      return toinsert\n",
       "    }\n",
       "\n",
       "    /* Handle when an output is cleared or removed */\n",
       "    events.on('clear_output.CodeCell', handleClearOutput);\n",
       "    events.on('delete.Cell', handleClearOutput);\n",
       "\n",
       "    /* Handle when a new output is added */\n",
       "    events.on('output_added.OutputArea', handleAddOutput);\n",
       "\n",
       "    /**\n",
       "     * Register the mime type and append_mime function with output_area\n",
       "     */\n",
       "    OutputArea.prototype.register_mime_type(EXEC_MIME_TYPE, append_mime, {\n",
       "      /* Is output safe? */\n",
       "      safe: true,\n",
       "      /* Index of renderer in `output_area.display_order` */\n",
       "      index: 0\n",
       "    });\n",
       "  }\n",
       "\n",
       "  // register the mime type if in Jupyter Notebook environment and previously unregistered\n",
       "  if (root.Jupyter !== undefined) {\n",
       "    const events = require('base/js/events');\n",
       "    const OutputArea = require('notebook/js/outputarea').OutputArea;\n",
       "\n",
       "    if (OutputArea.prototype.mime_types().indexOf(EXEC_MIME_TYPE) == -1) {\n",
       "      register_renderer(events, OutputArea);\n",
       "    }\n",
       "  }\n",
       "\n",
       "  \n",
       "  if (typeof (root._bokeh_timeout) === \"undefined\" || force === true) {\n",
       "    root._bokeh_timeout = Date.now() + 5000;\n",
       "    root._bokeh_failed_load = false;\n",
       "  }\n",
       "\n",
       "  const NB_LOAD_WARNING = {'data': {'text/html':\n",
       "     \"<div style='background-color: #fdd'>\\n\"+\n",
       "     \"<p>\\n\"+\n",
       "     \"BokehJS does not appear to have successfully loaded. If loading BokehJS from CDN, this \\n\"+\n",
       "     \"may be due to a slow or bad network connection. Possible fixes:\\n\"+\n",
       "     \"</p>\\n\"+\n",
       "     \"<ul>\\n\"+\n",
       "     \"<li>re-rerun `output_notebook()` to attempt to load from CDN again, or</li>\\n\"+\n",
       "     \"<li>use INLINE resources instead, as so:</li>\\n\"+\n",
       "     \"</ul>\\n\"+\n",
       "     \"<code>\\n\"+\n",
       "     \"from bokeh.resources import INLINE\\n\"+\n",
       "     \"output_notebook(resources=INLINE)\\n\"+\n",
       "     \"</code>\\n\"+\n",
       "     \"</div>\"}};\n",
       "\n",
       "  function display_loaded() {\n",
       "    const el = document.getElementById(\"1002\");\n",
       "    if (el != null) {\n",
       "      el.textContent = \"BokehJS is loading...\";\n",
       "    }\n",
       "    if (root.Bokeh !== undefined) {\n",
       "      if (el != null) {\n",
       "        el.textContent = \"BokehJS \" + root.Bokeh.version + \" successfully loaded.\";\n",
       "      }\n",
       "    } else if (Date.now() < root._bokeh_timeout) {\n",
       "      setTimeout(display_loaded, 100)\n",
       "    }\n",
       "  }\n",
       "\n",
       "\n",
       "  function run_callbacks() {\n",
       "    try {\n",
       "      root._bokeh_onload_callbacks.forEach(function(callback) {\n",
       "        if (callback != null)\n",
       "          callback();\n",
       "      });\n",
       "    } finally {\n",
       "      delete root._bokeh_onload_callbacks\n",
       "    }\n",
       "    console.debug(\"Bokeh: all callbacks have finished\");\n",
       "  }\n",
       "\n",
       "  function load_libs(css_urls, js_urls, callback) {\n",
       "    if (css_urls == null) css_urls = [];\n",
       "    if (js_urls == null) js_urls = [];\n",
       "\n",
       "    root._bokeh_onload_callbacks.push(callback);\n",
       "    if (root._bokeh_is_loading > 0) {\n",
       "      console.debug(\"Bokeh: BokehJS is being loaded, scheduling callback at\", now());\n",
       "      return null;\n",
       "    }\n",
       "    if (js_urls == null || js_urls.length === 0) {\n",
       "      run_callbacks();\n",
       "      return null;\n",
       "    }\n",
       "    console.debug(\"Bokeh: BokehJS not loaded, scheduling load and callback at\", now());\n",
       "    root._bokeh_is_loading = css_urls.length + js_urls.length;\n",
       "\n",
       "    function on_load() {\n",
       "      root._bokeh_is_loading--;\n",
       "      if (root._bokeh_is_loading === 0) {\n",
       "        console.debug(\"Bokeh: all BokehJS libraries/stylesheets loaded\");\n",
       "        run_callbacks()\n",
       "      }\n",
       "    }\n",
       "\n",
       "    function on_error(url) {\n",
       "      console.error(\"failed to load \" + url);\n",
       "    }\n",
       "\n",
       "    for (let i = 0; i < css_urls.length; i++) {\n",
       "      const url = css_urls[i];\n",
       "      const element = document.createElement(\"link\");\n",
       "      element.onload = on_load;\n",
       "      element.onerror = on_error.bind(null, url);\n",
       "      element.rel = \"stylesheet\";\n",
       "      element.type = \"text/css\";\n",
       "      element.href = url;\n",
       "      console.debug(\"Bokeh: injecting link tag for BokehJS stylesheet: \", url);\n",
       "      document.body.appendChild(element);\n",
       "    }\n",
       "\n",
       "    for (let i = 0; i < js_urls.length; i++) {\n",
       "      const url = js_urls[i];\n",
       "      const element = document.createElement('script');\n",
       "      element.onload = on_load;\n",
       "      element.onerror = on_error.bind(null, url);\n",
       "      element.async = false;\n",
       "      element.src = url;\n",
       "      console.debug(\"Bokeh: injecting script tag for BokehJS library: \", url);\n",
       "      document.head.appendChild(element);\n",
       "    }\n",
       "  };\n",
       "\n",
       "  function inject_raw_css(css) {\n",
       "    const element = document.createElement(\"style\");\n",
       "    element.appendChild(document.createTextNode(css));\n",
       "    document.body.appendChild(element);\n",
       "  }\n",
       "\n",
       "  \n",
       "  const js_urls = [\"https://cdn.bokeh.org/bokeh/release/bokeh-2.4.2.min.js\", \"https://cdn.bokeh.org/bokeh/release/bokeh-gl-2.4.2.min.js\", \"https://cdn.bokeh.org/bokeh/release/bokeh-widgets-2.4.2.min.js\", \"https://cdn.bokeh.org/bokeh/release/bokeh-tables-2.4.2.min.js\", \"https://cdn.bokeh.org/bokeh/release/bokeh-mathjax-2.4.2.min.js\"];\n",
       "  const css_urls = [];\n",
       "  \n",
       "\n",
       "  const inline_js = [\n",
       "    function(Bokeh) {\n",
       "      Bokeh.set_log_level(\"info\");\n",
       "    },\n",
       "    function(Bokeh) {\n",
       "    \n",
       "    \n",
       "    }\n",
       "  ];\n",
       "\n",
       "  function run_inline_js() {\n",
       "    \n",
       "    if (root.Bokeh !== undefined || force === true) {\n",
       "      \n",
       "    for (let i = 0; i < inline_js.length; i++) {\n",
       "      inline_js[i].call(root, root.Bokeh);\n",
       "    }\n",
       "    if (force === true) {\n",
       "        display_loaded();\n",
       "      }} else if (Date.now() < root._bokeh_timeout) {\n",
       "      setTimeout(run_inline_js, 100);\n",
       "    } else if (!root._bokeh_failed_load) {\n",
       "      console.log(\"Bokeh: BokehJS failed to load within specified timeout.\");\n",
       "      root._bokeh_failed_load = true;\n",
       "    } else if (force !== true) {\n",
       "      const cell = $(document.getElementById(\"1002\")).parents('.cell').data().cell;\n",
       "      cell.output_area.append_execute_result(NB_LOAD_WARNING)\n",
       "    }\n",
       "\n",
       "  }\n",
       "\n",
       "  if (root._bokeh_is_loading === 0) {\n",
       "    console.debug(\"Bokeh: BokehJS loaded, going straight to plotting\");\n",
       "    run_inline_js();\n",
       "  } else {\n",
       "    load_libs(css_urls, js_urls, function() {\n",
       "      console.debug(\"Bokeh: BokehJS plotting callback run at\", now());\n",
       "      run_inline_js();\n",
       "    });\n",
       "  }\n",
       "}(window));"
      ],
      "application/vnd.bokehjs_load.v0+json": "\n(function(root) {\n  function now() {\n    return new Date();\n  }\n\n  const force = true;\n\n  if (typeof root._bokeh_onload_callbacks === \"undefined\" || force === true) {\n    root._bokeh_onload_callbacks = [];\n    root._bokeh_is_loading = undefined;\n  }\n\n  \n\n  \n  if (typeof (root._bokeh_timeout) === \"undefined\" || force === true) {\n    root._bokeh_timeout = Date.now() + 5000;\n    root._bokeh_failed_load = false;\n  }\n\n  const NB_LOAD_WARNING = {'data': {'text/html':\n     \"<div style='background-color: #fdd'>\\n\"+\n     \"<p>\\n\"+\n     \"BokehJS does not appear to have successfully loaded. If loading BokehJS from CDN, this \\n\"+\n     \"may be due to a slow or bad network connection. Possible fixes:\\n\"+\n     \"</p>\\n\"+\n     \"<ul>\\n\"+\n     \"<li>re-rerun `output_notebook()` to attempt to load from CDN again, or</li>\\n\"+\n     \"<li>use INLINE resources instead, as so:</li>\\n\"+\n     \"</ul>\\n\"+\n     \"<code>\\n\"+\n     \"from bokeh.resources import INLINE\\n\"+\n     \"output_notebook(resources=INLINE)\\n\"+\n     \"</code>\\n\"+\n     \"</div>\"}};\n\n  function display_loaded() {\n    const el = document.getElementById(\"1002\");\n    if (el != null) {\n      el.textContent = \"BokehJS is loading...\";\n    }\n    if (root.Bokeh !== undefined) {\n      if (el != null) {\n        el.textContent = \"BokehJS \" + root.Bokeh.version + \" successfully loaded.\";\n      }\n    } else if (Date.now() < root._bokeh_timeout) {\n      setTimeout(display_loaded, 100)\n    }\n  }\n\n\n  function run_callbacks() {\n    try {\n      root._bokeh_onload_callbacks.forEach(function(callback) {\n        if (callback != null)\n          callback();\n      });\n    } finally {\n      delete root._bokeh_onload_callbacks\n    }\n    console.debug(\"Bokeh: all callbacks have finished\");\n  }\n\n  function load_libs(css_urls, js_urls, callback) {\n    if (css_urls == null) css_urls = [];\n    if (js_urls == null) js_urls = [];\n\n    root._bokeh_onload_callbacks.push(callback);\n    if (root._bokeh_is_loading > 0) {\n      console.debug(\"Bokeh: BokehJS is being loaded, scheduling callback at\", now());\n      return null;\n    }\n    if (js_urls == null || js_urls.length === 0) {\n      run_callbacks();\n      return null;\n    }\n    console.debug(\"Bokeh: BokehJS not loaded, scheduling load and callback at\", now());\n    root._bokeh_is_loading = css_urls.length + js_urls.length;\n\n    function on_load() {\n      root._bokeh_is_loading--;\n      if (root._bokeh_is_loading === 0) {\n        console.debug(\"Bokeh: all BokehJS libraries/stylesheets loaded\");\n        run_callbacks()\n      }\n    }\n\n    function on_error(url) {\n      console.error(\"failed to load \" + url);\n    }\n\n    for (let i = 0; i < css_urls.length; i++) {\n      const url = css_urls[i];\n      const element = document.createElement(\"link\");\n      element.onload = on_load;\n      element.onerror = on_error.bind(null, url);\n      element.rel = \"stylesheet\";\n      element.type = \"text/css\";\n      element.href = url;\n      console.debug(\"Bokeh: injecting link tag for BokehJS stylesheet: \", url);\n      document.body.appendChild(element);\n    }\n\n    for (let i = 0; i < js_urls.length; i++) {\n      const url = js_urls[i];\n      const element = document.createElement('script');\n      element.onload = on_load;\n      element.onerror = on_error.bind(null, url);\n      element.async = false;\n      element.src = url;\n      console.debug(\"Bokeh: injecting script tag for BokehJS library: \", url);\n      document.head.appendChild(element);\n    }\n  };\n\n  function inject_raw_css(css) {\n    const element = document.createElement(\"style\");\n    element.appendChild(document.createTextNode(css));\n    document.body.appendChild(element);\n  }\n\n  \n  const js_urls = [\"https://cdn.bokeh.org/bokeh/release/bokeh-2.4.2.min.js\", \"https://cdn.bokeh.org/bokeh/release/bokeh-gl-2.4.2.min.js\", \"https://cdn.bokeh.org/bokeh/release/bokeh-widgets-2.4.2.min.js\", \"https://cdn.bokeh.org/bokeh/release/bokeh-tables-2.4.2.min.js\", \"https://cdn.bokeh.org/bokeh/release/bokeh-mathjax-2.4.2.min.js\"];\n  const css_urls = [];\n  \n\n  const inline_js = [\n    function(Bokeh) {\n      Bokeh.set_log_level(\"info\");\n    },\n    function(Bokeh) {\n    \n    \n    }\n  ];\n\n  function run_inline_js() {\n    \n    if (root.Bokeh !== undefined || force === true) {\n      \n    for (let i = 0; i < inline_js.length; i++) {\n      inline_js[i].call(root, root.Bokeh);\n    }\n    if (force === true) {\n        display_loaded();\n      }} else if (Date.now() < root._bokeh_timeout) {\n      setTimeout(run_inline_js, 100);\n    } else if (!root._bokeh_failed_load) {\n      console.log(\"Bokeh: BokehJS failed to load within specified timeout.\");\n      root._bokeh_failed_load = true;\n    } else if (force !== true) {\n      const cell = $(document.getElementById(\"1002\")).parents('.cell').data().cell;\n      cell.output_area.append_execute_result(NB_LOAD_WARNING)\n    }\n\n  }\n\n  if (root._bokeh_is_loading === 0) {\n    console.debug(\"Bokeh: BokehJS loaded, going straight to plotting\");\n    run_inline_js();\n  } else {\n    load_libs(css_urls, js_urls, function() {\n      console.debug(\"Bokeh: BokehJS plotting callback run at\", now());\n      run_inline_js();\n    });\n  }\n}(window));"
     },
     "metadata": {},
     "output_type": "display_data"
    },
    {
     "data": {
      "application/vnd.jupyter.widget-view+json": {
       "model_id": "be2e78912fe74336b53e58dd761393a9",
       "version_major": 2,
       "version_minor": 0
      },
      "text/plain": [
       "Tab(children=(Output(), Output(), Output(), Output(), Output(), Output(), Output(), Output(), Output(), Output…"
      ]
     },
     "metadata": {},
     "output_type": "display_data"
    }
   ],
   "source": [
    "from plotnine import *\n",
    "import pandas_bokeh\n",
    "pandas_bokeh.output_notebook()\n",
    "\n",
    "path_tabs = create_empty_tabs(paths)\n",
    "\n",
    "for k, tab in path_tabs.items():\n",
    "    with tab:\n",
    "        # reset index dropping old values, then add new index column by resetting again\n",
    "        path = paths[k].copy().reset_index(drop=True).reset_index()\n",
    "        hover_string = '''<span style=\"font-size: 15px;\"><b style=\"color:blue;\">id:</b> $index &nbsp \n",
    "        <b style=\"color:blue;\">(x,y):</b> ($x{0.000}, $y{0.000}) </span>\n",
    "        '''\n",
    "        \n",
    "        path.plot_bokeh.scatter(x='x',y='y',id='index', hovertool_string=hover_string)\n",
    "        display(path)\n"
   ]
  },
  {
   "cell_type": "markdown",
   "metadata": {
    "tags": []
   },
   "source": [
    "# COMPARE SEQUENCES"
   ]
  },
  {
   "cell_type": "code",
   "execution_count": 5,
   "metadata": {
    "tags": []
   },
   "outputs": [
    {
     "data": {
      "text/markdown": [
       "## Training 17 networks..."
      ],
      "text/plain": [
       "<IPython.core.display.Markdown object>"
      ]
     },
     "metadata": {},
     "output_type": "display_data"
    },
    {
     "name": "stdout",
     "output_type": "stream",
     "text": [
      "activation shape: (256, 96)\n",
      "input data shape: (96, 256)\n",
      "augmented data shape: (98304, 256)\n"
     ]
    },
    {
     "name": "stderr",
     "output_type": "stream",
     "text": [
      "100% (97883 of 97883) |##################| Elapsed Time: 0:00:18 Time:  0:00:18\n"
     ]
    },
    {
     "name": "stdout",
     "output_type": "stream",
     "text": [
      "activation shape: (256, 96)\n",
      "input data shape: (96, 256)\n",
      "augmented data shape: (98304, 256)\n"
     ]
    },
    {
     "name": "stderr",
     "output_type": "stream",
     "text": [
      "100% (97897 of 97897) |##################| Elapsed Time: 0:00:18 Time:  0:00:18\n"
     ]
    },
    {
     "name": "stdout",
     "output_type": "stream",
     "text": [
      "activation shape: (256, 23)\n",
      "input data shape: (23, 256)\n",
      "augmented data shape: (23552, 256)\n"
     ]
    },
    {
     "name": "stderr",
     "output_type": "stream",
     "text": [
      "100% (23133 of 23133) |##################| Elapsed Time: 0:00:04 Time:  0:00:04\n"
     ]
    },
    {
     "name": "stdout",
     "output_type": "stream",
     "text": [
      "activation shape: (256, 23)\n",
      "input data shape: (23, 256)\n",
      "augmented data shape: (23552, 256)\n"
     ]
    },
    {
     "name": "stderr",
     "output_type": "stream",
     "text": [
      "100% (23134 of 23134) |##################| Elapsed Time: 0:00:04 Time:  0:00:04\n"
     ]
    },
    {
     "name": "stdout",
     "output_type": "stream",
     "text": [
      "activation shape: (256, 23)\n",
      "input data shape: (23, 256)\n",
      "augmented data shape: (23552, 256)\n"
     ]
    },
    {
     "name": "stderr",
     "output_type": "stream",
     "text": [
      "100% (23133 of 23133) |##################| Elapsed Time: 0:00:04 Time:  0:00:04\n"
     ]
    },
    {
     "name": "stdout",
     "output_type": "stream",
     "text": [
      "activation shape: (256, 24)\n",
      "input data shape: (24, 256)\n",
      "augmented data shape: (24576, 256)\n"
     ]
    },
    {
     "name": "stderr",
     "output_type": "stream",
     "text": [
      "100% (24130 of 24130) |##################| Elapsed Time: 0:00:04 Time:  0:00:04\n"
     ]
    },
    {
     "name": "stdout",
     "output_type": "stream",
     "text": [
      "activation shape: (256, 24)\n",
      "input data shape: (24, 256)\n",
      "augmented data shape: (24576, 256)\n"
     ]
    },
    {
     "name": "stderr",
     "output_type": "stream",
     "text": [
      "100% (24137 of 24137) |##################| Elapsed Time: 0:00:04 Time:  0:00:04\n"
     ]
    },
    {
     "name": "stdout",
     "output_type": "stream",
     "text": [
      "activation shape: (256, 24)\n",
      "input data shape: (24, 256)\n",
      "augmented data shape: (24576, 256)\n"
     ]
    },
    {
     "name": "stderr",
     "output_type": "stream",
     "text": [
      "100% (24125 of 24125) |##################| Elapsed Time: 0:00:04 Time:  0:00:04\n"
     ]
    },
    {
     "name": "stdout",
     "output_type": "stream",
     "text": [
      "activation shape: (256, 24)\n",
      "input data shape: (24, 256)\n",
      "augmented data shape: (24576, 256)\n"
     ]
    },
    {
     "name": "stderr",
     "output_type": "stream",
     "text": [
      "100% (24125 of 24125) |##################| Elapsed Time: 0:00:04 Time:  0:00:04\n"
     ]
    },
    {
     "name": "stdout",
     "output_type": "stream",
     "text": [
      "activation shape: (256, 24)\n",
      "input data shape: (24, 256)\n",
      "augmented data shape: (24576, 256)\n"
     ]
    },
    {
     "name": "stderr",
     "output_type": "stream",
     "text": [
      "100% (24131 of 24131) |##################| Elapsed Time: 0:00:04 Time:  0:00:04\n"
     ]
    },
    {
     "name": "stdout",
     "output_type": "stream",
     "text": [
      "activation shape: (256, 24)\n",
      "input data shape: (24, 256)\n",
      "augmented data shape: (24576, 256)\n"
     ]
    },
    {
     "name": "stderr",
     "output_type": "stream",
     "text": [
      "100% (24129 of 24129) |##################| Elapsed Time: 0:00:04 Time:  0:00:04\n"
     ]
    },
    {
     "name": "stdout",
     "output_type": "stream",
     "text": [
      "activation shape: (256, 24)\n",
      "input data shape: (24, 256)\n",
      "augmented data shape: (24576, 256)\n"
     ]
    },
    {
     "name": "stderr",
     "output_type": "stream",
     "text": [
      "100% (24133 of 24133) |##################| Elapsed Time: 0:00:04 Time:  0:00:04\n"
     ]
    },
    {
     "name": "stdout",
     "output_type": "stream",
     "text": [
      "activation shape: (256, 24)\n",
      "input data shape: (24, 256)\n",
      "augmented data shape: (24576, 256)\n"
     ]
    },
    {
     "name": "stderr",
     "output_type": "stream",
     "text": [
      "100% (24138 of 24138) |##################| Elapsed Time: 0:00:04 Time:  0:00:04\n"
     ]
    },
    {
     "name": "stdout",
     "output_type": "stream",
     "text": [
      "activation shape: (256, 24)\n",
      "input data shape: (24, 256)\n",
      "augmented data shape: (24576, 256)\n"
     ]
    },
    {
     "name": "stderr",
     "output_type": "stream",
     "text": [
      "100% (24127 of 24127) |##################| Elapsed Time: 0:00:04 Time:  0:00:04\n"
     ]
    },
    {
     "name": "stdout",
     "output_type": "stream",
     "text": [
      "activation shape: (256, 24)\n",
      "input data shape: (24, 256)\n",
      "augmented data shape: (24576, 256)\n"
     ]
    },
    {
     "name": "stderr",
     "output_type": "stream",
     "text": [
      "100% (24128 of 24128) |##################| Elapsed Time: 0:00:04 Time:  0:00:04\n"
     ]
    },
    {
     "name": "stdout",
     "output_type": "stream",
     "text": [
      "activation shape: (256, 24)\n",
      "input data shape: (24, 256)\n",
      "augmented data shape: (24576, 256)\n"
     ]
    },
    {
     "name": "stderr",
     "output_type": "stream",
     "text": [
      "100% (24132 of 24132) |##################| Elapsed Time: 0:00:04 Time:  0:00:04\n"
     ]
    },
    {
     "name": "stdout",
     "output_type": "stream",
     "text": [
      "activation shape: (256, 24)\n",
      "input data shape: (24, 256)\n",
      "augmented data shape: (24576, 256)\n"
     ]
    },
    {
     "name": "stderr",
     "output_type": "stream",
     "text": [
      "100% (24130 of 24130) |##################| Elapsed Time: 0:00:04 Time:  0:00:04\n"
     ]
    },
    {
     "data": {
      "text/markdown": [
       "## Calculating linear integrators..."
      ],
      "text/plain": [
       "<IPython.core.display.Markdown object>"
      ]
     },
     "metadata": {},
     "output_type": "display_data"
    },
    {
     "data": {
      "text/markdown": [
       "### Predicting with each reservoir..."
      ],
      "text/plain": [
       "<IPython.core.display.Markdown object>"
      ]
     },
     "metadata": {},
     "output_type": "display_data"
    },
    {
     "data": {
      "text/markdown": [
       "### Calculating cosine similitudes..."
      ],
      "text/plain": [
       "<IPython.core.display.Markdown object>"
      ]
     },
     "metadata": {},
     "output_type": "display_data"
    },
    {
     "data": {
      "text/markdown": [
       "## Done"
      ],
      "text/plain": [
       "<IPython.core.display.Markdown object>"
      ]
     },
     "metadata": {},
     "output_type": "display_data"
    }
   ],
   "source": [
    "# create and train reservoir network for each sequence:\n",
    "display(Markdown(f'## Training {len(activations)} networks...'))\n",
    "trained_networks = { k : create_and_train_reservoir(a) for k, a in activations.items() }\n",
    "\n",
    "# create linear integrator for each sequence:\n",
    "display(Markdown(f'## Calculating linear integrators...'))\n",
    "linear_integrators = { k : linear_integrator_states(a.T, 0.95, 1.05) for k, a in activations.items() }\n",
    "\n",
    "# DATA SETS: each sequence must be compared to all sequences in the same data set (we assume the data sets are disjoint)\n",
    "comparison_data = { k : dset for _, dset in data_sets.items() for k in dset }\n",
    "\n",
    "# predict using each reservoir (only predict sequences in same data set)\n",
    "display(Markdown('### Predicting with each reservoir...'))\n",
    "states = {  k1 :  { k2 : predict_reservoir(n, activations[k2], continuation=False)[1] for k2 in comparison_data[k1]} for k1, n in trained_networks.items()  }\n",
    "\n",
    "# # PRINT DEBUG DATA\n",
    "# print('networks:')\n",
    "# display(trained_networks)\n",
    "# print('state shapes:')\n",
    "# display({ k : s.shape for k, s in reservoir_states_training_data.items() } )\n",
    "\n",
    "# calculate the time series of cosine similitudes betweem input sequences and between reservoir state sequences\n",
    "def all_cos_states(states1, states2):\n",
    "    return [ cos_sim(s1, s2) for (s1, s2) in zip(states1, states2) ]\n",
    "\n",
    "display(Markdown('### Calculating cosine similitudes...'))\n",
    "input_similitudes = { k1 : { k2 : all_cos_states(activations[k1].T, activations[k2].T) for k2 in comparison_data[k1] } for k1 in activations.keys()}\n",
    "state_similitudes = { k1 : { k2 : all_cos_states(states[k1][k1], states[k1][k2]) for k2 in comparison_data[k1] } for k1 in activations.keys() }\n",
    "l_int_similitudes = { k1 : { k2 : all_cos_states(linear_integrators[k1], linear_integrators[k2]) for k2 in comparison_data[k1] } for k1 in activations.keys()}\n",
    "    \n",
    "# DEBUG (toggle comment and indentation): \n",
    "# print cosine similitude at start of sequence\n",
    "# cos_sim_states_0 = { k1 : { k2 : s[0] for k2, s in s_map.items() } for k1, s_map in cos_sim_states.items() }\n",
    "# display(cos_sim_states_0)\n",
    "# plt.plot(cos_sim_states['fss_0']['sfs_0'])\n",
    "# plt.ylim([0,1.1])\n",
    "            \n",
    "display(Markdown('## Done'))"
   ]
  },
  {
   "cell_type": "markdown",
   "metadata": {
    "tags": []
   },
   "source": [
    "# PLOT RESULTS"
   ]
  },
  {
   "cell_type": "code",
   "execution_count": 6,
   "metadata": {
    "tags": []
   },
   "outputs": [
    {
     "data": {
      "text/markdown": [
       "## Number of training sequences: 17"
      ],
      "text/plain": [
       "<IPython.core.display.Markdown object>"
      ]
     },
     "metadata": {},
     "output_type": "display_data"
    },
    {
     "data": {
      "text/markdown": [
       "## Training sequence: path-y-a"
      ],
      "text/plain": [
       "<IPython.core.display.Markdown object>"
      ]
     },
     "metadata": {},
     "output_type": "display_data"
    },
    {
     "data": {
      "application/vnd.jupyter.widget-view+json": {
       "model_id": "da74e05c02b74f038e4309d5d161c352",
       "version_major": 2,
       "version_minor": 0
      },
      "text/plain": [
       "Tab(children=(Output(), Output()), _titles={'0': 'path-y-a', '1': 'path-y-b'})"
      ]
     },
     "metadata": {},
     "output_type": "display_data"
    },
    {
     "data": {
      "text/markdown": [
       "## Training sequence: path-y-b"
      ],
      "text/plain": [
       "<IPython.core.display.Markdown object>"
      ]
     },
     "metadata": {},
     "output_type": "display_data"
    },
    {
     "data": {
      "application/vnd.jupyter.widget-view+json": {
       "model_id": "a496941048cd47ae9348121e3f5e5c07",
       "version_major": 2,
       "version_minor": 0
      },
      "text/plain": [
       "Tab(children=(Output(), Output()), _titles={'0': 'path-y-a', '1': 'path-y-b'})"
      ]
     },
     "metadata": {},
     "output_type": "display_data"
    },
    {
     "data": {
      "text/markdown": [
       "## Training sequence: syn-fss"
      ],
      "text/plain": [
       "<IPython.core.display.Markdown object>"
      ]
     },
     "metadata": {},
     "output_type": "display_data"
    },
    {
     "data": {
      "application/vnd.jupyter.widget-view+json": {
       "model_id": "8373e38f5c7a4a6dbba556379254600c",
       "version_major": 2,
       "version_minor": 0
      },
      "text/plain": [
       "Tab(children=(Output(), Output(), Output()), _titles={'0': 'syn-fss', '1': 'syn-sfs', '2': 'syn-mmm'})"
      ]
     },
     "metadata": {},
     "output_type": "display_data"
    },
    {
     "data": {
      "text/markdown": [
       "## Training sequence: syn-sfs"
      ],
      "text/plain": [
       "<IPython.core.display.Markdown object>"
      ]
     },
     "metadata": {},
     "output_type": "display_data"
    },
    {
     "data": {
      "application/vnd.jupyter.widget-view+json": {
       "model_id": "c2cc17f2c4454faab3fd33ef011d296e",
       "version_major": 2,
       "version_minor": 0
      },
      "text/plain": [
       "Tab(children=(Output(), Output(), Output()), _titles={'0': 'syn-fss', '1': 'syn-sfs', '2': 'syn-mmm'})"
      ]
     },
     "metadata": {},
     "output_type": "display_data"
    },
    {
     "data": {
      "text/markdown": [
       "## Training sequence: syn-mmm"
      ],
      "text/plain": [
       "<IPython.core.display.Markdown object>"
      ]
     },
     "metadata": {},
     "output_type": "display_data"
    },
    {
     "data": {
      "application/vnd.jupyter.widget-view+json": {
       "model_id": "fad81deee69f4c508c0cae68a58380a6",
       "version_major": 2,
       "version_minor": 0
      },
      "text/plain": [
       "Tab(children=(Output(), Output(), Output()), _titles={'0': 'syn-fss', '1': 'syn-sfs', '2': 'syn-mmm'})"
      ]
     },
     "metadata": {},
     "output_type": "display_data"
    },
    {
     "data": {
      "text/markdown": [
       "## Training sequence: fss_0"
      ],
      "text/plain": [
       "<IPython.core.display.Markdown object>"
      ]
     },
     "metadata": {},
     "output_type": "display_data"
    },
    {
     "data": {
      "application/vnd.jupyter.widget-view+json": {
       "model_id": "93ada2201860449f940273168538ab63",
       "version_major": 2,
       "version_minor": 0
      },
      "text/plain": [
       "Tab(children=(Output(), Output(), Output(), Output(), Output(), Output()), _titles={'0': 'fss_0', '1': 'fss_1'…"
      ]
     },
     "metadata": {},
     "output_type": "display_data"
    },
    {
     "data": {
      "text/markdown": [
       "## Training sequence: fss_1"
      ],
      "text/plain": [
       "<IPython.core.display.Markdown object>"
      ]
     },
     "metadata": {},
     "output_type": "display_data"
    },
    {
     "data": {
      "application/vnd.jupyter.widget-view+json": {
       "model_id": "e049a1a2f1e84fbd97c8f63083bcd936",
       "version_major": 2,
       "version_minor": 0
      },
      "text/plain": [
       "Tab(children=(Output(), Output(), Output(), Output(), Output(), Output()), _titles={'0': 'fss_0', '1': 'fss_1'…"
      ]
     },
     "metadata": {},
     "output_type": "display_data"
    },
    {
     "data": {
      "text/markdown": [
       "## Training sequence: kkk_0"
      ],
      "text/plain": [
       "<IPython.core.display.Markdown object>"
      ]
     },
     "metadata": {},
     "output_type": "display_data"
    },
    {
     "data": {
      "application/vnd.jupyter.widget-view+json": {
       "model_id": "473b6246efee4e888b7deffd7d07be58",
       "version_major": 2,
       "version_minor": 0
      },
      "text/plain": [
       "Tab(children=(Output(), Output(), Output(), Output(), Output(), Output()), _titles={'0': 'fss_0', '1': 'fss_1'…"
      ]
     },
     "metadata": {},
     "output_type": "display_data"
    },
    {
     "data": {
      "text/markdown": [
       "## Training sequence: kkk_1"
      ],
      "text/plain": [
       "<IPython.core.display.Markdown object>"
      ]
     },
     "metadata": {},
     "output_type": "display_data"
    },
    {
     "data": {
      "application/vnd.jupyter.widget-view+json": {
       "model_id": "4b5ef1354ede482abf953798e0508c43",
       "version_major": 2,
       "version_minor": 0
      },
      "text/plain": [
       "Tab(children=(Output(), Output(), Output(), Output(), Output(), Output()), _titles={'0': 'fss_0', '1': 'fss_1'…"
      ]
     },
     "metadata": {},
     "output_type": "display_data"
    },
    {
     "data": {
      "text/markdown": [
       "## Training sequence: sfs_0"
      ],
      "text/plain": [
       "<IPython.core.display.Markdown object>"
      ]
     },
     "metadata": {},
     "output_type": "display_data"
    },
    {
     "data": {
      "application/vnd.jupyter.widget-view+json": {
       "model_id": "a11111a4cc04407792508bf3d9e2201d",
       "version_major": 2,
       "version_minor": 0
      },
      "text/plain": [
       "Tab(children=(Output(), Output(), Output(), Output(), Output(), Output()), _titles={'0': 'fss_0', '1': 'fss_1'…"
      ]
     },
     "metadata": {},
     "output_type": "display_data"
    },
    {
     "data": {
      "text/markdown": [
       "## Training sequence: sfs_1"
      ],
      "text/plain": [
       "<IPython.core.display.Markdown object>"
      ]
     },
     "metadata": {},
     "output_type": "display_data"
    },
    {
     "data": {
      "application/vnd.jupyter.widget-view+json": {
       "model_id": "cc42c80df6264d31bf5a6775e60cc956",
       "version_major": 2,
       "version_minor": 0
      },
      "text/plain": [
       "Tab(children=(Output(), Output(), Output(), Output(), Output(), Output()), _titles={'0': 'fss_0', '1': 'fss_1'…"
      ]
     },
     "metadata": {},
     "output_type": "display_data"
    },
    {
     "data": {
      "text/markdown": [
       "## Training sequence: fss_0_inverted"
      ],
      "text/plain": [
       "<IPython.core.display.Markdown object>"
      ]
     },
     "metadata": {},
     "output_type": "display_data"
    },
    {
     "data": {
      "application/vnd.jupyter.widget-view+json": {
       "model_id": "2368de54ac80497ab5ecd4686f2a3cad",
       "version_major": 2,
       "version_minor": 0
      },
      "text/plain": [
       "Tab(children=(Output(), Output(), Output(), Output(), Output(), Output()), _titles={'0': 'fss_0_inverted', '1'…"
      ]
     },
     "metadata": {},
     "output_type": "display_data"
    },
    {
     "data": {
      "text/markdown": [
       "## Training sequence: fss_1_inverted"
      ],
      "text/plain": [
       "<IPython.core.display.Markdown object>"
      ]
     },
     "metadata": {},
     "output_type": "display_data"
    },
    {
     "data": {
      "application/vnd.jupyter.widget-view+json": {
       "model_id": "ac444fb050434639af3eeff552ff49b5",
       "version_major": 2,
       "version_minor": 0
      },
      "text/plain": [
       "Tab(children=(Output(), Output(), Output(), Output(), Output(), Output()), _titles={'0': 'fss_0_inverted', '1'…"
      ]
     },
     "metadata": {},
     "output_type": "display_data"
    },
    {
     "data": {
      "text/markdown": [
       "## Training sequence: kkk_0_inverted"
      ],
      "text/plain": [
       "<IPython.core.display.Markdown object>"
      ]
     },
     "metadata": {},
     "output_type": "display_data"
    },
    {
     "data": {
      "application/vnd.jupyter.widget-view+json": {
       "model_id": "3e617e2f3dc94e959f66f7e435290d64",
       "version_major": 2,
       "version_minor": 0
      },
      "text/plain": [
       "Tab(children=(Output(), Output(), Output(), Output(), Output(), Output()), _titles={'0': 'fss_0_inverted', '1'…"
      ]
     },
     "metadata": {},
     "output_type": "display_data"
    },
    {
     "data": {
      "text/markdown": [
       "## Training sequence: kkk_1_inverted"
      ],
      "text/plain": [
       "<IPython.core.display.Markdown object>"
      ]
     },
     "metadata": {},
     "output_type": "display_data"
    },
    {
     "data": {
      "application/vnd.jupyter.widget-view+json": {
       "model_id": "32a5d1144ae44e1b80b9328cd9d18801",
       "version_major": 2,
       "version_minor": 0
      },
      "text/plain": [
       "Tab(children=(Output(), Output(), Output(), Output(), Output(), Output()), _titles={'0': 'fss_0_inverted', '1'…"
      ]
     },
     "metadata": {},
     "output_type": "display_data"
    },
    {
     "data": {
      "text/markdown": [
       "## Training sequence: sfs_0_inverted"
      ],
      "text/plain": [
       "<IPython.core.display.Markdown object>"
      ]
     },
     "metadata": {},
     "output_type": "display_data"
    },
    {
     "data": {
      "application/vnd.jupyter.widget-view+json": {
       "model_id": "6a92e88ea143423e81dbd80adcf6194b",
       "version_major": 2,
       "version_minor": 0
      },
      "text/plain": [
       "Tab(children=(Output(), Output(), Output(), Output(), Output(), Output()), _titles={'0': 'fss_0_inverted', '1'…"
      ]
     },
     "metadata": {},
     "output_type": "display_data"
    },
    {
     "data": {
      "text/markdown": [
       "## Training sequence: sfs_1_inverted"
      ],
      "text/plain": [
       "<IPython.core.display.Markdown object>"
      ]
     },
     "metadata": {},
     "output_type": "display_data"
    },
    {
     "data": {
      "application/vnd.jupyter.widget-view+json": {
       "model_id": "30836c4037204e028e3d6e08e48bb159",
       "version_major": 2,
       "version_minor": 0
      },
      "text/plain": [
       "Tab(children=(Output(), Output(), Output(), Output(), Output(), Output()), _titles={'0': 'fss_0_inverted', '1'…"
      ]
     },
     "metadata": {},
     "output_type": "display_data"
    }
   ],
   "source": [
    "# PLOT ALL SEQUENCES\n",
    "save_folder = 'images/'\n",
    "display(Markdown(f'## Number of training sequences: {len(activations)}'))\n",
    "for k1 in activations.keys():\n",
    "    display(Markdown(f'## Training sequence: {k1}'))\n",
    "    plots = {\n",
    "        k2 :  plot_can_reservoir_distinguish_sequences( activations, states, linear_integrators, input_similitudes, state_similitudes, l_int_similitudes, k1, k2, save_folder)\n",
    "        for k2 in comparison_data[k1]\n",
    "    }\n",
    "    display(create_or_add_to_tab_display(plots))\n",
    "    "
   ]
  },
  {
   "cell_type": "markdown",
   "metadata": {
    "tags": []
   },
   "source": [
    "# MIXED SELECTIVITY TESTING"
   ]
  },
  {
   "cell_type": "markdown",
   "metadata": {
    "tags": []
   },
   "source": [
    "### Prepare data for anova"
   ]
  },
  {
   "cell_type": "code",
   "execution_count": 7,
   "metadata": {},
   "outputs": [
    {
     "data": {
      "text/markdown": [
       "## Data set: synthetic2"
      ],
      "text/plain": [
       "<IPython.core.display.Markdown object>"
      ]
     },
     "metadata": {},
     "output_type": "display_data"
    },
    {
     "data": {
      "text/plain": [
       "'Reservoir sample data shape: (18, 400)'"
      ]
     },
     "metadata": {},
     "output_type": "display_data"
    },
    {
     "data": {
      "text/plain": [
       "'Integrator sample data shape: (18, 256)'"
      ]
     },
     "metadata": {},
     "output_type": "display_data"
    },
    {
     "data": {
      "text/markdown": [
       "## Data set: robot"
      ],
      "text/plain": [
       "<IPython.core.display.Markdown object>"
      ]
     },
     "metadata": {},
     "output_type": "display_data"
    },
    {
     "data": {
      "text/plain": [
       "'Reservoir sample data shape: (18, 400)'"
      ]
     },
     "metadata": {},
     "output_type": "display_data"
    },
    {
     "data": {
      "text/plain": [
       "'Integrator sample data shape: (18, 256)'"
      ]
     },
     "metadata": {},
     "output_type": "display_data"
    },
    {
     "data": {
      "text/markdown": [
       "## Template"
      ],
      "text/plain": [
       "<IPython.core.display.Markdown object>"
      ]
     },
     "metadata": {},
     "output_type": "display_data"
    },
    {
     "data": {
      "text/html": [
       "<div>\n",
       "<style scoped>\n",
       "    .dataframe tbody tr th:only-of-type {\n",
       "        vertical-align: middle;\n",
       "    }\n",
       "\n",
       "    .dataframe tbody tr th {\n",
       "        vertical-align: top;\n",
       "    }\n",
       "\n",
       "    .dataframe thead th {\n",
       "        text-align: right;\n",
       "    }\n",
       "</style>\n",
       "<table border=\"1\" class=\"dataframe\">\n",
       "  <thead>\n",
       "    <tr style=\"text-align: right;\">\n",
       "      <th></th>\n",
       "      <th>subject</th>\n",
       "      <th>position</th>\n",
       "      <th>sequence</th>\n",
       "      <th>valye</th>\n",
       "      <th>speed</th>\n",
       "    </tr>\n",
       "  </thead>\n",
       "  <tbody>\n",
       "    <tr>\n",
       "      <th>0</th>\n",
       "      <td>s1</td>\n",
       "      <td>ear</td>\n",
       "      <td>fss</td>\n",
       "      <td>0.3599</td>\n",
       "      <td>fast</td>\n",
       "    </tr>\n",
       "    <tr>\n",
       "      <th>1</th>\n",
       "      <td>s1</td>\n",
       "      <td>mid</td>\n",
       "      <td>fss</td>\n",
       "      <td>0.3975</td>\n",
       "      <td>slow</td>\n",
       "    </tr>\n",
       "    <tr>\n",
       "      <th>2</th>\n",
       "      <td>s1</td>\n",
       "      <td>late</td>\n",
       "      <td>fss</td>\n",
       "      <td>0.3278</td>\n",
       "      <td>slow</td>\n",
       "    </tr>\n",
       "    <tr>\n",
       "      <th>3</th>\n",
       "      <td>s2</td>\n",
       "      <td>ear</td>\n",
       "      <td>fss</td>\n",
       "      <td>0.2908</td>\n",
       "      <td>fast</td>\n",
       "    </tr>\n",
       "    <tr>\n",
       "      <th>4</th>\n",
       "      <td>s2</td>\n",
       "      <td>mid</td>\n",
       "      <td>fss</td>\n",
       "      <td>0.2844</td>\n",
       "      <td>slow</td>\n",
       "    </tr>\n",
       "    <tr>\n",
       "      <th>5</th>\n",
       "      <td>s2</td>\n",
       "      <td>late</td>\n",
       "      <td>fss</td>\n",
       "      <td>0.2907</td>\n",
       "      <td>slow</td>\n",
       "    </tr>\n",
       "    <tr>\n",
       "      <th>6</th>\n",
       "      <td>s1</td>\n",
       "      <td>ear</td>\n",
       "      <td>sfs</td>\n",
       "      <td>0.3724</td>\n",
       "      <td>slow</td>\n",
       "    </tr>\n",
       "    <tr>\n",
       "      <th>7</th>\n",
       "      <td>s1</td>\n",
       "      <td>mid</td>\n",
       "      <td>sfs</td>\n",
       "      <td>0.3582</td>\n",
       "      <td>fast</td>\n",
       "    </tr>\n",
       "    <tr>\n",
       "      <th>8</th>\n",
       "      <td>s1</td>\n",
       "      <td>late</td>\n",
       "      <td>sfs</td>\n",
       "      <td>0.2207</td>\n",
       "      <td>slow</td>\n",
       "    </tr>\n",
       "    <tr>\n",
       "      <th>9</th>\n",
       "      <td>s2</td>\n",
       "      <td>ear</td>\n",
       "      <td>sfs</td>\n",
       "      <td>0.2460</td>\n",
       "      <td>slow</td>\n",
       "    </tr>\n",
       "    <tr>\n",
       "      <th>10</th>\n",
       "      <td>s2</td>\n",
       "      <td>mid</td>\n",
       "      <td>sfs</td>\n",
       "      <td>0.3044</td>\n",
       "      <td>fast</td>\n",
       "    </tr>\n",
       "    <tr>\n",
       "      <th>11</th>\n",
       "      <td>s2</td>\n",
       "      <td>late</td>\n",
       "      <td>sfs</td>\n",
       "      <td>0.2779</td>\n",
       "      <td>slow</td>\n",
       "    </tr>\n",
       "    <tr>\n",
       "      <th>12</th>\n",
       "      <td>s1</td>\n",
       "      <td>ear</td>\n",
       "      <td>mmm</td>\n",
       "      <td>0.3724</td>\n",
       "      <td>med</td>\n",
       "    </tr>\n",
       "    <tr>\n",
       "      <th>13</th>\n",
       "      <td>s1</td>\n",
       "      <td>mid</td>\n",
       "      <td>mmm</td>\n",
       "      <td>0.3582</td>\n",
       "      <td>med</td>\n",
       "    </tr>\n",
       "    <tr>\n",
       "      <th>14</th>\n",
       "      <td>s1</td>\n",
       "      <td>late</td>\n",
       "      <td>mmm</td>\n",
       "      <td>0.2207</td>\n",
       "      <td>med</td>\n",
       "    </tr>\n",
       "    <tr>\n",
       "      <th>15</th>\n",
       "      <td>s2</td>\n",
       "      <td>ear</td>\n",
       "      <td>mmm</td>\n",
       "      <td>0.2460</td>\n",
       "      <td>med</td>\n",
       "    </tr>\n",
       "    <tr>\n",
       "      <th>16</th>\n",
       "      <td>s2</td>\n",
       "      <td>mid</td>\n",
       "      <td>mmm</td>\n",
       "      <td>0.3044</td>\n",
       "      <td>med</td>\n",
       "    </tr>\n",
       "    <tr>\n",
       "      <th>17</th>\n",
       "      <td>s2</td>\n",
       "      <td>late</td>\n",
       "      <td>mmm</td>\n",
       "      <td>0.2779</td>\n",
       "      <td>med</td>\n",
       "    </tr>\n",
       "  </tbody>\n",
       "</table>\n",
       "</div>"
      ],
      "text/plain": [
       "   subject position sequence   valye speed\n",
       "0       s1      ear      fss  0.3599  fast\n",
       "1       s1      mid      fss  0.3975  slow\n",
       "2       s1     late      fss  0.3278  slow\n",
       "3       s2      ear      fss  0.2908  fast\n",
       "4       s2      mid      fss  0.2844  slow\n",
       "5       s2     late      fss  0.2907  slow\n",
       "6       s1      ear      sfs  0.3724  slow\n",
       "7       s1      mid      sfs  0.3582  fast\n",
       "8       s1     late      sfs  0.2207  slow\n",
       "9       s2      ear      sfs  0.2460  slow\n",
       "10      s2      mid      sfs  0.3044  fast\n",
       "11      s2     late      sfs  0.2779  slow\n",
       "12      s1      ear      mmm  0.3724   med\n",
       "13      s1      mid      mmm  0.3582   med\n",
       "14      s1     late      mmm  0.2207   med\n",
       "15      s2      ear      mmm  0.2460   med\n",
       "16      s2      mid      mmm  0.3044   med\n",
       "17      s2     late      mmm  0.2779   med"
      ]
     },
     "metadata": {},
     "output_type": "display_data"
    }
   ],
   "source": [
    "# for each data set (synthetic paths and robot paths)\n",
    "sample_states = {}\n",
    "test_data_sets = ['synthetic2', 'robot' ]\n",
    "algorithms = ['Reservoir', 'Interpolator']\n",
    "\n",
    "time_index_map = {\n",
    "    syn_fss : [4, 11, 18, 5, 12, 19],\n",
    "    syn_sfs : [4, 11, 18, 5, 12, 19],\n",
    "    syn_mmm : [4, 11, 18, 5, 12, 19],\n",
    "    'fss_0' : [4, 11, 18],\n",
    "    'fss_1' : [4, 11, 18],\n",
    "    'sfs_0' : [4, 11, 18],\n",
    "    'sfs_1' : [4, 11, 18],\n",
    "    'kkk_0' : [4, 11, 18],\n",
    "    'kkk_1' : [4, 11, 18],\n",
    "}\n",
    "\n",
    "for set_id in test_data_sets:  \n",
    "    groups = data_sets[ set_id ]\n",
    "    s1 = groups[0]\n",
    "    \n",
    "    # get slices of reservoir and integrator states\n",
    "    state_data  = [\n",
    "        np.concatenate([data[s2][time_index_map[s2],:] for s2 in groups])\n",
    "        for data in [states[s1], linear_integrators]\n",
    "    ]\n",
    "    sample_states[set_id] = state_data\n",
    "    \n",
    "    # display debug data\n",
    "    display(Markdown(f'## Data set: {set_id}'))\n",
    "    display(f'Reservoir sample data shape: {state_data[0].shape}',\n",
    "            f'Integrator sample data shape: {state_data[1].shape}')\n",
    "\n",
    "# load template\n",
    "data_template = pd.read_excel(\"test-data-template-3seq.xlsx\")\n",
    "display(Markdown('## Template'))\n",
    "display(data_template)"
   ]
  },
  {
   "cell_type": "markdown",
   "metadata": {
    "tags": []
   },
   "source": [
    "## Debug code"
   ]
  },
  {
   "cell_type": "code",
   "execution_count": 8,
   "metadata": {
    "tags": []
   },
   "outputs": [
    {
     "data": {
      "application/vnd.jupyter.widget-view+json": {
       "model_id": "972b993ae99e4b6393fb221dc9791f12",
       "version_major": 2,
       "version_minor": 0
      },
      "text/plain": [
       "Tab(children=(Output(), Output(), Output(), Output()), _titles={'0': 'synthetic2-Reservoir', '1': 'synthetic2-…"
      ]
     },
     "metadata": {},
     "output_type": "display_data"
    }
   ],
   "source": [
    "# DEBUG CODE\n",
    "\n",
    "neuron = 50\n",
    "tab_names = [f'{k}-{a}' for k in test_data_sets for a in algorithms ]\n",
    "tabs = create_empty_tabs(tab_names)\n",
    "\n",
    "def fill_template(data):\n",
    "    data_template['valye'] = data[:, neuron]\n",
    "    return data_template.copy()\n",
    "\n",
    "for set_id in test_data_sets:\n",
    "    for d,a in zip([fill_template(s) for s in sample_states[set_id] ], algorithms):\n",
    "        tab_name = f'{set_id}-{a}'\n",
    "    \n",
    "        with tabs[tab_name]:\n",
    "            \n",
    "            display(Markdown(f'# Data'), d)\n",
    "            \n",
    "            anova = pg.anova(dv='valye', between=['position', 'sequence'], data=d, detailed=True)\n",
    "            display(Markdown(f'# Anova'), anova)\n",
    "            \n",
    "            rm_anova = pg.rm_anova(dv='valye', within=['position', 'speed'], subject='subject', data=d, detailed=True)\n",
    "            display(Markdown(f'# Rm_anova'), rm_anova)\n",
    "            \n",
    "            sns.boxplot(hue=\"position\", y=\"valye\", x=\"sequence\", data=d, palette=\"Set3\")\n",
    "            plt.show()\n",
    "\n",
    "        "
   ]
  },
  {
   "cell_type": "markdown",
   "metadata": {},
   "source": [
    "## Mixed selectivity test"
   ]
  },
  {
   "cell_type": "code",
   "execution_count": 9,
   "metadata": {
    "tags": []
   },
   "outputs": [
    {
     "data": {
      "application/vnd.jupyter.widget-view+json": {
       "model_id": "98aaaa44fd614fa5be102f93178c69de",
       "version_major": 2,
       "version_minor": 0
      },
      "text/plain": [
       "Tab(children=(Output(), Output(), Output(), Output()), _titles={'0': 'synthetic2-Reservoir', '1': 'synthetic2-…"
      ]
     },
     "metadata": {},
     "output_type": "display_data"
    }
   ],
   "source": [
    "# prepare tabs to display data \n",
    "tab_names = [f'{k}-{a}' for k in test_data_sets for a in algorithms ]\n",
    "tabs = create_empty_tabs(tab_names)\n",
    "\n",
    "# iterate data sets and algorithms\n",
    "for set_id in test_data_sets:\n",
    "    for set_states, a in zip(sample_states[set_id] , algorithms):\n",
    "        tab_name = f'{set_id}-{a}'\n",
    "        with tabs[tab_name]:\n",
    "            \n",
    "            # count cells for which\n",
    "            sign = 0.001\n",
    "            factor ='p-unc'#'p-GG-corr'#\n",
    "            p_count= s_count = ps_count = 0 # count of positions with p-unc < sign\n",
    "            \n",
    "            # iterate each cell\n",
    "            for neuron in range(set_states.shape[1]):\n",
    "                \n",
    "                # compare algorithm states for the different sequences using anova\n",
    "                data_template['valye'] = set_states[:, neuron]\n",
    "                # res = pg.rm_anova(dv='valye', within=['position', 'sequence'], subject='subject', data=data_template, detailed=True)\n",
    "                res = pg.anova(dv='valye', between=['position', 'speed'], data=data_template, detailed=True)\n",
    "                \n",
    "\n",
    "                # count if position (early, mid, late) have different distributions\n",
    "                if res.loc[0,factor] < sign:\n",
    "                    p_count = p_count +1\n",
    "\n",
    "                # count if sequence (fss, sfs, mmm) have different distributions\n",
    "                if res.loc[1,factor] < sign:\n",
    "                    s_count = s_count +1\n",
    "\n",
    "                \n",
    "                if res.loc[0,factor] < sign and res.loc[1,factor] < sign and np.mean(set_states[:,neuron]) > 0:\n",
    "                    print(\"Two way main effect neuron: \", neuron)\n",
    "                    \n",
    "                # count if combined factors have different distribtions\n",
    "                if res.loc[2,factor] < sign:\n",
    "                    ps_count = ps_count +1\n",
    "\n",
    "                    # plot state neuron if it has average positive activation:\n",
    "                    if  np.mean(set_states[:,neuron]) > 0:\n",
    "                        sns.boxplot(hue=\"position\", y=\"valye\", x=\"sequence\", data=data_template, palette=\"Set3\")\n",
    "                        plt.title(f'Interaction neuron: {neuron}')\n",
    "                        plt.show()\n",
    "                        \n",
    "\n",
    "                \n",
    "        \n",
    "            display(f'factor {factor}, sign {sign}')\n",
    "            display(f'position effect    : {p_count}')       \n",
    "            display(f'sequence effect    : {s_count}')       \n",
    "            display(f'pos*seq interaction: {ps_count}')    "
   ]
  },
  {
   "cell_type": "markdown",
   "metadata": {},
   "source": [
    "# PCA ANALYSIS"
   ]
  },
  {
   "cell_type": "code",
   "execution_count": 13,
   "metadata": {
    "collapsed": true,
    "jupyter": {
     "outputs_hidden": true
    },
    "tags": []
   },
   "outputs": [
    {
     "data": {
      "application/vnd.jupyter.widget-view+json": {
       "model_id": "edbf64283d06430c810cb8057a8090bd",
       "version_major": 2,
       "version_minor": 0
      },
      "text/plain": [
       "Tab(children=(Output(), Output(), Output(), Output(), Output(), Output(), Output(), Output(), Output(), Output…"
      ]
     },
     "metadata": {},
     "output_type": "display_data"
    },
    {
     "data": {
      "image/png": "[encoded data removed]",
      "text/plain": [
       "<Figure size 720x720 with 12 Axes>"
      ]
     },
     "metadata": {
      "needs_background": "light"
     },
     "output_type": "display_data"
    }
   ],
   "source": [
    "from sklearn.decomposition import PCA\n",
    "\n",
    "\n",
    "# OBSERVATIONS: \n",
    "#     for reservoir states is a double map based on the training sequence and test sequence\n",
    "#     for the linear integrator, there are no test sequences, only training sequences\n",
    "# thus: to reduce one index in the reservoir states, we only consider a single train sequence per data set\n",
    "train_set = {k : comparison_data[k][0] for k in paths} # for each test sequence, assign train set as first element in group\n",
    "reservoir_states = { k : states[train_set[k]] [k] for k in paths }\n",
    "\n",
    "# create map of algorithm to states\n",
    "all_states = { 'Reservoir':reservoir_states, 'Integrator':linear_integrators }\n",
    "\n",
    "# create function to process states to avoid repeating code\n",
    "def process_data(data, function):\n",
    "    return { algorithm : \n",
    "                { sequence : function(sequence_data) \n",
    "                  for sequence, sequence_data in algorithm_data.items() \n",
    "                } \n",
    "        for algorithm, algorithm_data in data.items()\n",
    "    }\n",
    "\n",
    "# PCA().fit(states['fss_0']['fss_0']).components_.shape\n",
    "\n",
    "\n",
    "\n",
    "pca = process_data(all_states, lambda s : PCA().fit(s.copy()) )\n",
    "variances = process_data(pca, lambda p : p.explained_variance_)\n",
    "\n",
    "total_variances = process_data(variances, lambda v : v.sum())\n",
    "percentual = process_data(variances, lambda v : v / v.sum())\n",
    "accumulated = process_data(variances, lambda v : v.cumsum())\n",
    "accumulated_percentual = process_data(percentual, lambda v : v.cumsum())\n",
    "\n",
    "components = process_data(pca, lambda p : p.components_)\n",
    "transformed = process_data(all_states, lambda s : PCA().fit_transform(s.copy()) )\n",
    "\n",
    "def plot_pca_temporal_structure(reservoir_states, reservoir_pca_states, integrator_states, integrator_pca_states, r_components, i_components, sequence):\n",
    "    %matplotlib inline\n",
    "    fig= plt.figure(figsize=(10,10))\n",
    "    fig.suptitle(f'Temporal structure before and after PCA for sequence {sequence}')\n",
    "    \n",
    "    plt.subplot(321)\n",
    "    plt.title('Reservoir states')\n",
    "    sns.heatmap(reservoir_states, center=0)\n",
    "    \n",
    "    plt.subplot(322)\n",
    "    plt.title('Integrator states')\n",
    "    sns.heatmap(integrator_states, center=0)\n",
    "    \n",
    "    plt.subplot(323)\n",
    "    plt.title('Reservoir PCA states')\n",
    "    sns.heatmap(reservoir_pca_states, center=0)\n",
    "    \n",
    "    plt.subplot(324)\n",
    "    plt.title('Integrator PCA states')\n",
    "    sns.heatmap(integrator_pca_states, center=0)\n",
    "    \n",
    "    plt.subplot(325)\n",
    "    plt.title('Reservoir PCA vectors')\n",
    "    sns.heatmap(r_components, center=0)\n",
    "    \n",
    "    plt.subplot(326)\n",
    "    plt.title('Integrator PCA vectors')\n",
    "    sns.heatmap(i_components, center=0)\n",
    "    \n",
    "    fig.tight_layout()\n",
    "    return fig\n",
    "\n",
    "pca_tabs = create_empty_tabs(paths)\n",
    "for k, p in pca_tabs.items():\n",
    "    with pca_tabs[k]:\n",
    "        var_dfs = {a : pd.DataFrame({ 'variance': variances[a][k], \n",
    "                                   'percentual':percentual[a][k], \n",
    "                                   'accumulated':accumulated[a][k], \n",
    "                                   'accumulated_percentual':accumulated_percentual[a][k]\n",
    "                                    }) \n",
    "                   for a in all_states\n",
    "        }\n",
    "        \n",
    "        display(Markdown('## Numerical results of PCA'))\n",
    "        display(pd.concat(var_dfs, axis=1))\n",
    "        display(components['Reservoir'][k].shape)\n",
    "        \n",
    "        percentual_df = pd.DataFrame({ a : percentual[a][k] for a in all_states})\n",
    "        accumulated_df = pd.DataFrame({ a : accumulated_percentual[a][k] for a in all_states})\n",
    "        \n",
    "        display(Markdown('## Variance per PCA component'))\n",
    "        percentual_df.plot_bokeh.line()\n",
    "        \n",
    "        display(Markdown('## Accumulated variance'))\n",
    "        accumulated_df.plot_bokeh.line()\n",
    "        \n",
    "        display(Markdown('## Temporal structure before and after PCA'))\n",
    "        \n",
    "        display(plot_pca_temporal_structure(reservoir_states[k].T, transformed['Reservoir'][k].T,\n",
    "                                            linear_integrators[k].T, transformed['Integrator'][k].T, \n",
    "                                            components['Reservoir'][k], components['Integrator'][k],\n",
    "                                            k))\n",
    "        \n",
    "\n",
    "\n",
    "\n",
    "\n",
    "\n",
    "\n"
   ]
  },
  {
   "cell_type": "markdown",
   "metadata": {},
   "source": [
    "# ROBOT CLASSIFICATION EXPERIMENT"
   ]
  },
  {
   "cell_type": "markdown",
   "metadata": {},
   "source": [
    "## Classification results"
   ]
  },
  {
   "cell_type": "code",
   "execution_count": 2,
   "metadata": {
    "jupyter": {
     "source_hidden": true
    },
    "tags": []
   },
   "outputs": [
    {
     "data": {
      "text/markdown": [
       "### Confusion Matrix"
      ],
      "text/plain": [
       "<IPython.core.display.Markdown object>"
      ]
     },
     "metadata": {},
     "output_type": "display_data"
    },
    {
     "data": {
      "text/plain": [
       "array([[15,  0],\n",
       "       [ 1, 14]], dtype=int64)"
      ]
     },
     "metadata": {},
     "output_type": "display_data"
    },
    {
     "data": {
      "text/markdown": [
       "### Distance between reservoir states of same sequence at decision point"
      ],
      "text/plain": [
       "<IPython.core.display.Markdown object>"
      ]
     },
     "metadata": {},
     "output_type": "display_data"
    },
    {
     "data": {
      "text/plain": [
       "'Mean: 0.9907847093639941'"
      ]
     },
     "metadata": {},
     "output_type": "display_data"
    },
    {
     "data": {
      "text/plain": [
       "'STD:  0.01987003215466516'"
      ]
     },
     "metadata": {},
     "output_type": "display_data"
    },
    {
     "data": {
      "text/markdown": [
       "### Missclassified"
      ],
      "text/plain": [
       "<IPython.core.display.Markdown object>"
      ]
     },
     "metadata": {},
     "output_type": "display_data"
    },
    {
     "data": {
      "text/html": [
       "<div>\n",
       "<style scoped>\n",
       "    .dataframe tbody tr th:only-of-type {\n",
       "        vertical-align: middle;\n",
       "    }\n",
       "\n",
       "    .dataframe tbody tr th {\n",
       "        vertical-align: top;\n",
       "    }\n",
       "\n",
       "    .dataframe thead th {\n",
       "        text-align: right;\n",
       "    }\n",
       "</style>\n",
       "<table border=\"1\" class=\"dataframe\">\n",
       "  <thead>\n",
       "    <tr style=\"text-align: right;\">\n",
       "      <th></th>\n",
       "      <th>rat</th>\n",
       "      <th>seed</th>\n",
       "      <th>sequence_id</th>\n",
       "      <th>sequence_type</th>\n",
       "      <th>stage</th>\n",
       "      <th>classification</th>\n",
       "      <th>decision_time_index</th>\n",
       "      <th>nearest_id</th>\n",
       "      <th>nearest_distance</th>\n",
       "      <th>path_file</th>\n",
       "      <th>ground_truth</th>\n",
       "    </tr>\n",
       "  </thead>\n",
       "  <tbody>\n",
       "    <tr>\n",
       "      <th>31</th>\n",
       "      <td>7</td>\n",
       "      <td>919560</td>\n",
       "      <td>31</td>\n",
       "      <td>fss</td>\n",
       "      <td>test</td>\n",
       "      <td>left</td>\n",
       "      <td>23</td>\n",
       "      <td>28</td>\n",
       "      <td>0.974154</td>\n",
       "      <td>results/eval_rats_15_tests_1/paths/path_164252...</td>\n",
       "      <td>right</td>\n",
       "    </tr>\n",
       "  </tbody>\n",
       "</table>\n",
       "</div>"
      ],
      "text/plain": [
       "    rat    seed  sequence_id sequence_type stage classification  \\\n",
       "31    7  919560           31           fss  test           left   \n",
       "\n",
       "    decision_time_index  nearest_id  nearest_distance  \\\n",
       "31                   23          28          0.974154   \n",
       "\n",
       "                                            path_file ground_truth  \n",
       "31  results/eval_rats_15_tests_1/paths/path_164252...        right  "
      ]
     },
     "metadata": {},
     "output_type": "display_data"
    },
    {
     "data": {
      "text/markdown": [
       "### Training Data"
      ],
      "text/plain": [
       "<IPython.core.display.Markdown object>"
      ]
     },
     "metadata": {},
     "output_type": "display_data"
    },
    {
     "data": {
      "text/html": [
       "<div>\n",
       "<style scoped>\n",
       "    .dataframe tbody tr th:only-of-type {\n",
       "        vertical-align: middle;\n",
       "    }\n",
       "\n",
       "    .dataframe tbody tr th {\n",
       "        vertical-align: top;\n",
       "    }\n",
       "\n",
       "    .dataframe thead th {\n",
       "        text-align: right;\n",
       "    }\n",
       "</style>\n",
       "<table border=\"1\" class=\"dataframe\">\n",
       "  <thead>\n",
       "    <tr style=\"text-align: right;\">\n",
       "      <th></th>\n",
       "      <th>rat</th>\n",
       "      <th>seed</th>\n",
       "      <th>sequence_id</th>\n",
       "      <th>sequence_type</th>\n",
       "      <th>stage</th>\n",
       "      <th>classification</th>\n",
       "      <th>decision_time_index</th>\n",
       "      <th>nearest_id</th>\n",
       "      <th>nearest_distance</th>\n",
       "      <th>path_file</th>\n",
       "      <th>ground_truth</th>\n",
       "    </tr>\n",
       "  </thead>\n",
       "  <tbody>\n",
       "    <tr>\n",
       "      <th>0</th>\n",
       "      <td>0</td>\n",
       "      <td>788275</td>\n",
       "      <td>0</td>\n",
       "      <td>sfs</td>\n",
       "      <td>train</td>\n",
       "      <td>none</td>\n",
       "      <td>9999</td>\n",
       "      <td>0</td>\n",
       "      <td>0.0</td>\n",
       "      <td>results/eval_rats_15_tests_1/paths/path_164252...</td>\n",
       "      <td>left</td>\n",
       "    </tr>\n",
       "    <tr>\n",
       "      <th>1</th>\n",
       "      <td>0</td>\n",
       "      <td>788275</td>\n",
       "      <td>1</td>\n",
       "      <td>fss</td>\n",
       "      <td>train</td>\n",
       "      <td>none</td>\n",
       "      <td>9999</td>\n",
       "      <td>1</td>\n",
       "      <td>0.0</td>\n",
       "      <td>results/eval_rats_15_tests_1/paths/path_164252...</td>\n",
       "      <td>right</td>\n",
       "    </tr>\n",
       "    <tr>\n",
       "      <th>4</th>\n",
       "      <td>1</td>\n",
       "      <td>19514</td>\n",
       "      <td>4</td>\n",
       "      <td>sfs</td>\n",
       "      <td>train</td>\n",
       "      <td>none</td>\n",
       "      <td>9999</td>\n",
       "      <td>4</td>\n",
       "      <td>0.0</td>\n",
       "      <td>results/eval_rats_15_tests_1/paths/path_164252...</td>\n",
       "      <td>left</td>\n",
       "    </tr>\n",
       "    <tr>\n",
       "      <th>5</th>\n",
       "      <td>1</td>\n",
       "      <td>19514</td>\n",
       "      <td>5</td>\n",
       "      <td>fss</td>\n",
       "      <td>train</td>\n",
       "      <td>none</td>\n",
       "      <td>9999</td>\n",
       "      <td>5</td>\n",
       "      <td>0.0</td>\n",
       "      <td>results/eval_rats_15_tests_1/paths/path_164252...</td>\n",
       "      <td>right</td>\n",
       "    </tr>\n",
       "    <tr>\n",
       "      <th>8</th>\n",
       "      <td>2</td>\n",
       "      <td>615930</td>\n",
       "      <td>8</td>\n",
       "      <td>sfs</td>\n",
       "      <td>train</td>\n",
       "      <td>none</td>\n",
       "      <td>9999</td>\n",
       "      <td>8</td>\n",
       "      <td>0.0</td>\n",
       "      <td>results/eval_rats_15_tests_1/paths/path_164252...</td>\n",
       "      <td>left</td>\n",
       "    </tr>\n",
       "    <tr>\n",
       "      <th>9</th>\n",
       "      <td>2</td>\n",
       "      <td>615930</td>\n",
       "      <td>9</td>\n",
       "      <td>fss</td>\n",
       "      <td>train</td>\n",
       "      <td>none</td>\n",
       "      <td>9999</td>\n",
       "      <td>9</td>\n",
       "      <td>0.0</td>\n",
       "      <td>results/eval_rats_15_tests_1/paths/path_164252...</td>\n",
       "      <td>right</td>\n",
       "    </tr>\n",
       "    <tr>\n",
       "      <th>12</th>\n",
       "      <td>3</td>\n",
       "      <td>234944</td>\n",
       "      <td>12</td>\n",
       "      <td>sfs</td>\n",
       "      <td>train</td>\n",
       "      <td>none</td>\n",
       "      <td>9999</td>\n",
       "      <td>12</td>\n",
       "      <td>0.0</td>\n",
       "      <td>results/eval_rats_15_tests_1/paths/path_164252...</td>\n",
       "      <td>left</td>\n",
       "    </tr>\n",
       "    <tr>\n",
       "      <th>13</th>\n",
       "      <td>3</td>\n",
       "      <td>234944</td>\n",
       "      <td>13</td>\n",
       "      <td>fss</td>\n",
       "      <td>train</td>\n",
       "      <td>none</td>\n",
       "      <td>9999</td>\n",
       "      <td>13</td>\n",
       "      <td>0.0</td>\n",
       "      <td>results/eval_rats_15_tests_1/paths/path_164252...</td>\n",
       "      <td>right</td>\n",
       "    </tr>\n",
       "    <tr>\n",
       "      <th>16</th>\n",
       "      <td>4</td>\n",
       "      <td>942231</td>\n",
       "      <td>16</td>\n",
       "      <td>sfs</td>\n",
       "      <td>train</td>\n",
       "      <td>none</td>\n",
       "      <td>9999</td>\n",
       "      <td>16</td>\n",
       "      <td>0.0</td>\n",
       "      <td>results/eval_rats_15_tests_1/paths/path_164252...</td>\n",
       "      <td>left</td>\n",
       "    </tr>\n",
       "    <tr>\n",
       "      <th>17</th>\n",
       "      <td>4</td>\n",
       "      <td>942231</td>\n",
       "      <td>17</td>\n",
       "      <td>fss</td>\n",
       "      <td>train</td>\n",
       "      <td>none</td>\n",
       "      <td>9999</td>\n",
       "      <td>17</td>\n",
       "      <td>0.0</td>\n",
       "      <td>results/eval_rats_15_tests_1/paths/path_164252...</td>\n",
       "      <td>right</td>\n",
       "    </tr>\n",
       "    <tr>\n",
       "      <th>20</th>\n",
       "      <td>5</td>\n",
       "      <td>20956</td>\n",
       "      <td>20</td>\n",
       "      <td>sfs</td>\n",
       "      <td>train</td>\n",
       "      <td>none</td>\n",
       "      <td>9999</td>\n",
       "      <td>20</td>\n",
       "      <td>0.0</td>\n",
       "      <td>results/eval_rats_15_tests_1/paths/path_164252...</td>\n",
       "      <td>left</td>\n",
       "    </tr>\n",
       "    <tr>\n",
       "      <th>21</th>\n",
       "      <td>5</td>\n",
       "      <td>20956</td>\n",
       "      <td>21</td>\n",
       "      <td>fss</td>\n",
       "      <td>train</td>\n",
       "      <td>none</td>\n",
       "      <td>9999</td>\n",
       "      <td>21</td>\n",
       "      <td>0.0</td>\n",
       "      <td>results/eval_rats_15_tests_1/paths/path_164252...</td>\n",
       "      <td>right</td>\n",
       "    </tr>\n",
       "    <tr>\n",
       "      <th>24</th>\n",
       "      <td>6</td>\n",
       "      <td>195139</td>\n",
       "      <td>24</td>\n",
       "      <td>sfs</td>\n",
       "      <td>train</td>\n",
       "      <td>none</td>\n",
       "      <td>9999</td>\n",
       "      <td>24</td>\n",
       "      <td>0.0</td>\n",
       "      <td>results/eval_rats_15_tests_1/paths/path_164252...</td>\n",
       "      <td>left</td>\n",
       "    </tr>\n",
       "    <tr>\n",
       "      <th>25</th>\n",
       "      <td>6</td>\n",
       "      <td>195139</td>\n",
       "      <td>25</td>\n",
       "      <td>fss</td>\n",
       "      <td>train</td>\n",
       "      <td>none</td>\n",
       "      <td>9999</td>\n",
       "      <td>25</td>\n",
       "      <td>0.0</td>\n",
       "      <td>results/eval_rats_15_tests_1/paths/path_164252...</td>\n",
       "      <td>right</td>\n",
       "    </tr>\n",
       "    <tr>\n",
       "      <th>28</th>\n",
       "      <td>7</td>\n",
       "      <td>919560</td>\n",
       "      <td>28</td>\n",
       "      <td>sfs</td>\n",
       "      <td>train</td>\n",
       "      <td>none</td>\n",
       "      <td>9999</td>\n",
       "      <td>28</td>\n",
       "      <td>0.0</td>\n",
       "      <td>results/eval_rats_15_tests_1/paths/path_164252...</td>\n",
       "      <td>left</td>\n",
       "    </tr>\n",
       "    <tr>\n",
       "      <th>29</th>\n",
       "      <td>7</td>\n",
       "      <td>919560</td>\n",
       "      <td>29</td>\n",
       "      <td>fss</td>\n",
       "      <td>train</td>\n",
       "      <td>none</td>\n",
       "      <td>9999</td>\n",
       "      <td>29</td>\n",
       "      <td>0.0</td>\n",
       "      <td>results/eval_rats_15_tests_1/paths/path_164252...</td>\n",
       "      <td>right</td>\n",
       "    </tr>\n",
       "    <tr>\n",
       "      <th>32</th>\n",
       "      <td>8</td>\n",
       "      <td>31066</td>\n",
       "      <td>32</td>\n",
       "      <td>sfs</td>\n",
       "      <td>train</td>\n",
       "      <td>none</td>\n",
       "      <td>9999</td>\n",
       "      <td>32</td>\n",
       "      <td>0.0</td>\n",
       "      <td>results/eval_rats_15_tests_1/paths/path_164252...</td>\n",
       "      <td>left</td>\n",
       "    </tr>\n",
       "    <tr>\n",
       "      <th>33</th>\n",
       "      <td>8</td>\n",
       "      <td>31066</td>\n",
       "      <td>33</td>\n",
       "      <td>fss</td>\n",
       "      <td>train</td>\n",
       "      <td>none</td>\n",
       "      <td>9999</td>\n",
       "      <td>33</td>\n",
       "      <td>0.0</td>\n",
       "      <td>results/eval_rats_15_tests_1/paths/path_164252...</td>\n",
       "      <td>right</td>\n",
       "    </tr>\n",
       "    <tr>\n",
       "      <th>36</th>\n",
       "      <td>9</td>\n",
       "      <td>81350</td>\n",
       "      <td>36</td>\n",
       "      <td>sfs</td>\n",
       "      <td>train</td>\n",
       "      <td>none</td>\n",
       "      <td>9999</td>\n",
       "      <td>36</td>\n",
       "      <td>0.0</td>\n",
       "      <td>results/eval_rats_15_tests_1/paths/path_164252...</td>\n",
       "      <td>left</td>\n",
       "    </tr>\n",
       "    <tr>\n",
       "      <th>37</th>\n",
       "      <td>9</td>\n",
       "      <td>81350</td>\n",
       "      <td>37</td>\n",
       "      <td>fss</td>\n",
       "      <td>train</td>\n",
       "      <td>none</td>\n",
       "      <td>9999</td>\n",
       "      <td>37</td>\n",
       "      <td>0.0</td>\n",
       "      <td>results/eval_rats_15_tests_1/paths/path_164252...</td>\n",
       "      <td>right</td>\n",
       "    </tr>\n",
       "    <tr>\n",
       "      <th>40</th>\n",
       "      <td>10</td>\n",
       "      <td>641560</td>\n",
       "      <td>40</td>\n",
       "      <td>sfs</td>\n",
       "      <td>train</td>\n",
       "      <td>none</td>\n",
       "      <td>9999</td>\n",
       "      <td>40</td>\n",
       "      <td>0.0</td>\n",
       "      <td>results/eval_rats_15_tests_1/paths/path_164252...</td>\n",
       "      <td>left</td>\n",
       "    </tr>\n",
       "    <tr>\n",
       "      <th>41</th>\n",
       "      <td>10</td>\n",
       "      <td>641560</td>\n",
       "      <td>41</td>\n",
       "      <td>fss</td>\n",
       "      <td>train</td>\n",
       "      <td>none</td>\n",
       "      <td>9999</td>\n",
       "      <td>41</td>\n",
       "      <td>0.0</td>\n",
       "      <td>results/eval_rats_15_tests_1/paths/path_164252...</td>\n",
       "      <td>right</td>\n",
       "    </tr>\n",
       "    <tr>\n",
       "      <th>44</th>\n",
       "      <td>11</td>\n",
       "      <td>424397</td>\n",
       "      <td>44</td>\n",
       "      <td>sfs</td>\n",
       "      <td>train</td>\n",
       "      <td>none</td>\n",
       "      <td>9999</td>\n",
       "      <td>44</td>\n",
       "      <td>0.0</td>\n",
       "      <td>results/eval_rats_15_tests_1/paths/path_164252...</td>\n",
       "      <td>left</td>\n",
       "    </tr>\n",
       "    <tr>\n",
       "      <th>45</th>\n",
       "      <td>11</td>\n",
       "      <td>424397</td>\n",
       "      <td>45</td>\n",
       "      <td>fss</td>\n",
       "      <td>train</td>\n",
       "      <td>none</td>\n",
       "      <td>9999</td>\n",
       "      <td>45</td>\n",
       "      <td>0.0</td>\n",
       "      <td>results/eval_rats_15_tests_1/paths/path_164252...</td>\n",
       "      <td>right</td>\n",
       "    </tr>\n",
       "    <tr>\n",
       "      <th>48</th>\n",
       "      <td>12</td>\n",
       "      <td>154019</td>\n",
       "      <td>48</td>\n",
       "      <td>sfs</td>\n",
       "      <td>train</td>\n",
       "      <td>none</td>\n",
       "      <td>9999</td>\n",
       "      <td>48</td>\n",
       "      <td>0.0</td>\n",
       "      <td>results/eval_rats_15_tests_1/paths/path_164252...</td>\n",
       "      <td>left</td>\n",
       "    </tr>\n",
       "    <tr>\n",
       "      <th>49</th>\n",
       "      <td>12</td>\n",
       "      <td>154019</td>\n",
       "      <td>49</td>\n",
       "      <td>fss</td>\n",
       "      <td>train</td>\n",
       "      <td>none</td>\n",
       "      <td>9999</td>\n",
       "      <td>49</td>\n",
       "      <td>0.0</td>\n",
       "      <td>results/eval_rats_15_tests_1/paths/path_164252...</td>\n",
       "      <td>right</td>\n",
       "    </tr>\n",
       "    <tr>\n",
       "      <th>52</th>\n",
       "      <td>13</td>\n",
       "      <td>918772</td>\n",
       "      <td>52</td>\n",
       "      <td>sfs</td>\n",
       "      <td>train</td>\n",
       "      <td>none</td>\n",
       "      <td>9999</td>\n",
       "      <td>52</td>\n",
       "      <td>0.0</td>\n",
       "      <td>results/eval_rats_15_tests_1/paths/path_164252...</td>\n",
       "      <td>left</td>\n",
       "    </tr>\n",
       "    <tr>\n",
       "      <th>53</th>\n",
       "      <td>13</td>\n",
       "      <td>918772</td>\n",
       "      <td>53</td>\n",
       "      <td>fss</td>\n",
       "      <td>train</td>\n",
       "      <td>none</td>\n",
       "      <td>9999</td>\n",
       "      <td>53</td>\n",
       "      <td>0.0</td>\n",
       "      <td>results/eval_rats_15_tests_1/paths/path_164252...</td>\n",
       "      <td>right</td>\n",
       "    </tr>\n",
       "    <tr>\n",
       "      <th>56</th>\n",
       "      <td>14</td>\n",
       "      <td>778113</td>\n",
       "      <td>56</td>\n",
       "      <td>sfs</td>\n",
       "      <td>train</td>\n",
       "      <td>none</td>\n",
       "      <td>9999</td>\n",
       "      <td>56</td>\n",
       "      <td>0.0</td>\n",
       "      <td>results/eval_rats_15_tests_1/paths/path_164252...</td>\n",
       "      <td>left</td>\n",
       "    </tr>\n",
       "    <tr>\n",
       "      <th>57</th>\n",
       "      <td>14</td>\n",
       "      <td>778113</td>\n",
       "      <td>57</td>\n",
       "      <td>fss</td>\n",
       "      <td>train</td>\n",
       "      <td>none</td>\n",
       "      <td>9999</td>\n",
       "      <td>57</td>\n",
       "      <td>0.0</td>\n",
       "      <td>results/eval_rats_15_tests_1/paths/path_164252...</td>\n",
       "      <td>right</td>\n",
       "    </tr>\n",
       "  </tbody>\n",
       "</table>\n",
       "</div>"
      ],
      "text/plain": [
       "    rat    seed  sequence_id sequence_type  stage classification  \\\n",
       "0     0  788275            0           sfs  train           none   \n",
       "1     0  788275            1           fss  train           none   \n",
       "4     1   19514            4           sfs  train           none   \n",
       "5     1   19514            5           fss  train           none   \n",
       "8     2  615930            8           sfs  train           none   \n",
       "9     2  615930            9           fss  train           none   \n",
       "12    3  234944           12           sfs  train           none   \n",
       "13    3  234944           13           fss  train           none   \n",
       "16    4  942231           16           sfs  train           none   \n",
       "17    4  942231           17           fss  train           none   \n",
       "20    5   20956           20           sfs  train           none   \n",
       "21    5   20956           21           fss  train           none   \n",
       "24    6  195139           24           sfs  train           none   \n",
       "25    6  195139           25           fss  train           none   \n",
       "28    7  919560           28           sfs  train           none   \n",
       "29    7  919560           29           fss  train           none   \n",
       "32    8   31066           32           sfs  train           none   \n",
       "33    8   31066           33           fss  train           none   \n",
       "36    9   81350           36           sfs  train           none   \n",
       "37    9   81350           37           fss  train           none   \n",
       "40   10  641560           40           sfs  train           none   \n",
       "41   10  641560           41           fss  train           none   \n",
       "44   11  424397           44           sfs  train           none   \n",
       "45   11  424397           45           fss  train           none   \n",
       "48   12  154019           48           sfs  train           none   \n",
       "49   12  154019           49           fss  train           none   \n",
       "52   13  918772           52           sfs  train           none   \n",
       "53   13  918772           53           fss  train           none   \n",
       "56   14  778113           56           sfs  train           none   \n",
       "57   14  778113           57           fss  train           none   \n",
       "\n",
       "    decision_time_index  nearest_id  nearest_distance  \\\n",
       "0                  9999           0               0.0   \n",
       "1                  9999           1               0.0   \n",
       "4                  9999           4               0.0   \n",
       "5                  9999           5               0.0   \n",
       "8                  9999           8               0.0   \n",
       "9                  9999           9               0.0   \n",
       "12                 9999          12               0.0   \n",
       "13                 9999          13               0.0   \n",
       "16                 9999          16               0.0   \n",
       "17                 9999          17               0.0   \n",
       "20                 9999          20               0.0   \n",
       "21                 9999          21               0.0   \n",
       "24                 9999          24               0.0   \n",
       "25                 9999          25               0.0   \n",
       "28                 9999          28               0.0   \n",
       "29                 9999          29               0.0   \n",
       "32                 9999          32               0.0   \n",
       "33                 9999          33               0.0   \n",
       "36                 9999          36               0.0   \n",
       "37                 9999          37               0.0   \n",
       "40                 9999          40               0.0   \n",
       "41                 9999          41               0.0   \n",
       "44                 9999          44               0.0   \n",
       "45                 9999          45               0.0   \n",
       "48                 9999          48               0.0   \n",
       "49                 9999          49               0.0   \n",
       "52                 9999          52               0.0   \n",
       "53                 9999          53               0.0   \n",
       "56                 9999          56               0.0   \n",
       "57                 9999          57               0.0   \n",
       "\n",
       "                                            path_file ground_truth  \n",
       "0   results/eval_rats_15_tests_1/paths/path_164252...         left  \n",
       "1   results/eval_rats_15_tests_1/paths/path_164252...        right  \n",
       "4   results/eval_rats_15_tests_1/paths/path_164252...         left  \n",
       "5   results/eval_rats_15_tests_1/paths/path_164252...        right  \n",
       "8   results/eval_rats_15_tests_1/paths/path_164252...         left  \n",
       "9   results/eval_rats_15_tests_1/paths/path_164252...        right  \n",
       "12  results/eval_rats_15_tests_1/paths/path_164252...         left  \n",
       "13  results/eval_rats_15_tests_1/paths/path_164252...        right  \n",
       "16  results/eval_rats_15_tests_1/paths/path_164252...         left  \n",
       "17  results/eval_rats_15_tests_1/paths/path_164252...        right  \n",
       "20  results/eval_rats_15_tests_1/paths/path_164252...         left  \n",
       "21  results/eval_rats_15_tests_1/paths/path_164252...        right  \n",
       "24  results/eval_rats_15_tests_1/paths/path_164252...         left  \n",
       "25  results/eval_rats_15_tests_1/paths/path_164252...        right  \n",
       "28  results/eval_rats_15_tests_1/paths/path_164252...         left  \n",
       "29  results/eval_rats_15_tests_1/paths/path_164252...        right  \n",
       "32  results/eval_rats_15_tests_1/paths/path_164252...         left  \n",
       "33  results/eval_rats_15_tests_1/paths/path_164252...        right  \n",
       "36  results/eval_rats_15_tests_1/paths/path_164252...         left  \n",
       "37  results/eval_rats_15_tests_1/paths/path_164252...        right  \n",
       "40  results/eval_rats_15_tests_1/paths/path_164252...         left  \n",
       "41  results/eval_rats_15_tests_1/paths/path_164252...        right  \n",
       "44  results/eval_rats_15_tests_1/paths/path_164252...         left  \n",
       "45  results/eval_rats_15_tests_1/paths/path_164252...        right  \n",
       "48  results/eval_rats_15_tests_1/paths/path_164252...         left  \n",
       "49  results/eval_rats_15_tests_1/paths/path_164252...        right  \n",
       "52  results/eval_rats_15_tests_1/paths/path_164252...         left  \n",
       "53  results/eval_rats_15_tests_1/paths/path_164252...        right  \n",
       "56  results/eval_rats_15_tests_1/paths/path_164252...         left  \n",
       "57  results/eval_rats_15_tests_1/paths/path_164252...        right  "
      ]
     },
     "metadata": {},
     "output_type": "display_data"
    },
    {
     "data": {
      "text/markdown": [
       "### Test Data"
      ],
      "text/plain": [
       "<IPython.core.display.Markdown object>"
      ]
     },
     "metadata": {},
     "output_type": "display_data"
    },
    {
     "data": {
      "text/html": [
       "<div>\n",
       "<style scoped>\n",
       "    .dataframe tbody tr th:only-of-type {\n",
       "        vertical-align: middle;\n",
       "    }\n",
       "\n",
       "    .dataframe tbody tr th {\n",
       "        vertical-align: top;\n",
       "    }\n",
       "\n",
       "    .dataframe thead th {\n",
       "        text-align: right;\n",
       "    }\n",
       "</style>\n",
       "<table border=\"1\" class=\"dataframe\">\n",
       "  <thead>\n",
       "    <tr style=\"text-align: right;\">\n",
       "      <th></th>\n",
       "      <th>rat</th>\n",
       "      <th>seed</th>\n",
       "      <th>sequence_id</th>\n",
       "      <th>sequence_type</th>\n",
       "      <th>stage</th>\n",
       "      <th>classification</th>\n",
       "      <th>decision_time_index</th>\n",
       "      <th>nearest_id</th>\n",
       "      <th>nearest_distance</th>\n",
       "      <th>path_file</th>\n",
       "      <th>ground_truth</th>\n",
       "    </tr>\n",
       "  </thead>\n",
       "  <tbody>\n",
       "    <tr>\n",
       "      <th>2</th>\n",
       "      <td>0</td>\n",
       "      <td>788275</td>\n",
       "      <td>2</td>\n",
       "      <td>sfs</td>\n",
       "      <td>test</td>\n",
       "      <td>left</td>\n",
       "      <td>23</td>\n",
       "      <td>0</td>\n",
       "      <td>0.995233</td>\n",
       "      <td>results/eval_rats_15_tests_1/paths/path_164252...</td>\n",
       "      <td>left</td>\n",
       "    </tr>\n",
       "    <tr>\n",
       "      <th>3</th>\n",
       "      <td>0</td>\n",
       "      <td>788275</td>\n",
       "      <td>3</td>\n",
       "      <td>fss</td>\n",
       "      <td>test</td>\n",
       "      <td>right</td>\n",
       "      <td>29</td>\n",
       "      <td>1</td>\n",
       "      <td>0.970282</td>\n",
       "      <td>results/eval_rats_15_tests_1/paths/path_164252...</td>\n",
       "      <td>right</td>\n",
       "    </tr>\n",
       "    <tr>\n",
       "      <th>6</th>\n",
       "      <td>1</td>\n",
       "      <td>19514</td>\n",
       "      <td>6</td>\n",
       "      <td>sfs</td>\n",
       "      <td>test</td>\n",
       "      <td>left</td>\n",
       "      <td>25</td>\n",
       "      <td>4</td>\n",
       "      <td>0.998648</td>\n",
       "      <td>results/eval_rats_15_tests_1/paths/path_164252...</td>\n",
       "      <td>left</td>\n",
       "    </tr>\n",
       "    <tr>\n",
       "      <th>7</th>\n",
       "      <td>1</td>\n",
       "      <td>19514</td>\n",
       "      <td>7</td>\n",
       "      <td>fss</td>\n",
       "      <td>test</td>\n",
       "      <td>right</td>\n",
       "      <td>26</td>\n",
       "      <td>5</td>\n",
       "      <td>0.997685</td>\n",
       "      <td>results/eval_rats_15_tests_1/paths/path_164252...</td>\n",
       "      <td>right</td>\n",
       "    </tr>\n",
       "    <tr>\n",
       "      <th>10</th>\n",
       "      <td>2</td>\n",
       "      <td>615930</td>\n",
       "      <td>10</td>\n",
       "      <td>sfs</td>\n",
       "      <td>test</td>\n",
       "      <td>left</td>\n",
       "      <td>25</td>\n",
       "      <td>8</td>\n",
       "      <td>0.998252</td>\n",
       "      <td>results/eval_rats_15_tests_1/paths/path_164252...</td>\n",
       "      <td>left</td>\n",
       "    </tr>\n",
       "    <tr>\n",
       "      <th>11</th>\n",
       "      <td>2</td>\n",
       "      <td>615930</td>\n",
       "      <td>11</td>\n",
       "      <td>fss</td>\n",
       "      <td>test</td>\n",
       "      <td>right</td>\n",
       "      <td>25</td>\n",
       "      <td>9</td>\n",
       "      <td>0.993239</td>\n",
       "      <td>results/eval_rats_15_tests_1/paths/path_164252...</td>\n",
       "      <td>right</td>\n",
       "    </tr>\n",
       "    <tr>\n",
       "      <th>14</th>\n",
       "      <td>3</td>\n",
       "      <td>234944</td>\n",
       "      <td>14</td>\n",
       "      <td>sfs</td>\n",
       "      <td>test</td>\n",
       "      <td>left</td>\n",
       "      <td>25</td>\n",
       "      <td>12</td>\n",
       "      <td>0.997286</td>\n",
       "      <td>results/eval_rats_15_tests_1/paths/path_164252...</td>\n",
       "      <td>left</td>\n",
       "    </tr>\n",
       "    <tr>\n",
       "      <th>15</th>\n",
       "      <td>3</td>\n",
       "      <td>234944</td>\n",
       "      <td>15</td>\n",
       "      <td>fss</td>\n",
       "      <td>test</td>\n",
       "      <td>right</td>\n",
       "      <td>71</td>\n",
       "      <td>13</td>\n",
       "      <td>0.893991</td>\n",
       "      <td>results/eval_rats_15_tests_1/paths/path_164252...</td>\n",
       "      <td>right</td>\n",
       "    </tr>\n",
       "    <tr>\n",
       "      <th>18</th>\n",
       "      <td>4</td>\n",
       "      <td>942231</td>\n",
       "      <td>18</td>\n",
       "      <td>sfs</td>\n",
       "      <td>test</td>\n",
       "      <td>left</td>\n",
       "      <td>23</td>\n",
       "      <td>16</td>\n",
       "      <td>0.993083</td>\n",
       "      <td>results/eval_rats_15_tests_1/paths/path_164252...</td>\n",
       "      <td>left</td>\n",
       "    </tr>\n",
       "    <tr>\n",
       "      <th>19</th>\n",
       "      <td>4</td>\n",
       "      <td>942231</td>\n",
       "      <td>19</td>\n",
       "      <td>fss</td>\n",
       "      <td>test</td>\n",
       "      <td>right</td>\n",
       "      <td>24</td>\n",
       "      <td>17</td>\n",
       "      <td>0.998683</td>\n",
       "      <td>results/eval_rats_15_tests_1/paths/path_164252...</td>\n",
       "      <td>right</td>\n",
       "    </tr>\n",
       "    <tr>\n",
       "      <th>22</th>\n",
       "      <td>5</td>\n",
       "      <td>20956</td>\n",
       "      <td>22</td>\n",
       "      <td>sfs</td>\n",
       "      <td>test</td>\n",
       "      <td>left</td>\n",
       "      <td>23</td>\n",
       "      <td>20</td>\n",
       "      <td>0.999819</td>\n",
       "      <td>results/eval_rats_15_tests_1/paths/path_164252...</td>\n",
       "      <td>left</td>\n",
       "    </tr>\n",
       "    <tr>\n",
       "      <th>23</th>\n",
       "      <td>5</td>\n",
       "      <td>20956</td>\n",
       "      <td>23</td>\n",
       "      <td>fss</td>\n",
       "      <td>test</td>\n",
       "      <td>right</td>\n",
       "      <td>24</td>\n",
       "      <td>21</td>\n",
       "      <td>0.986038</td>\n",
       "      <td>results/eval_rats_15_tests_1/paths/path_164252...</td>\n",
       "      <td>right</td>\n",
       "    </tr>\n",
       "    <tr>\n",
       "      <th>26</th>\n",
       "      <td>6</td>\n",
       "      <td>195139</td>\n",
       "      <td>26</td>\n",
       "      <td>sfs</td>\n",
       "      <td>test</td>\n",
       "      <td>left</td>\n",
       "      <td>23</td>\n",
       "      <td>24</td>\n",
       "      <td>0.998123</td>\n",
       "      <td>results/eval_rats_15_tests_1/paths/path_164252...</td>\n",
       "      <td>left</td>\n",
       "    </tr>\n",
       "    <tr>\n",
       "      <th>27</th>\n",
       "      <td>6</td>\n",
       "      <td>195139</td>\n",
       "      <td>27</td>\n",
       "      <td>fss</td>\n",
       "      <td>test</td>\n",
       "      <td>right</td>\n",
       "      <td>24</td>\n",
       "      <td>25</td>\n",
       "      <td>0.999381</td>\n",
       "      <td>results/eval_rats_15_tests_1/paths/path_164252...</td>\n",
       "      <td>right</td>\n",
       "    </tr>\n",
       "    <tr>\n",
       "      <th>30</th>\n",
       "      <td>7</td>\n",
       "      <td>919560</td>\n",
       "      <td>30</td>\n",
       "      <td>sfs</td>\n",
       "      <td>test</td>\n",
       "      <td>left</td>\n",
       "      <td>23</td>\n",
       "      <td>28</td>\n",
       "      <td>0.995854</td>\n",
       "      <td>results/eval_rats_15_tests_1/paths/path_164252...</td>\n",
       "      <td>left</td>\n",
       "    </tr>\n",
       "    <tr>\n",
       "      <th>31</th>\n",
       "      <td>7</td>\n",
       "      <td>919560</td>\n",
       "      <td>31</td>\n",
       "      <td>fss</td>\n",
       "      <td>test</td>\n",
       "      <td>left</td>\n",
       "      <td>23</td>\n",
       "      <td>28</td>\n",
       "      <td>0.974154</td>\n",
       "      <td>results/eval_rats_15_tests_1/paths/path_164252...</td>\n",
       "      <td>right</td>\n",
       "    </tr>\n",
       "    <tr>\n",
       "      <th>34</th>\n",
       "      <td>8</td>\n",
       "      <td>31066</td>\n",
       "      <td>34</td>\n",
       "      <td>sfs</td>\n",
       "      <td>test</td>\n",
       "      <td>left</td>\n",
       "      <td>23</td>\n",
       "      <td>32</td>\n",
       "      <td>0.999820</td>\n",
       "      <td>results/eval_rats_15_tests_1/paths/path_164252...</td>\n",
       "      <td>left</td>\n",
       "    </tr>\n",
       "    <tr>\n",
       "      <th>35</th>\n",
       "      <td>8</td>\n",
       "      <td>31066</td>\n",
       "      <td>35</td>\n",
       "      <td>fss</td>\n",
       "      <td>test</td>\n",
       "      <td>right</td>\n",
       "      <td>26</td>\n",
       "      <td>33</td>\n",
       "      <td>0.994134</td>\n",
       "      <td>results/eval_rats_15_tests_1/paths/path_164252...</td>\n",
       "      <td>right</td>\n",
       "    </tr>\n",
       "    <tr>\n",
       "      <th>38</th>\n",
       "      <td>9</td>\n",
       "      <td>81350</td>\n",
       "      <td>38</td>\n",
       "      <td>sfs</td>\n",
       "      <td>test</td>\n",
       "      <td>left</td>\n",
       "      <td>23</td>\n",
       "      <td>36</td>\n",
       "      <td>0.990097</td>\n",
       "      <td>results/eval_rats_15_tests_1/paths/path_164252...</td>\n",
       "      <td>left</td>\n",
       "    </tr>\n",
       "    <tr>\n",
       "      <th>39</th>\n",
       "      <td>9</td>\n",
       "      <td>81350</td>\n",
       "      <td>39</td>\n",
       "      <td>fss</td>\n",
       "      <td>test</td>\n",
       "      <td>right</td>\n",
       "      <td>32</td>\n",
       "      <td>37</td>\n",
       "      <td>0.978737</td>\n",
       "      <td>results/eval_rats_15_tests_1/paths/path_164252...</td>\n",
       "      <td>right</td>\n",
       "    </tr>\n",
       "    <tr>\n",
       "      <th>42</th>\n",
       "      <td>10</td>\n",
       "      <td>641560</td>\n",
       "      <td>42</td>\n",
       "      <td>sfs</td>\n",
       "      <td>test</td>\n",
       "      <td>left</td>\n",
       "      <td>24</td>\n",
       "      <td>40</td>\n",
       "      <td>0.998547</td>\n",
       "      <td>results/eval_rats_15_tests_1/paths/path_164252...</td>\n",
       "      <td>left</td>\n",
       "    </tr>\n",
       "    <tr>\n",
       "      <th>43</th>\n",
       "      <td>10</td>\n",
       "      <td>641560</td>\n",
       "      <td>43</td>\n",
       "      <td>fss</td>\n",
       "      <td>test</td>\n",
       "      <td>right</td>\n",
       "      <td>25</td>\n",
       "      <td>41</td>\n",
       "      <td>0.999193</td>\n",
       "      <td>results/eval_rats_15_tests_1/paths/path_164252...</td>\n",
       "      <td>right</td>\n",
       "    </tr>\n",
       "    <tr>\n",
       "      <th>46</th>\n",
       "      <td>11</td>\n",
       "      <td>424397</td>\n",
       "      <td>46</td>\n",
       "      <td>sfs</td>\n",
       "      <td>test</td>\n",
       "      <td>left</td>\n",
       "      <td>23</td>\n",
       "      <td>44</td>\n",
       "      <td>0.999169</td>\n",
       "      <td>results/eval_rats_15_tests_1/paths/path_164252...</td>\n",
       "      <td>left</td>\n",
       "    </tr>\n",
       "    <tr>\n",
       "      <th>47</th>\n",
       "      <td>11</td>\n",
       "      <td>424397</td>\n",
       "      <td>47</td>\n",
       "      <td>fss</td>\n",
       "      <td>test</td>\n",
       "      <td>right</td>\n",
       "      <td>26</td>\n",
       "      <td>45</td>\n",
       "      <td>0.984324</td>\n",
       "      <td>results/eval_rats_15_tests_1/paths/path_164252...</td>\n",
       "      <td>right</td>\n",
       "    </tr>\n",
       "    <tr>\n",
       "      <th>50</th>\n",
       "      <td>12</td>\n",
       "      <td>154019</td>\n",
       "      <td>50</td>\n",
       "      <td>sfs</td>\n",
       "      <td>test</td>\n",
       "      <td>left</td>\n",
       "      <td>23</td>\n",
       "      <td>48</td>\n",
       "      <td>0.999133</td>\n",
       "      <td>results/eval_rats_15_tests_1/paths/path_164252...</td>\n",
       "      <td>left</td>\n",
       "    </tr>\n",
       "    <tr>\n",
       "      <th>51</th>\n",
       "      <td>12</td>\n",
       "      <td>154019</td>\n",
       "      <td>51</td>\n",
       "      <td>fss</td>\n",
       "      <td>test</td>\n",
       "      <td>right</td>\n",
       "      <td>25</td>\n",
       "      <td>49</td>\n",
       "      <td>0.997414</td>\n",
       "      <td>results/eval_rats_15_tests_1/paths/path_164252...</td>\n",
       "      <td>right</td>\n",
       "    </tr>\n",
       "    <tr>\n",
       "      <th>54</th>\n",
       "      <td>13</td>\n",
       "      <td>918772</td>\n",
       "      <td>54</td>\n",
       "      <td>sfs</td>\n",
       "      <td>test</td>\n",
       "      <td>left</td>\n",
       "      <td>23</td>\n",
       "      <td>52</td>\n",
       "      <td>0.999666</td>\n",
       "      <td>results/eval_rats_15_tests_1/paths/path_164252...</td>\n",
       "      <td>left</td>\n",
       "    </tr>\n",
       "    <tr>\n",
       "      <th>55</th>\n",
       "      <td>13</td>\n",
       "      <td>918772</td>\n",
       "      <td>55</td>\n",
       "      <td>fss</td>\n",
       "      <td>test</td>\n",
       "      <td>right</td>\n",
       "      <td>24</td>\n",
       "      <td>53</td>\n",
       "      <td>0.998827</td>\n",
       "      <td>results/eval_rats_15_tests_1/paths/path_164252...</td>\n",
       "      <td>right</td>\n",
       "    </tr>\n",
       "    <tr>\n",
       "      <th>58</th>\n",
       "      <td>14</td>\n",
       "      <td>778113</td>\n",
       "      <td>58</td>\n",
       "      <td>sfs</td>\n",
       "      <td>test</td>\n",
       "      <td>left</td>\n",
       "      <td>23</td>\n",
       "      <td>56</td>\n",
       "      <td>0.997240</td>\n",
       "      <td>results/eval_rats_15_tests_1/paths/path_164252...</td>\n",
       "      <td>left</td>\n",
       "    </tr>\n",
       "    <tr>\n",
       "      <th>59</th>\n",
       "      <td>14</td>\n",
       "      <td>778113</td>\n",
       "      <td>59</td>\n",
       "      <td>fss</td>\n",
       "      <td>test</td>\n",
       "      <td>right</td>\n",
       "      <td>25</td>\n",
       "      <td>57</td>\n",
       "      <td>0.997488</td>\n",
       "      <td>results/eval_rats_15_tests_1/paths/path_164252...</td>\n",
       "      <td>right</td>\n",
       "    </tr>\n",
       "  </tbody>\n",
       "</table>\n",
       "</div>"
      ],
      "text/plain": [
       "    rat    seed  sequence_id sequence_type stage classification  \\\n",
       "2     0  788275            2           sfs  test           left   \n",
       "3     0  788275            3           fss  test          right   \n",
       "6     1   19514            6           sfs  test           left   \n",
       "7     1   19514            7           fss  test          right   \n",
       "10    2  615930           10           sfs  test           left   \n",
       "11    2  615930           11           fss  test          right   \n",
       "14    3  234944           14           sfs  test           left   \n",
       "15    3  234944           15           fss  test          right   \n",
       "18    4  942231           18           sfs  test           left   \n",
       "19    4  942231           19           fss  test          right   \n",
       "22    5   20956           22           sfs  test           left   \n",
       "23    5   20956           23           fss  test          right   \n",
       "26    6  195139           26           sfs  test           left   \n",
       "27    6  195139           27           fss  test          right   \n",
       "30    7  919560           30           sfs  test           left   \n",
       "31    7  919560           31           fss  test           left   \n",
       "34    8   31066           34           sfs  test           left   \n",
       "35    8   31066           35           fss  test          right   \n",
       "38    9   81350           38           sfs  test           left   \n",
       "39    9   81350           39           fss  test          right   \n",
       "42   10  641560           42           sfs  test           left   \n",
       "43   10  641560           43           fss  test          right   \n",
       "46   11  424397           46           sfs  test           left   \n",
       "47   11  424397           47           fss  test          right   \n",
       "50   12  154019           50           sfs  test           left   \n",
       "51   12  154019           51           fss  test          right   \n",
       "54   13  918772           54           sfs  test           left   \n",
       "55   13  918772           55           fss  test          right   \n",
       "58   14  778113           58           sfs  test           left   \n",
       "59   14  778113           59           fss  test          right   \n",
       "\n",
       "    decision_time_index  nearest_id  nearest_distance  \\\n",
       "2                    23           0          0.995233   \n",
       "3                    29           1          0.970282   \n",
       "6                    25           4          0.998648   \n",
       "7                    26           5          0.997685   \n",
       "10                   25           8          0.998252   \n",
       "11                   25           9          0.993239   \n",
       "14                   25          12          0.997286   \n",
       "15                   71          13          0.893991   \n",
       "18                   23          16          0.993083   \n",
       "19                   24          17          0.998683   \n",
       "22                   23          20          0.999819   \n",
       "23                   24          21          0.986038   \n",
       "26                   23          24          0.998123   \n",
       "27                   24          25          0.999381   \n",
       "30                   23          28          0.995854   \n",
       "31                   23          28          0.974154   \n",
       "34                   23          32          0.999820   \n",
       "35                   26          33          0.994134   \n",
       "38                   23          36          0.990097   \n",
       "39                   32          37          0.978737   \n",
       "42                   24          40          0.998547   \n",
       "43                   25          41          0.999193   \n",
       "46                   23          44          0.999169   \n",
       "47                   26          45          0.984324   \n",
       "50                   23          48          0.999133   \n",
       "51                   25          49          0.997414   \n",
       "54                   23          52          0.999666   \n",
       "55                   24          53          0.998827   \n",
       "58                   23          56          0.997240   \n",
       "59                   25          57          0.997488   \n",
       "\n",
       "                                            path_file ground_truth  \n",
       "2   results/eval_rats_15_tests_1/paths/path_164252...         left  \n",
       "3   results/eval_rats_15_tests_1/paths/path_164252...        right  \n",
       "6   results/eval_rats_15_tests_1/paths/path_164252...         left  \n",
       "7   results/eval_rats_15_tests_1/paths/path_164252...        right  \n",
       "10  results/eval_rats_15_tests_1/paths/path_164252...         left  \n",
       "11  results/eval_rats_15_tests_1/paths/path_164252...        right  \n",
       "14  results/eval_rats_15_tests_1/paths/path_164252...         left  \n",
       "15  results/eval_rats_15_tests_1/paths/path_164252...        right  \n",
       "18  results/eval_rats_15_tests_1/paths/path_164252...         left  \n",
       "19  results/eval_rats_15_tests_1/paths/path_164252...        right  \n",
       "22  results/eval_rats_15_tests_1/paths/path_164252...         left  \n",
       "23  results/eval_rats_15_tests_1/paths/path_164252...        right  \n",
       "26  results/eval_rats_15_tests_1/paths/path_164252...         left  \n",
       "27  results/eval_rats_15_tests_1/paths/path_164252...        right  \n",
       "30  results/eval_rats_15_tests_1/paths/path_164252...         left  \n",
       "31  results/eval_rats_15_tests_1/paths/path_164252...        right  \n",
       "34  results/eval_rats_15_tests_1/paths/path_164252...         left  \n",
       "35  results/eval_rats_15_tests_1/paths/path_164252...        right  \n",
       "38  results/eval_rats_15_tests_1/paths/path_164252...         left  \n",
       "39  results/eval_rats_15_tests_1/paths/path_164252...        right  \n",
       "42  results/eval_rats_15_tests_1/paths/path_164252...         left  \n",
       "43  results/eval_rats_15_tests_1/paths/path_164252...        right  \n",
       "46  results/eval_rats_15_tests_1/paths/path_164252...         left  \n",
       "47  results/eval_rats_15_tests_1/paths/path_164252...        right  \n",
       "50  results/eval_rats_15_tests_1/paths/path_164252...         left  \n",
       "51  results/eval_rats_15_tests_1/paths/path_164252...        right  \n",
       "54  results/eval_rats_15_tests_1/paths/path_164252...         left  \n",
       "55  results/eval_rats_15_tests_1/paths/path_164252...        right  \n",
       "58  results/eval_rats_15_tests_1/paths/path_164252...         left  \n",
       "59  results/eval_rats_15_tests_1/paths/path_164252...        right  "
      ]
     },
     "metadata": {},
     "output_type": "display_data"
    }
   ],
   "source": [
    "experiment_results_file = 'results/eval_rats_15_tests_1/results_1642523202.4291527.csv'\n",
    "results = pd.read_csv(experiment_results_file)\n",
    "# display(results)\n",
    "\n",
    "results_training = results.loc[results.stage == 'train']\n",
    "results_testing  = results.loc[results.stage == 'test']\n",
    "\n",
    "from sklearn.metrics import confusion_matrix\n",
    "confussion = confusion_matrix(results_testing.ground_truth, results_testing.classification)\n",
    "\n",
    "display(Markdown('### Confusion Matrix'))\n",
    "display(confussion)\n",
    "\n",
    "display(Markdown('### Distance between reservoir states of same sequence at decision point'))\n",
    "display(f'Mean: {results_testing.nearest_distance.mean()}')\n",
    "display(f'STD:  {results_testing.nearest_distance.std()}')\n",
    "\n",
    "missclasified = results_testing.loc[results_testing.classification != results_testing.ground_truth]\n",
    "display(Markdown('### Missclassified'))\n",
    "display(missclasified)\n",
    "\n",
    "display(Markdown('### Training Data'))\n",
    "display(results_training)\n",
    "\n",
    "display(Markdown('### Test Data'))\n",
    "display(results_testing)\n",
    "\n",
    "\n"
   ]
  },
  {
   "cell_type": "markdown",
   "metadata": {
    "tags": []
   },
   "source": [
    "## Plot robot paths"
   ]
  },
  {
   "cell_type": "code",
   "execution_count": 3,
   "metadata": {
    "collapsed": true,
    "jupyter": {
     "outputs_hidden": true,
     "source_hidden": true
    },
    "tags": []
   },
   "outputs": [
    {
     "data": {
      "text/html": [
       "\n",
       "    <div class=\"bk-root\">\n",
       "        <a href=\"https://bokeh.org\" target=\"_blank\" class=\"bk-logo bk-logo-small bk-logo-notebook\"></a>\n",
       "        <span id=\"1002\">Loading BokehJS ...</span>\n",
       "    </div>"
      ]
     },
     "metadata": {},
     "output_type": "display_data"
    },
    {
     "data": {
      "application/javascript": [
       "\n",
       "(function(root) {\n",
       "  function now() {\n",
       "    return new Date();\n",
       "  }\n",
       "\n",
       "  const force = true;\n",
       "\n",
       "  if (typeof root._bokeh_onload_callbacks === \"undefined\" || force === true) {\n",
       "    root._bokeh_onload_callbacks = [];\n",
       "    root._bokeh_is_loading = undefined;\n",
       "  }\n",
       "\n",
       "  const JS_MIME_TYPE = 'application/javascript';\n",
       "  const HTML_MIME_TYPE = 'text/html';\n",
       "  const EXEC_MIME_TYPE = 'application/vnd.bokehjs_exec.v0+json';\n",
       "  const CLASS_NAME = 'output_bokeh rendered_html';\n",
       "\n",
       "  /**\n",
       "   * Render data to the DOM node\n",
       "   */\n",
       "  function render(props, node) {\n",
       "    const script = document.createElement(\"script\");\n",
       "    node.appendChild(script);\n",
       "  }\n",
       "\n",
       "  /**\n",
       "   * Handle when an output is cleared or removed\n",
       "   */\n",
       "  function handleClearOutput(event, handle) {\n",
       "    const cell = handle.cell;\n",
       "\n",
       "    const id = cell.output_area._bokeh_element_id;\n",
       "    const server_id = cell.output_area._bokeh_server_id;\n",
       "    // Clean up Bokeh references\n",
       "    if (id != null && id in Bokeh.index) {\n",
       "      Bokeh.index[id].model.document.clear();\n",
       "      delete Bokeh.index[id];\n",
       "    }\n",
       "\n",
       "    if (server_id !== undefined) {\n",
       "      // Clean up Bokeh references\n",
       "      const cmd_clean = \"from bokeh.io.state import curstate; print(curstate().uuid_to_server['\" + server_id + \"'].get_sessions()[0].document.roots[0]._id)\";\n",
       "      cell.notebook.kernel.execute(cmd_clean, {\n",
       "        iopub: {\n",
       "          output: function(msg) {\n",
       "            const id = msg.content.text.trim();\n",
       "            if (id in Bokeh.index) {\n",
       "              Bokeh.index[id].model.document.clear();\n",
       "              delete Bokeh.index[id];\n",
       "            }\n",
       "          }\n",
       "        }\n",
       "      });\n",
       "      // Destroy server and session\n",
       "      const cmd_destroy = \"import bokeh.io.notebook as ion; ion.destroy_server('\" + server_id + \"')\";\n",
       "      cell.notebook.kernel.execute(cmd_destroy);\n",
       "    }\n",
       "  }\n",
       "\n",
       "  /**\n",
       "   * Handle when a new output is added\n",
       "   */\n",
       "  function handleAddOutput(event, handle) {\n",
       "    const output_area = handle.output_area;\n",
       "    const output = handle.output;\n",
       "\n",
       "    // limit handleAddOutput to display_data with EXEC_MIME_TYPE content only\n",
       "    if ((output.output_type != \"display_data\") || (!Object.prototype.hasOwnProperty.call(output.data, EXEC_MIME_TYPE))) {\n",
       "      return\n",
       "    }\n",
       "\n",
       "    const toinsert = output_area.element.find(\".\" + CLASS_NAME.split(' ')[0]);\n",
       "\n",
       "    if (output.metadata[EXEC_MIME_TYPE][\"id\"] !== undefined) {\n",
       "      toinsert[toinsert.length - 1].firstChild.textContent = output.data[JS_MIME_TYPE];\n",
       "      // store reference to embed id on output_area\n",
       "      output_area._bokeh_element_id = output.metadata[EXEC_MIME_TYPE][\"id\"];\n",
       "    }\n",
       "    if (output.metadata[EXEC_MIME_TYPE][\"server_id\"] !== undefined) {\n",
       "      const bk_div = document.createElement(\"div\");\n",
       "      bk_div.innerHTML = output.data[HTML_MIME_TYPE];\n",
       "      const script_attrs = bk_div.children[0].attributes;\n",
       "      for (let i = 0; i < script_attrs.length; i++) {\n",
       "        toinsert[toinsert.length - 1].firstChild.setAttribute(script_attrs[i].name, script_attrs[i].value);\n",
       "        toinsert[toinsert.length - 1].firstChild.textContent = bk_div.children[0].textContent\n",
       "      }\n",
       "      // store reference to server id on output_area\n",
       "      output_area._bokeh_server_id = output.metadata[EXEC_MIME_TYPE][\"server_id\"];\n",
       "    }\n",
       "  }\n",
       "\n",
       "  function register_renderer(events, OutputArea) {\n",
       "\n",
       "    function append_mime(data, metadata, element) {\n",
       "      // create a DOM node to render to\n",
       "      const toinsert = this.create_output_subarea(\n",
       "        metadata,\n",
       "        CLASS_NAME,\n",
       "        EXEC_MIME_TYPE\n",
       "      );\n",
       "      this.keyboard_manager.register_events(toinsert);\n",
       "      // Render to node\n",
       "      const props = {data: data, metadata: metadata[EXEC_MIME_TYPE]};\n",
       "      render(props, toinsert[toinsert.length - 1]);\n",
       "      element.append(toinsert);\n",
       "      return toinsert\n",
       "    }\n",
       "\n",
       "    /* Handle when an output is cleared or removed */\n",
       "    events.on('clear_output.CodeCell', handleClearOutput);\n",
       "    events.on('delete.Cell', handleClearOutput);\n",
       "\n",
       "    /* Handle when a new output is added */\n",
       "    events.on('output_added.OutputArea', handleAddOutput);\n",
       "\n",
       "    /**\n",
       "     * Register the mime type and append_mime function with output_area\n",
       "     */\n",
       "    OutputArea.prototype.register_mime_type(EXEC_MIME_TYPE, append_mime, {\n",
       "      /* Is output safe? */\n",
       "      safe: true,\n",
       "      /* Index of renderer in `output_area.display_order` */\n",
       "      index: 0\n",
       "    });\n",
       "  }\n",
       "\n",
       "  // register the mime type if in Jupyter Notebook environment and previously unregistered\n",
       "  if (root.Jupyter !== undefined) {\n",
       "    const events = require('base/js/events');\n",
       "    const OutputArea = require('notebook/js/outputarea').OutputArea;\n",
       "\n",
       "    if (OutputArea.prototype.mime_types().indexOf(EXEC_MIME_TYPE) == -1) {\n",
       "      register_renderer(events, OutputArea);\n",
       "    }\n",
       "  }\n",
       "\n",
       "  \n",
       "  if (typeof (root._bokeh_timeout) === \"undefined\" || force === true) {\n",
       "    root._bokeh_timeout = Date.now() + 5000;\n",
       "    root._bokeh_failed_load = false;\n",
       "  }\n",
       "\n",
       "  const NB_LOAD_WARNING = {'data': {'text/html':\n",
       "     \"<div style='background-color: #fdd'>\\n\"+\n",
       "     \"<p>\\n\"+\n",
       "     \"BokehJS does not appear to have successfully loaded. If loading BokehJS from CDN, this \\n\"+\n",
       "     \"may be due to a slow or bad network connection. Possible fixes:\\n\"+\n",
       "     \"</p>\\n\"+\n",
       "     \"<ul>\\n\"+\n",
       "     \"<li>re-rerun `output_notebook()` to attempt to load from CDN again, or</li>\\n\"+\n",
       "     \"<li>use INLINE resources instead, as so:</li>\\n\"+\n",
       "     \"</ul>\\n\"+\n",
       "     \"<code>\\n\"+\n",
       "     \"from bokeh.resources import INLINE\\n\"+\n",
       "     \"output_notebook(resources=INLINE)\\n\"+\n",
       "     \"</code>\\n\"+\n",
       "     \"</div>\"}};\n",
       "\n",
       "  function display_loaded() {\n",
       "    const el = document.getElementById(\"1002\");\n",
       "    if (el != null) {\n",
       "      el.textContent = \"BokehJS is loading...\";\n",
       "    }\n",
       "    if (root.Bokeh !== undefined) {\n",
       "      if (el != null) {\n",
       "        el.textContent = \"BokehJS \" + root.Bokeh.version + \" successfully loaded.\";\n",
       "      }\n",
       "    } else if (Date.now() < root._bokeh_timeout) {\n",
       "      setTimeout(display_loaded, 100)\n",
       "    }\n",
       "  }\n",
       "\n",
       "\n",
       "  function run_callbacks() {\n",
       "    try {\n",
       "      root._bokeh_onload_callbacks.forEach(function(callback) {\n",
       "        if (callback != null)\n",
       "          callback();\n",
       "      });\n",
       "    } finally {\n",
       "      delete root._bokeh_onload_callbacks\n",
       "    }\n",
       "    console.debug(\"Bokeh: all callbacks have finished\");\n",
       "  }\n",
       "\n",
       "  function load_libs(css_urls, js_urls, callback) {\n",
       "    if (css_urls == null) css_urls = [];\n",
       "    if (js_urls == null) js_urls = [];\n",
       "\n",
       "    root._bokeh_onload_callbacks.push(callback);\n",
       "    if (root._bokeh_is_loading > 0) {\n",
       "      console.debug(\"Bokeh: BokehJS is being loaded, scheduling callback at\", now());\n",
       "      return null;\n",
       "    }\n",
       "    if (js_urls == null || js_urls.length === 0) {\n",
       "      run_callbacks();\n",
       "      return null;\n",
       "    }\n",
       "    console.debug(\"Bokeh: BokehJS not loaded, scheduling load and callback at\", now());\n",
       "    root._bokeh_is_loading = css_urls.length + js_urls.length;\n",
       "\n",
       "    function on_load() {\n",
       "      root._bokeh_is_loading--;\n",
       "      if (root._bokeh_is_loading === 0) {\n",
       "        console.debug(\"Bokeh: all BokehJS libraries/stylesheets loaded\");\n",
       "        run_callbacks()\n",
       "      }\n",
       "    }\n",
       "\n",
       "    function on_error(url) {\n",
       "      console.error(\"failed to load \" + url);\n",
       "    }\n",
       "\n",
       "    for (let i = 0; i < css_urls.length; i++) {\n",
       "      const url = css_urls[i];\n",
       "      const element = document.createElement(\"link\");\n",
       "      element.onload = on_load;\n",
       "      element.onerror = on_error.bind(null, url);\n",
       "      element.rel = \"stylesheet\";\n",
       "      element.type = \"text/css\";\n",
       "      element.href = url;\n",
       "      console.debug(\"Bokeh: injecting link tag for BokehJS stylesheet: \", url);\n",
       "      document.body.appendChild(element);\n",
       "    }\n",
       "\n",
       "    for (let i = 0; i < js_urls.length; i++) {\n",
       "      const url = js_urls[i];\n",
       "      const element = document.createElement('script');\n",
       "      element.onload = on_load;\n",
       "      element.onerror = on_error.bind(null, url);\n",
       "      element.async = false;\n",
       "      element.src = url;\n",
       "      console.debug(\"Bokeh: injecting script tag for BokehJS library: \", url);\n",
       "      document.head.appendChild(element);\n",
       "    }\n",
       "  };\n",
       "\n",
       "  function inject_raw_css(css) {\n",
       "    const element = document.createElement(\"style\");\n",
       "    element.appendChild(document.createTextNode(css));\n",
       "    document.body.appendChild(element);\n",
       "  }\n",
       "\n",
       "  \n",
       "  const js_urls = [\"https://cdn.bokeh.org/bokeh/release/bokeh-2.4.2.min.js\", \"https://cdn.bokeh.org/bokeh/release/bokeh-gl-2.4.2.min.js\", \"https://cdn.bokeh.org/bokeh/release/bokeh-widgets-2.4.2.min.js\", \"https://cdn.bokeh.org/bokeh/release/bokeh-tables-2.4.2.min.js\", \"https://cdn.bokeh.org/bokeh/release/bokeh-mathjax-2.4.2.min.js\"];\n",
       "  const css_urls = [];\n",
       "  \n",
       "\n",
       "  const inline_js = [\n",
       "    function(Bokeh) {\n",
       "      Bokeh.set_log_level(\"info\");\n",
       "    },\n",
       "    function(Bokeh) {\n",
       "    \n",
       "    \n",
       "    }\n",
       "  ];\n",
       "\n",
       "  function run_inline_js() {\n",
       "    \n",
       "    if (root.Bokeh !== undefined || force === true) {\n",
       "      \n",
       "    for (let i = 0; i < inline_js.length; i++) {\n",
       "      inline_js[i].call(root, root.Bokeh);\n",
       "    }\n",
       "    if (force === true) {\n",
       "        display_loaded();\n",
       "      }} else if (Date.now() < root._bokeh_timeout) {\n",
       "      setTimeout(run_inline_js, 100);\n",
       "    } else if (!root._bokeh_failed_load) {\n",
       "      console.log(\"Bokeh: BokehJS failed to load within specified timeout.\");\n",
       "      root._bokeh_failed_load = true;\n",
       "    } else if (force !== true) {\n",
       "      const cell = $(document.getElementById(\"1002\")).parents('.cell').data().cell;\n",
       "      cell.output_area.append_execute_result(NB_LOAD_WARNING)\n",
       "    }\n",
       "\n",
       "  }\n",
       "\n",
       "  if (root._bokeh_is_loading === 0) {\n",
       "    console.debug(\"Bokeh: BokehJS loaded, going straight to plotting\");\n",
       "    run_inline_js();\n",
       "  } else {\n",
       "    load_libs(css_urls, js_urls, function() {\n",
       "      console.debug(\"Bokeh: BokehJS plotting callback run at\", now());\n",
       "      run_inline_js();\n",
       "    });\n",
       "  }\n",
       "}(window));"
      ],
      "application/vnd.bokehjs_load.v0+json": "\n(function(root) {\n  function now() {\n    return new Date();\n  }\n\n  const force = true;\n\n  if (typeof root._bokeh_onload_callbacks === \"undefined\" || force === true) {\n    root._bokeh_onload_callbacks = [];\n    root._bokeh_is_loading = undefined;\n  }\n\n  \n\n  \n  if (typeof (root._bokeh_timeout) === \"undefined\" || force === true) {\n    root._bokeh_timeout = Date.now() + 5000;\n    root._bokeh_failed_load = false;\n  }\n\n  const NB_LOAD_WARNING = {'data': {'text/html':\n     \"<div style='background-color: #fdd'>\\n\"+\n     \"<p>\\n\"+\n     \"BokehJS does not appear to have successfully loaded. If loading BokehJS from CDN, this \\n\"+\n     \"may be due to a slow or bad network connection. Possible fixes:\\n\"+\n     \"</p>\\n\"+\n     \"<ul>\\n\"+\n     \"<li>re-rerun `output_notebook()` to attempt to load from CDN again, or</li>\\n\"+\n     \"<li>use INLINE resources instead, as so:</li>\\n\"+\n     \"</ul>\\n\"+\n     \"<code>\\n\"+\n     \"from bokeh.resources import INLINE\\n\"+\n     \"output_notebook(resources=INLINE)\\n\"+\n     \"</code>\\n\"+\n     \"</div>\"}};\n\n  function display_loaded() {\n    const el = document.getElementById(\"1002\");\n    if (el != null) {\n      el.textContent = \"BokehJS is loading...\";\n    }\n    if (root.Bokeh !== undefined) {\n      if (el != null) {\n        el.textContent = \"BokehJS \" + root.Bokeh.version + \" successfully loaded.\";\n      }\n    } else if (Date.now() < root._bokeh_timeout) {\n      setTimeout(display_loaded, 100)\n    }\n  }\n\n\n  function run_callbacks() {\n    try {\n      root._bokeh_onload_callbacks.forEach(function(callback) {\n        if (callback != null)\n          callback();\n      });\n    } finally {\n      delete root._bokeh_onload_callbacks\n    }\n    console.debug(\"Bokeh: all callbacks have finished\");\n  }\n\n  function load_libs(css_urls, js_urls, callback) {\n    if (css_urls == null) css_urls = [];\n    if (js_urls == null) js_urls = [];\n\n    root._bokeh_onload_callbacks.push(callback);\n    if (root._bokeh_is_loading > 0) {\n      console.debug(\"Bokeh: BokehJS is being loaded, scheduling callback at\", now());\n      return null;\n    }\n    if (js_urls == null || js_urls.length === 0) {\n      run_callbacks();\n      return null;\n    }\n    console.debug(\"Bokeh: BokehJS not loaded, scheduling load and callback at\", now());\n    root._bokeh_is_loading = css_urls.length + js_urls.length;\n\n    function on_load() {\n      root._bokeh_is_loading--;\n      if (root._bokeh_is_loading === 0) {\n        console.debug(\"Bokeh: all BokehJS libraries/stylesheets loaded\");\n        run_callbacks()\n      }\n    }\n\n    function on_error(url) {\n      console.error(\"failed to load \" + url);\n    }\n\n    for (let i = 0; i < css_urls.length; i++) {\n      const url = css_urls[i];\n      const element = document.createElement(\"link\");\n      element.onload = on_load;\n      element.onerror = on_error.bind(null, url);\n      element.rel = \"stylesheet\";\n      element.type = \"text/css\";\n      element.href = url;\n      console.debug(\"Bokeh: injecting link tag for BokehJS stylesheet: \", url);\n      document.body.appendChild(element);\n    }\n\n    for (let i = 0; i < js_urls.length; i++) {\n      const url = js_urls[i];\n      const element = document.createElement('script');\n      element.onload = on_load;\n      element.onerror = on_error.bind(null, url);\n      element.async = false;\n      element.src = url;\n      console.debug(\"Bokeh: injecting script tag for BokehJS library: \", url);\n      document.head.appendChild(element);\n    }\n  };\n\n  function inject_raw_css(css) {\n    const element = document.createElement(\"style\");\n    element.appendChild(document.createTextNode(css));\n    document.body.appendChild(element);\n  }\n\n  \n  const js_urls = [\"https://cdn.bokeh.org/bokeh/release/bokeh-2.4.2.min.js\", \"https://cdn.bokeh.org/bokeh/release/bokeh-gl-2.4.2.min.js\", \"https://cdn.bokeh.org/bokeh/release/bokeh-widgets-2.4.2.min.js\", \"https://cdn.bokeh.org/bokeh/release/bokeh-tables-2.4.2.min.js\", \"https://cdn.bokeh.org/bokeh/release/bokeh-mathjax-2.4.2.min.js\"];\n  const css_urls = [];\n  \n\n  const inline_js = [\n    function(Bokeh) {\n      Bokeh.set_log_level(\"info\");\n    },\n    function(Bokeh) {\n    \n    \n    }\n  ];\n\n  function run_inline_js() {\n    \n    if (root.Bokeh !== undefined || force === true) {\n      \n    for (let i = 0; i < inline_js.length; i++) {\n      inline_js[i].call(root, root.Bokeh);\n    }\n    if (force === true) {\n        display_loaded();\n      }} else if (Date.now() < root._bokeh_timeout) {\n      setTimeout(run_inline_js, 100);\n    } else if (!root._bokeh_failed_load) {\n      console.log(\"Bokeh: BokehJS failed to load within specified timeout.\");\n      root._bokeh_failed_load = true;\n    } else if (force !== true) {\n      const cell = $(document.getElementById(\"1002\")).parents('.cell').data().cell;\n      cell.output_area.append_execute_result(NB_LOAD_WARNING)\n    }\n\n  }\n\n  if (root._bokeh_is_loading === 0) {\n    console.debug(\"Bokeh: BokehJS loaded, going straight to plotting\");\n    run_inline_js();\n  } else {\n    load_libs(css_urls, js_urls, function() {\n      console.debug(\"Bokeh: BokehJS plotting callback run at\", now());\n      run_inline_js();\n    });\n  }\n}(window));"
     },
     "metadata": {},
     "output_type": "display_data"
    },
    {
     "data": {
      "application/vnd.jupyter.widget-view+json": {
       "model_id": "cd9c55dcd65a472c94bb2020de582cf0",
       "version_major": 2,
       "version_minor": 0
      },
      "text/plain": [
       "Tab(children=(Output(), Output(), Output(), Output(), Output(), Output(), Output(), Output(), Output(), Output…"
      ]
     },
     "metadata": {},
     "output_type": "display_data"
    }
   ],
   "source": [
    "from plotnine import *\n",
    "import pandas_bokeh\n",
    "pandas_bokeh.output_notebook()\n",
    "from bokeh.models import Range1d\n",
    "\n",
    "\n",
    "\n",
    "experiment_paths = { f'Rat {r}' : {} for r in results.rat.unique()}\n",
    "for s_id, row in results.iterrows():\n",
    "    experiment_paths[f'Rat {row[\"rat\"]}'][f'{row[\"stage\"]} {row[\"sequence_type\"]}'] = pd.read_csv(row[\"path_file\"])\n",
    "# display(experiment_paths)\n",
    "\n",
    "# experiment_paths = {f'Rat {row[\"rat\"]} {row[\"stage\"]} {row[\"sequence_type\"]}' : pd.read_csv(row[\"path_file\"]) for index, row in results.iterrows()}\n",
    "# # display(experiment_paths)\n",
    "\n",
    "rat_tabs = create_empty_tabs(experiment_paths)\n",
    "\n",
    "for k, r_tab in rat_tabs.items():\n",
    "    with r_tab:\n",
    "        rat_paths = experiment_paths[k]\n",
    "        path_tabs = create_empty_tabs(rat_paths)\n",
    "        \n",
    "        for k2, p_tab in path_tabs.items():\n",
    "            with p_tab:\n",
    "            \n",
    "                # reset index dropping old values, then add new index column by resetting again\n",
    "                path = rat_paths[k2].copy().reset_index(drop=True).reset_index()\n",
    "                hover_string = '''<span style=\"font-size: 15px;\"><b style=\"color:blue;\">id:</b> $index &nbsp \n",
    "                <b style=\"color:blue;\">(x,y):</b> ($x{0.000}, $y{0.000}) </span>\n",
    "                '''\n",
    "                fig = path.plot_bokeh.scatter(x='x',y='y',id='index', hovertool_string=hover_string)\n",
    "                fig.x_range=Range1d(-0.5, 0.5)\n",
    "                fig.y_range=Range1d(-1.5, 1.5 )\n",
    "                display(path)\n"
   ]
  },
  {
   "cell_type": "markdown",
   "metadata": {
    "tags": []
   },
   "source": [
    "## Durtion statistics"
   ]
  },
  {
   "cell_type": "code",
   "execution_count": 36,
   "metadata": {
    "collapsed": true,
    "jupyter": {
     "outputs_hidden": true
    },
    "tags": []
   },
   "outputs": [
    {
     "data": {
      "text/markdown": [
       "### Decision time boxplot"
      ],
      "text/plain": [
       "<IPython.core.display.Markdown object>"
      ]
     },
     "metadata": {},
     "output_type": "display_data"
    },
    {
     "data": {
      "application/vnd.jupyter.widget-view+json": {
       "model_id": "8e8ae51669d2474c94f81f477afe2835",
       "version_major": 2,
       "version_minor": 0
      },
      "image/png": "[encoded data removed]",
      "text/plain": [
       "Canvas(toolbar=Toolbar(toolitems=[('Home', 'Reset original view', 'home', 'home'), ('Back', 'Back to previous …"
      ]
     },
     "metadata": {},
     "output_type": "display_data"
    },
    {
     "data": {
      "text/markdown": [
       "### Anova"
      ],
      "text/plain": [
       "<IPython.core.display.Markdown object>"
      ]
     },
     "metadata": {},
     "output_type": "display_data"
    },
    {
     "data": {
      "text/html": [
       "<div>\n",
       "<style scoped>\n",
       "    .dataframe tbody tr th:only-of-type {\n",
       "        vertical-align: middle;\n",
       "    }\n",
       "\n",
       "    .dataframe tbody tr th {\n",
       "        vertical-align: top;\n",
       "    }\n",
       "\n",
       "    .dataframe thead th {\n",
       "        text-align: right;\n",
       "    }\n",
       "</style>\n",
       "<table border=\"1\" class=\"dataframe\">\n",
       "  <thead>\n",
       "    <tr style=\"text-align: right;\">\n",
       "      <th></th>\n",
       "      <th>Source</th>\n",
       "      <th>SS</th>\n",
       "      <th>DF</th>\n",
       "      <th>MS</th>\n",
       "      <th>F</th>\n",
       "      <th>p-unc</th>\n",
       "      <th>np2</th>\n",
       "    </tr>\n",
       "  </thead>\n",
       "  <tbody>\n",
       "    <tr>\n",
       "      <th>0</th>\n",
       "      <td>sequence_type</td>\n",
       "      <td>215.296877</td>\n",
       "      <td>1</td>\n",
       "      <td>215.296877</td>\n",
       "      <td>4.464490</td>\n",
       "      <td>0.039077</td>\n",
       "      <td>0.073837</td>\n",
       "    </tr>\n",
       "    <tr>\n",
       "      <th>1</th>\n",
       "      <td>stage</td>\n",
       "      <td>21.753610</td>\n",
       "      <td>1</td>\n",
       "      <td>21.753610</td>\n",
       "      <td>0.451092</td>\n",
       "      <td>0.504578</td>\n",
       "      <td>0.007991</td>\n",
       "    </tr>\n",
       "    <tr>\n",
       "      <th>2</th>\n",
       "      <td>sequence_type * stage</td>\n",
       "      <td>34.049510</td>\n",
       "      <td>1</td>\n",
       "      <td>34.049510</td>\n",
       "      <td>0.706066</td>\n",
       "      <td>0.404326</td>\n",
       "      <td>0.012451</td>\n",
       "    </tr>\n",
       "    <tr>\n",
       "      <th>3</th>\n",
       "      <td>Residual</td>\n",
       "      <td>2700.560341</td>\n",
       "      <td>56</td>\n",
       "      <td>48.224292</td>\n",
       "      <td>NaN</td>\n",
       "      <td>NaN</td>\n",
       "      <td>NaN</td>\n",
       "    </tr>\n",
       "  </tbody>\n",
       "</table>\n",
       "</div>"
      ],
      "text/plain": [
       "                  Source           SS  DF          MS         F     p-unc  \\\n",
       "0          sequence_type   215.296877   1  215.296877  4.464490  0.039077   \n",
       "1                  stage    21.753610   1   21.753610  0.451092  0.504578   \n",
       "2  sequence_type * stage    34.049510   1   34.049510  0.706066  0.404326   \n",
       "3               Residual  2700.560341  56   48.224292       NaN       NaN   \n",
       "\n",
       "        np2  \n",
       "0  0.073837  \n",
       "1  0.007991  \n",
       "2  0.012451  \n",
       "3       NaN  "
      ]
     },
     "metadata": {},
     "output_type": "display_data"
    },
    {
     "data": {
      "text/markdown": [
       "### DATA"
      ],
      "text/plain": [
       "<IPython.core.display.Markdown object>"
      ]
     },
     "metadata": {},
     "output_type": "display_data"
    },
    {
     "data": {
      "text/html": [
       "<div>\n",
       "<style scoped>\n",
       "    .dataframe tbody tr th:only-of-type {\n",
       "        vertical-align: middle;\n",
       "    }\n",
       "\n",
       "    .dataframe tbody tr th {\n",
       "        vertical-align: top;\n",
       "    }\n",
       "\n",
       "    .dataframe thead th {\n",
       "        text-align: right;\n",
       "    }\n",
       "</style>\n",
       "<table border=\"1\" class=\"dataframe\">\n",
       "  <thead>\n",
       "    <tr style=\"text-align: right;\">\n",
       "      <th></th>\n",
       "      <th>stage</th>\n",
       "      <th>sequence_type</th>\n",
       "      <th>total_time</th>\n",
       "      <th>decision_time</th>\n",
       "    </tr>\n",
       "  </thead>\n",
       "  <tbody>\n",
       "    <tr>\n",
       "      <th>0</th>\n",
       "      <td>train</td>\n",
       "      <td>sfs</td>\n",
       "      <td>23.650691</td>\n",
       "      <td>23.650691</td>\n",
       "    </tr>\n",
       "    <tr>\n",
       "      <th>1</th>\n",
       "      <td>train</td>\n",
       "      <td>fss</td>\n",
       "      <td>22.583274</td>\n",
       "      <td>22.583274</td>\n",
       "    </tr>\n",
       "    <tr>\n",
       "      <th>2</th>\n",
       "      <td>test</td>\n",
       "      <td>sfs</td>\n",
       "      <td>28.774046</td>\n",
       "      <td>23.670110</td>\n",
       "    </tr>\n",
       "    <tr>\n",
       "      <th>3</th>\n",
       "      <td>test</td>\n",
       "      <td>fss</td>\n",
       "      <td>38.047810</td>\n",
       "      <td>29.823938</td>\n",
       "    </tr>\n",
       "    <tr>\n",
       "      <th>4</th>\n",
       "      <td>train</td>\n",
       "      <td>sfs</td>\n",
       "      <td>23.653170</td>\n",
       "      <td>23.653170</td>\n",
       "    </tr>\n",
       "    <tr>\n",
       "      <th>5</th>\n",
       "      <td>train</td>\n",
       "      <td>fss</td>\n",
       "      <td>24.709621</td>\n",
       "      <td>24.709621</td>\n",
       "    </tr>\n",
       "    <tr>\n",
       "      <th>6</th>\n",
       "      <td>test</td>\n",
       "      <td>sfs</td>\n",
       "      <td>31.792568</td>\n",
       "      <td>25.679514</td>\n",
       "    </tr>\n",
       "    <tr>\n",
       "      <th>7</th>\n",
       "      <td>test</td>\n",
       "      <td>fss</td>\n",
       "      <td>49.344523</td>\n",
       "      <td>26.726172</td>\n",
       "    </tr>\n",
       "    <tr>\n",
       "      <th>8</th>\n",
       "      <td>train</td>\n",
       "      <td>sfs</td>\n",
       "      <td>27.733850</td>\n",
       "      <td>27.733850</td>\n",
       "    </tr>\n",
       "    <tr>\n",
       "      <th>9</th>\n",
       "      <td>train</td>\n",
       "      <td>fss</td>\n",
       "      <td>23.657799</td>\n",
       "      <td>23.657799</td>\n",
       "    </tr>\n",
       "    <tr>\n",
       "      <th>10</th>\n",
       "      <td>test</td>\n",
       "      <td>sfs</td>\n",
       "      <td>30.876529</td>\n",
       "      <td>25.761637</td>\n",
       "    </tr>\n",
       "    <tr>\n",
       "      <th>11</th>\n",
       "      <td>test</td>\n",
       "      <td>fss</td>\n",
       "      <td>46.220633</td>\n",
       "      <td>25.637016</td>\n",
       "    </tr>\n",
       "    <tr>\n",
       "      <th>12</th>\n",
       "      <td>train</td>\n",
       "      <td>sfs</td>\n",
       "      <td>23.659227</td>\n",
       "      <td>23.659227</td>\n",
       "    </tr>\n",
       "    <tr>\n",
       "      <th>13</th>\n",
       "      <td>train</td>\n",
       "      <td>fss</td>\n",
       "      <td>29.826487</td>\n",
       "      <td>29.826487</td>\n",
       "    </tr>\n",
       "    <tr>\n",
       "      <th>14</th>\n",
       "      <td>test</td>\n",
       "      <td>sfs</td>\n",
       "      <td>30.788736</td>\n",
       "      <td>25.669705</td>\n",
       "    </tr>\n",
       "    <tr>\n",
       "      <th>15</th>\n",
       "      <td>test</td>\n",
       "      <td>fss</td>\n",
       "      <td>79.230189</td>\n",
       "      <td>73.079651</td>\n",
       "    </tr>\n",
       "    <tr>\n",
       "      <th>16</th>\n",
       "      <td>train</td>\n",
       "      <td>sfs</td>\n",
       "      <td>24.684042</td>\n",
       "      <td>24.684042</td>\n",
       "    </tr>\n",
       "    <tr>\n",
       "      <th>17</th>\n",
       "      <td>train</td>\n",
       "      <td>fss</td>\n",
       "      <td>24.702720</td>\n",
       "      <td>24.702720</td>\n",
       "    </tr>\n",
       "    <tr>\n",
       "      <th>18</th>\n",
       "      <td>test</td>\n",
       "      <td>sfs</td>\n",
       "      <td>28.727959</td>\n",
       "      <td>23.653901</td>\n",
       "    </tr>\n",
       "    <tr>\n",
       "      <th>19</th>\n",
       "      <td>test</td>\n",
       "      <td>fss</td>\n",
       "      <td>40.126049</td>\n",
       "      <td>24.721222</td>\n",
       "    </tr>\n",
       "    <tr>\n",
       "      <th>20</th>\n",
       "      <td>train</td>\n",
       "      <td>sfs</td>\n",
       "      <td>23.659104</td>\n",
       "      <td>23.659104</td>\n",
       "    </tr>\n",
       "    <tr>\n",
       "      <th>21</th>\n",
       "      <td>train</td>\n",
       "      <td>fss</td>\n",
       "      <td>27.772117</td>\n",
       "      <td>27.772117</td>\n",
       "    </tr>\n",
       "    <tr>\n",
       "      <th>22</th>\n",
       "      <td>test</td>\n",
       "      <td>sfs</td>\n",
       "      <td>28.745014</td>\n",
       "      <td>23.608606</td>\n",
       "    </tr>\n",
       "    <tr>\n",
       "      <th>23</th>\n",
       "      <td>test</td>\n",
       "      <td>fss</td>\n",
       "      <td>29.828521</td>\n",
       "      <td>24.708248</td>\n",
       "    </tr>\n",
       "    <tr>\n",
       "      <th>24</th>\n",
       "      <td>train</td>\n",
       "      <td>sfs</td>\n",
       "      <td>24.645495</td>\n",
       "      <td>24.645495</td>\n",
       "    </tr>\n",
       "    <tr>\n",
       "      <th>25</th>\n",
       "      <td>train</td>\n",
       "      <td>fss</td>\n",
       "      <td>24.722675</td>\n",
       "      <td>24.722675</td>\n",
       "    </tr>\n",
       "    <tr>\n",
       "      <th>26</th>\n",
       "      <td>test</td>\n",
       "      <td>sfs</td>\n",
       "      <td>28.762766</td>\n",
       "      <td>23.629687</td>\n",
       "    </tr>\n",
       "    <tr>\n",
       "      <th>27</th>\n",
       "      <td>test</td>\n",
       "      <td>fss</td>\n",
       "      <td>30.866205</td>\n",
       "      <td>24.698758</td>\n",
       "    </tr>\n",
       "    <tr>\n",
       "      <th>28</th>\n",
       "      <td>train</td>\n",
       "      <td>sfs</td>\n",
       "      <td>26.735674</td>\n",
       "      <td>26.735674</td>\n",
       "    </tr>\n",
       "    <tr>\n",
       "      <th>29</th>\n",
       "      <td>train</td>\n",
       "      <td>fss</td>\n",
       "      <td>48.338671</td>\n",
       "      <td>48.338671</td>\n",
       "    </tr>\n",
       "    <tr>\n",
       "      <th>30</th>\n",
       "      <td>test</td>\n",
       "      <td>sfs</td>\n",
       "      <td>28.822651</td>\n",
       "      <td>23.650075</td>\n",
       "    </tr>\n",
       "    <tr>\n",
       "      <th>31</th>\n",
       "      <td>test</td>\n",
       "      <td>fss</td>\n",
       "      <td>28.851452</td>\n",
       "      <td>23.676621</td>\n",
       "    </tr>\n",
       "    <tr>\n",
       "      <th>32</th>\n",
       "      <td>train</td>\n",
       "      <td>sfs</td>\n",
       "      <td>23.617677</td>\n",
       "      <td>23.617677</td>\n",
       "    </tr>\n",
       "    <tr>\n",
       "      <th>33</th>\n",
       "      <td>train</td>\n",
       "      <td>fss</td>\n",
       "      <td>24.657151</td>\n",
       "      <td>24.657151</td>\n",
       "    </tr>\n",
       "    <tr>\n",
       "      <th>34</th>\n",
       "      <td>test</td>\n",
       "      <td>sfs</td>\n",
       "      <td>28.774960</td>\n",
       "      <td>23.640163</td>\n",
       "    </tr>\n",
       "    <tr>\n",
       "      <th>35</th>\n",
       "      <td>test</td>\n",
       "      <td>fss</td>\n",
       "      <td>32.877659</td>\n",
       "      <td>26.739175</td>\n",
       "    </tr>\n",
       "    <tr>\n",
       "      <th>36</th>\n",
       "      <td>train</td>\n",
       "      <td>sfs</td>\n",
       "      <td>24.616425</td>\n",
       "      <td>24.616425</td>\n",
       "    </tr>\n",
       "    <tr>\n",
       "      <th>37</th>\n",
       "      <td>train</td>\n",
       "      <td>fss</td>\n",
       "      <td>26.758120</td>\n",
       "      <td>26.758120</td>\n",
       "    </tr>\n",
       "    <tr>\n",
       "      <th>38</th>\n",
       "      <td>test</td>\n",
       "      <td>sfs</td>\n",
       "      <td>28.812399</td>\n",
       "      <td>23.677169</td>\n",
       "    </tr>\n",
       "    <tr>\n",
       "      <th>39</th>\n",
       "      <td>test</td>\n",
       "      <td>fss</td>\n",
       "      <td>39.071865</td>\n",
       "      <td>32.915552</td>\n",
       "    </tr>\n",
       "    <tr>\n",
       "      <th>40</th>\n",
       "      <td>train</td>\n",
       "      <td>sfs</td>\n",
       "      <td>23.645979</td>\n",
       "      <td>23.645979</td>\n",
       "    </tr>\n",
       "    <tr>\n",
       "      <th>41</th>\n",
       "      <td>train</td>\n",
       "      <td>fss</td>\n",
       "      <td>24.685823</td>\n",
       "      <td>24.685823</td>\n",
       "    </tr>\n",
       "    <tr>\n",
       "      <th>42</th>\n",
       "      <td>test</td>\n",
       "      <td>sfs</td>\n",
       "      <td>29.243721</td>\n",
       "      <td>24.202732</td>\n",
       "    </tr>\n",
       "    <tr>\n",
       "      <th>43</th>\n",
       "      <td>test</td>\n",
       "      <td>fss</td>\n",
       "      <td>33.324683</td>\n",
       "      <td>25.262472</td>\n",
       "    </tr>\n",
       "    <tr>\n",
       "      <th>44</th>\n",
       "      <td>train</td>\n",
       "      <td>sfs</td>\n",
       "      <td>23.604157</td>\n",
       "      <td>23.604157</td>\n",
       "    </tr>\n",
       "    <tr>\n",
       "      <th>45</th>\n",
       "      <td>train</td>\n",
       "      <td>fss</td>\n",
       "      <td>23.642106</td>\n",
       "      <td>23.642106</td>\n",
       "    </tr>\n",
       "    <tr>\n",
       "      <th>46</th>\n",
       "      <td>test</td>\n",
       "      <td>sfs</td>\n",
       "      <td>29.807964</td>\n",
       "      <td>23.634836</td>\n",
       "    </tr>\n",
       "    <tr>\n",
       "      <th>47</th>\n",
       "      <td>test</td>\n",
       "      <td>fss</td>\n",
       "      <td>38.167982</td>\n",
       "      <td>26.738092</td>\n",
       "    </tr>\n",
       "    <tr>\n",
       "      <th>48</th>\n",
       "      <td>train</td>\n",
       "      <td>sfs</td>\n",
       "      <td>23.666672</td>\n",
       "      <td>23.666672</td>\n",
       "    </tr>\n",
       "    <tr>\n",
       "      <th>49</th>\n",
       "      <td>train</td>\n",
       "      <td>fss</td>\n",
       "      <td>24.648880</td>\n",
       "      <td>24.648880</td>\n",
       "    </tr>\n",
       "    <tr>\n",
       "      <th>50</th>\n",
       "      <td>test</td>\n",
       "      <td>sfs</td>\n",
       "      <td>29.889811</td>\n",
       "      <td>23.660438</td>\n",
       "    </tr>\n",
       "    <tr>\n",
       "      <th>51</th>\n",
       "      <td>test</td>\n",
       "      <td>fss</td>\n",
       "      <td>31.889245</td>\n",
       "      <td>25.710666</td>\n",
       "    </tr>\n",
       "    <tr>\n",
       "      <th>52</th>\n",
       "      <td>train</td>\n",
       "      <td>sfs</td>\n",
       "      <td>23.654713</td>\n",
       "      <td>23.654713</td>\n",
       "    </tr>\n",
       "    <tr>\n",
       "      <th>53</th>\n",
       "      <td>train</td>\n",
       "      <td>fss</td>\n",
       "      <td>24.706356</td>\n",
       "      <td>24.706356</td>\n",
       "    </tr>\n",
       "    <tr>\n",
       "      <th>54</th>\n",
       "      <td>test</td>\n",
       "      <td>sfs</td>\n",
       "      <td>29.881430</td>\n",
       "      <td>23.605897</td>\n",
       "    </tr>\n",
       "    <tr>\n",
       "      <th>55</th>\n",
       "      <td>test</td>\n",
       "      <td>fss</td>\n",
       "      <td>29.753562</td>\n",
       "      <td>24.643045</td>\n",
       "    </tr>\n",
       "    <tr>\n",
       "      <th>56</th>\n",
       "      <td>train</td>\n",
       "      <td>sfs</td>\n",
       "      <td>24.673636</td>\n",
       "      <td>24.673636</td>\n",
       "    </tr>\n",
       "    <tr>\n",
       "      <th>57</th>\n",
       "      <td>train</td>\n",
       "      <td>fss</td>\n",
       "      <td>24.717375</td>\n",
       "      <td>24.717375</td>\n",
       "    </tr>\n",
       "    <tr>\n",
       "      <th>58</th>\n",
       "      <td>test</td>\n",
       "      <td>sfs</td>\n",
       "      <td>28.899487</td>\n",
       "      <td>23.620316</td>\n",
       "    </tr>\n",
       "    <tr>\n",
       "      <th>59</th>\n",
       "      <td>test</td>\n",
       "      <td>fss</td>\n",
       "      <td>31.982902</td>\n",
       "      <td>25.712051</td>\n",
       "    </tr>\n",
       "  </tbody>\n",
       "</table>\n",
       "</div>"
      ],
      "text/plain": [
       "    stage sequence_type  total_time  decision_time\n",
       "0   train           sfs   23.650691      23.650691\n",
       "1   train           fss   22.583274      22.583274\n",
       "2    test           sfs   28.774046      23.670110\n",
       "3    test           fss   38.047810      29.823938\n",
       "4   train           sfs   23.653170      23.653170\n",
       "5   train           fss   24.709621      24.709621\n",
       "6    test           sfs   31.792568      25.679514\n",
       "7    test           fss   49.344523      26.726172\n",
       "8   train           sfs   27.733850      27.733850\n",
       "9   train           fss   23.657799      23.657799\n",
       "10   test           sfs   30.876529      25.761637\n",
       "11   test           fss   46.220633      25.637016\n",
       "12  train           sfs   23.659227      23.659227\n",
       "13  train           fss   29.826487      29.826487\n",
       "14   test           sfs   30.788736      25.669705\n",
       "15   test           fss   79.230189      73.079651\n",
       "16  train           sfs   24.684042      24.684042\n",
       "17  train           fss   24.702720      24.702720\n",
       "18   test           sfs   28.727959      23.653901\n",
       "19   test           fss   40.126049      24.721222\n",
       "20  train           sfs   23.659104      23.659104\n",
       "21  train           fss   27.772117      27.772117\n",
       "22   test           sfs   28.745014      23.608606\n",
       "23   test           fss   29.828521      24.708248\n",
       "24  train           sfs   24.645495      24.645495\n",
       "25  train           fss   24.722675      24.722675\n",
       "26   test           sfs   28.762766      23.629687\n",
       "27   test           fss   30.866205      24.698758\n",
       "28  train           sfs   26.735674      26.735674\n",
       "29  train           fss   48.338671      48.338671\n",
       "30   test           sfs   28.822651      23.650075\n",
       "31   test           fss   28.851452      23.676621\n",
       "32  train           sfs   23.617677      23.617677\n",
       "33  train           fss   24.657151      24.657151\n",
       "34   test           sfs   28.774960      23.640163\n",
       "35   test           fss   32.877659      26.739175\n",
       "36  train           sfs   24.616425      24.616425\n",
       "37  train           fss   26.758120      26.758120\n",
       "38   test           sfs   28.812399      23.677169\n",
       "39   test           fss   39.071865      32.915552\n",
       "40  train           sfs   23.645979      23.645979\n",
       "41  train           fss   24.685823      24.685823\n",
       "42   test           sfs   29.243721      24.202732\n",
       "43   test           fss   33.324683      25.262472\n",
       "44  train           sfs   23.604157      23.604157\n",
       "45  train           fss   23.642106      23.642106\n",
       "46   test           sfs   29.807964      23.634836\n",
       "47   test           fss   38.167982      26.738092\n",
       "48  train           sfs   23.666672      23.666672\n",
       "49  train           fss   24.648880      24.648880\n",
       "50   test           sfs   29.889811      23.660438\n",
       "51   test           fss   31.889245      25.710666\n",
       "52  train           sfs   23.654713      23.654713\n",
       "53  train           fss   24.706356      24.706356\n",
       "54   test           sfs   29.881430      23.605897\n",
       "55   test           fss   29.753562      24.643045\n",
       "56  train           sfs   24.673636      24.673636\n",
       "57  train           fss   24.717375      24.717375\n",
       "58   test           sfs   28.899487      23.620316\n",
       "59   test           fss   31.982902      25.712051"
      ]
     },
     "metadata": {},
     "output_type": "display_data"
    }
   ],
   "source": [
    "def get_total_time(row):\n",
    "    return pd.read_csv(row['path_file']).t.iloc[-1]\n",
    "\n",
    "def get_decision_time(row):\n",
    "    index = row['decision_time_index']\n",
    "    return pd.read_csv(row['path_file']).t.iloc[ index if index < 9999 else -1]\n",
    "\n",
    "results['total_time'] = results.apply(get_total_time, axis=1)\n",
    "results['decision_time'] = results.apply(get_decision_time, axis=1)\n",
    "\n",
    "\n",
    "display(Markdown(\"### Decision time boxplot\"))\n",
    "%matplotlib widget\n",
    "# results.boxplot(column=\"decision_time\", by=\"sequence_type\")\n",
    "sns.set(font_scale = 2)\n",
    "sns.boxplot(y=\"decision_time\", x=\"stage\", data=results, hue=\"sequence_type\", palette=\"Set3\")\n",
    "sns.stripplot(y=\"decision_time\", x=\"stage\", data=results, hue=\"sequence_type\", color = 'black', dodge = True)\n",
    "\n",
    "plt.show()\n",
    "\n",
    "anova = pg.anova(dv='decision_time', between=['sequence_type','stage'], data=results, detailed=True)\n",
    "display(Markdown(f'### Anova'), anova)\n",
    "\n",
    "\n",
    "display(Markdown(\"### DATA\"))\n",
    "display(results[['stage','sequence_type','total_time','decision_time']])\n",
    "\n",
    "\n",
    "\n"
   ]
  },
  {
   "cell_type": "markdown",
   "metadata": {
    "jp-MarkdownHeadingCollapsed": true,
    "tags": []
   },
   "source": [
    "## Duration statistics after filtering paths"
   ]
  },
  {
   "cell_type": "code",
   "execution_count": 10,
   "metadata": {
    "collapsed": true,
    "jupyter": {
     "outputs_hidden": true,
     "source_hidden": true
    },
    "tags": []
   },
   "outputs": [
    {
     "data": {
      "text/markdown": [
       "### Decision time boxplot"
      ],
      "text/plain": [
       "<IPython.core.display.Markdown object>"
      ]
     },
     "metadata": {},
     "output_type": "display_data"
    },
    {
     "data": {
      "application/vnd.jupyter.widget-view+json": {
       "model_id": "e227f12887cb49d18d4ea537bb574588",
       "version_major": 2,
       "version_minor": 0
      },
      "image/png": "[encoded data removed]",
      "text/plain": [
       "Canvas(toolbar=Toolbar(toolitems=[('Home', 'Reset original view', 'home', 'home'), ('Back', 'Back to previous …"
      ]
     },
     "metadata": {},
     "output_type": "display_data"
    },
    {
     "data": {
      "text/markdown": [
       "### Anova"
      ],
      "text/plain": [
       "<IPython.core.display.Markdown object>"
      ]
     },
     "metadata": {},
     "output_type": "display_data"
    },
    {
     "data": {
      "text/html": [
       "<div>\n",
       "<style scoped>\n",
       "    .dataframe tbody tr th:only-of-type {\n",
       "        vertical-align: middle;\n",
       "    }\n",
       "\n",
       "    .dataframe tbody tr th {\n",
       "        vertical-align: top;\n",
       "    }\n",
       "\n",
       "    .dataframe thead th {\n",
       "        text-align: right;\n",
       "    }\n",
       "</style>\n",
       "<table border=\"1\" class=\"dataframe\">\n",
       "  <thead>\n",
       "    <tr style=\"text-align: right;\">\n",
       "      <th></th>\n",
       "      <th>Source</th>\n",
       "      <th>SS</th>\n",
       "      <th>DF</th>\n",
       "      <th>MS</th>\n",
       "      <th>F</th>\n",
       "      <th>p-unc</th>\n",
       "      <th>np2</th>\n",
       "    </tr>\n",
       "  </thead>\n",
       "  <tbody>\n",
       "    <tr>\n",
       "      <th>0</th>\n",
       "      <td>sequence_type</td>\n",
       "      <td>0.416667</td>\n",
       "      <td>1</td>\n",
       "      <td>0.416667</td>\n",
       "      <td>0.673077</td>\n",
       "      <td>0.415460</td>\n",
       "      <td>0.011876</td>\n",
       "    </tr>\n",
       "    <tr>\n",
       "      <th>1</th>\n",
       "      <td>stage</td>\n",
       "      <td>0.416667</td>\n",
       "      <td>1</td>\n",
       "      <td>0.416667</td>\n",
       "      <td>0.673077</td>\n",
       "      <td>0.415460</td>\n",
       "      <td>0.011876</td>\n",
       "    </tr>\n",
       "    <tr>\n",
       "      <th>2</th>\n",
       "      <td>sequence_type * stage</td>\n",
       "      <td>1.350000</td>\n",
       "      <td>1</td>\n",
       "      <td>1.350000</td>\n",
       "      <td>2.180769</td>\n",
       "      <td>0.145346</td>\n",
       "      <td>0.037483</td>\n",
       "    </tr>\n",
       "    <tr>\n",
       "      <th>3</th>\n",
       "      <td>Residual</td>\n",
       "      <td>34.666667</td>\n",
       "      <td>56</td>\n",
       "      <td>0.619048</td>\n",
       "      <td>NaN</td>\n",
       "      <td>NaN</td>\n",
       "      <td>NaN</td>\n",
       "    </tr>\n",
       "  </tbody>\n",
       "</table>\n",
       "</div>"
      ],
      "text/plain": [
       "                  Source         SS  DF        MS         F     p-unc  \\\n",
       "0          sequence_type   0.416667   1  0.416667  0.673077  0.415460   \n",
       "1                  stage   0.416667   1  0.416667  0.673077  0.415460   \n",
       "2  sequence_type * stage   1.350000   1  1.350000  2.180769  0.145346   \n",
       "3               Residual  34.666667  56  0.619048       NaN       NaN   \n",
       "\n",
       "        np2  \n",
       "0  0.011876  \n",
       "1  0.011876  \n",
       "2  0.037483  \n",
       "3       NaN  "
      ]
     },
     "metadata": {},
     "output_type": "display_data"
    },
    {
     "data": {
      "text/markdown": [
       "### DATA"
      ],
      "text/plain": [
       "<IPython.core.display.Markdown object>"
      ]
     },
     "metadata": {},
     "output_type": "display_data"
    },
    {
     "data": {
      "text/html": [
       "<div>\n",
       "<style scoped>\n",
       "    .dataframe tbody tr th:only-of-type {\n",
       "        vertical-align: middle;\n",
       "    }\n",
       "\n",
       "    .dataframe tbody tr th {\n",
       "        vertical-align: top;\n",
       "    }\n",
       "\n",
       "    .dataframe thead th {\n",
       "        text-align: right;\n",
       "    }\n",
       "</style>\n",
       "<table border=\"1\" class=\"dataframe\">\n",
       "  <thead>\n",
       "    <tr style=\"text-align: right;\">\n",
       "      <th></th>\n",
       "      <th>stage</th>\n",
       "      <th>sequence_type</th>\n",
       "      <th>decision_time</th>\n",
       "    </tr>\n",
       "  </thead>\n",
       "  <tbody>\n",
       "    <tr>\n",
       "      <th>0</th>\n",
       "      <td>train</td>\n",
       "      <td>sfs</td>\n",
       "      <td>24</td>\n",
       "    </tr>\n",
       "    <tr>\n",
       "      <th>1</th>\n",
       "      <td>train</td>\n",
       "      <td>fss</td>\n",
       "      <td>23</td>\n",
       "    </tr>\n",
       "    <tr>\n",
       "      <th>2</th>\n",
       "      <td>test</td>\n",
       "      <td>sfs</td>\n",
       "      <td>24</td>\n",
       "    </tr>\n",
       "    <tr>\n",
       "      <th>3</th>\n",
       "      <td>test</td>\n",
       "      <td>fss</td>\n",
       "      <td>24</td>\n",
       "    </tr>\n",
       "    <tr>\n",
       "      <th>4</th>\n",
       "      <td>train</td>\n",
       "      <td>sfs</td>\n",
       "      <td>24</td>\n",
       "    </tr>\n",
       "    <tr>\n",
       "      <th>5</th>\n",
       "      <td>train</td>\n",
       "      <td>fss</td>\n",
       "      <td>24</td>\n",
       "    </tr>\n",
       "    <tr>\n",
       "      <th>6</th>\n",
       "      <td>test</td>\n",
       "      <td>sfs</td>\n",
       "      <td>26</td>\n",
       "    </tr>\n",
       "    <tr>\n",
       "      <th>7</th>\n",
       "      <td>test</td>\n",
       "      <td>fss</td>\n",
       "      <td>26</td>\n",
       "    </tr>\n",
       "    <tr>\n",
       "      <th>8</th>\n",
       "      <td>train</td>\n",
       "      <td>sfs</td>\n",
       "      <td>26</td>\n",
       "    </tr>\n",
       "    <tr>\n",
       "      <th>9</th>\n",
       "      <td>train</td>\n",
       "      <td>fss</td>\n",
       "      <td>24</td>\n",
       "    </tr>\n",
       "    <tr>\n",
       "      <th>10</th>\n",
       "      <td>test</td>\n",
       "      <td>sfs</td>\n",
       "      <td>25</td>\n",
       "    </tr>\n",
       "    <tr>\n",
       "      <th>11</th>\n",
       "      <td>test</td>\n",
       "      <td>fss</td>\n",
       "      <td>25</td>\n",
       "    </tr>\n",
       "    <tr>\n",
       "      <th>12</th>\n",
       "      <td>train</td>\n",
       "      <td>sfs</td>\n",
       "      <td>24</td>\n",
       "    </tr>\n",
       "    <tr>\n",
       "      <th>13</th>\n",
       "      <td>train</td>\n",
       "      <td>fss</td>\n",
       "      <td>24</td>\n",
       "    </tr>\n",
       "    <tr>\n",
       "      <th>14</th>\n",
       "      <td>test</td>\n",
       "      <td>sfs</td>\n",
       "      <td>26</td>\n",
       "    </tr>\n",
       "    <tr>\n",
       "      <th>15</th>\n",
       "      <td>test</td>\n",
       "      <td>fss</td>\n",
       "      <td>24</td>\n",
       "    </tr>\n",
       "    <tr>\n",
       "      <th>16</th>\n",
       "      <td>train</td>\n",
       "      <td>sfs</td>\n",
       "      <td>25</td>\n",
       "    </tr>\n",
       "    <tr>\n",
       "      <th>17</th>\n",
       "      <td>train</td>\n",
       "      <td>fss</td>\n",
       "      <td>25</td>\n",
       "    </tr>\n",
       "    <tr>\n",
       "      <th>18</th>\n",
       "      <td>test</td>\n",
       "      <td>sfs</td>\n",
       "      <td>24</td>\n",
       "    </tr>\n",
       "    <tr>\n",
       "      <th>19</th>\n",
       "      <td>test</td>\n",
       "      <td>fss</td>\n",
       "      <td>24</td>\n",
       "    </tr>\n",
       "    <tr>\n",
       "      <th>20</th>\n",
       "      <td>train</td>\n",
       "      <td>sfs</td>\n",
       "      <td>24</td>\n",
       "    </tr>\n",
       "    <tr>\n",
       "      <th>21</th>\n",
       "      <td>train</td>\n",
       "      <td>fss</td>\n",
       "      <td>24</td>\n",
       "    </tr>\n",
       "    <tr>\n",
       "      <th>22</th>\n",
       "      <td>test</td>\n",
       "      <td>sfs</td>\n",
       "      <td>24</td>\n",
       "    </tr>\n",
       "    <tr>\n",
       "      <th>23</th>\n",
       "      <td>test</td>\n",
       "      <td>fss</td>\n",
       "      <td>25</td>\n",
       "    </tr>\n",
       "    <tr>\n",
       "      <th>24</th>\n",
       "      <td>train</td>\n",
       "      <td>sfs</td>\n",
       "      <td>25</td>\n",
       "    </tr>\n",
       "    <tr>\n",
       "      <th>25</th>\n",
       "      <td>train</td>\n",
       "      <td>fss</td>\n",
       "      <td>25</td>\n",
       "    </tr>\n",
       "    <tr>\n",
       "      <th>26</th>\n",
       "      <td>test</td>\n",
       "      <td>sfs</td>\n",
       "      <td>24</td>\n",
       "    </tr>\n",
       "    <tr>\n",
       "      <th>27</th>\n",
       "      <td>test</td>\n",
       "      <td>fss</td>\n",
       "      <td>24</td>\n",
       "    </tr>\n",
       "    <tr>\n",
       "      <th>28</th>\n",
       "      <td>train</td>\n",
       "      <td>sfs</td>\n",
       "      <td>27</td>\n",
       "    </tr>\n",
       "    <tr>\n",
       "      <th>29</th>\n",
       "      <td>train</td>\n",
       "      <td>fss</td>\n",
       "      <td>25</td>\n",
       "    </tr>\n",
       "    <tr>\n",
       "      <th>30</th>\n",
       "      <td>test</td>\n",
       "      <td>sfs</td>\n",
       "      <td>24</td>\n",
       "    </tr>\n",
       "    <tr>\n",
       "      <th>31</th>\n",
       "      <td>test</td>\n",
       "      <td>fss</td>\n",
       "      <td>24</td>\n",
       "    </tr>\n",
       "    <tr>\n",
       "      <th>32</th>\n",
       "      <td>train</td>\n",
       "      <td>sfs</td>\n",
       "      <td>24</td>\n",
       "    </tr>\n",
       "    <tr>\n",
       "      <th>33</th>\n",
       "      <td>train</td>\n",
       "      <td>fss</td>\n",
       "      <td>25</td>\n",
       "    </tr>\n",
       "    <tr>\n",
       "      <th>34</th>\n",
       "      <td>test</td>\n",
       "      <td>sfs</td>\n",
       "      <td>24</td>\n",
       "    </tr>\n",
       "    <tr>\n",
       "      <th>35</th>\n",
       "      <td>test</td>\n",
       "      <td>fss</td>\n",
       "      <td>26</td>\n",
       "    </tr>\n",
       "    <tr>\n",
       "      <th>36</th>\n",
       "      <td>train</td>\n",
       "      <td>sfs</td>\n",
       "      <td>24</td>\n",
       "    </tr>\n",
       "    <tr>\n",
       "      <th>37</th>\n",
       "      <td>train</td>\n",
       "      <td>fss</td>\n",
       "      <td>25</td>\n",
       "    </tr>\n",
       "    <tr>\n",
       "      <th>38</th>\n",
       "      <td>test</td>\n",
       "      <td>sfs</td>\n",
       "      <td>24</td>\n",
       "    </tr>\n",
       "    <tr>\n",
       "      <th>39</th>\n",
       "      <td>test</td>\n",
       "      <td>fss</td>\n",
       "      <td>25</td>\n",
       "    </tr>\n",
       "    <tr>\n",
       "      <th>40</th>\n",
       "      <td>train</td>\n",
       "      <td>sfs</td>\n",
       "      <td>24</td>\n",
       "    </tr>\n",
       "    <tr>\n",
       "      <th>41</th>\n",
       "      <td>train</td>\n",
       "      <td>fss</td>\n",
       "      <td>24</td>\n",
       "    </tr>\n",
       "    <tr>\n",
       "      <th>42</th>\n",
       "      <td>test</td>\n",
       "      <td>sfs</td>\n",
       "      <td>25</td>\n",
       "    </tr>\n",
       "    <tr>\n",
       "      <th>43</th>\n",
       "      <td>test</td>\n",
       "      <td>fss</td>\n",
       "      <td>26</td>\n",
       "    </tr>\n",
       "    <tr>\n",
       "      <th>44</th>\n",
       "      <td>train</td>\n",
       "      <td>sfs</td>\n",
       "      <td>24</td>\n",
       "    </tr>\n",
       "    <tr>\n",
       "      <th>45</th>\n",
       "      <td>train</td>\n",
       "      <td>fss</td>\n",
       "      <td>24</td>\n",
       "    </tr>\n",
       "    <tr>\n",
       "      <th>46</th>\n",
       "      <td>test</td>\n",
       "      <td>sfs</td>\n",
       "      <td>24</td>\n",
       "    </tr>\n",
       "    <tr>\n",
       "      <th>47</th>\n",
       "      <td>test</td>\n",
       "      <td>fss</td>\n",
       "      <td>24</td>\n",
       "    </tr>\n",
       "    <tr>\n",
       "      <th>48</th>\n",
       "      <td>train</td>\n",
       "      <td>sfs</td>\n",
       "      <td>24</td>\n",
       "    </tr>\n",
       "    <tr>\n",
       "      <th>49</th>\n",
       "      <td>train</td>\n",
       "      <td>fss</td>\n",
       "      <td>25</td>\n",
       "    </tr>\n",
       "    <tr>\n",
       "      <th>50</th>\n",
       "      <td>test</td>\n",
       "      <td>sfs</td>\n",
       "      <td>24</td>\n",
       "    </tr>\n",
       "    <tr>\n",
       "      <th>51</th>\n",
       "      <td>test</td>\n",
       "      <td>fss</td>\n",
       "      <td>25</td>\n",
       "    </tr>\n",
       "    <tr>\n",
       "      <th>52</th>\n",
       "      <td>train</td>\n",
       "      <td>sfs</td>\n",
       "      <td>24</td>\n",
       "    </tr>\n",
       "    <tr>\n",
       "      <th>53</th>\n",
       "      <td>train</td>\n",
       "      <td>fss</td>\n",
       "      <td>25</td>\n",
       "    </tr>\n",
       "    <tr>\n",
       "      <th>54</th>\n",
       "      <td>test</td>\n",
       "      <td>sfs</td>\n",
       "      <td>24</td>\n",
       "    </tr>\n",
       "    <tr>\n",
       "      <th>55</th>\n",
       "      <td>test</td>\n",
       "      <td>fss</td>\n",
       "      <td>25</td>\n",
       "    </tr>\n",
       "    <tr>\n",
       "      <th>56</th>\n",
       "      <td>train</td>\n",
       "      <td>sfs</td>\n",
       "      <td>25</td>\n",
       "    </tr>\n",
       "    <tr>\n",
       "      <th>57</th>\n",
       "      <td>train</td>\n",
       "      <td>fss</td>\n",
       "      <td>24</td>\n",
       "    </tr>\n",
       "    <tr>\n",
       "      <th>58</th>\n",
       "      <td>test</td>\n",
       "      <td>sfs</td>\n",
       "      <td>24</td>\n",
       "    </tr>\n",
       "    <tr>\n",
       "      <th>59</th>\n",
       "      <td>test</td>\n",
       "      <td>fss</td>\n",
       "      <td>26</td>\n",
       "    </tr>\n",
       "  </tbody>\n",
       "</table>\n",
       "</div>"
      ],
      "text/plain": [
       "    stage sequence_type  decision_time\n",
       "0   train           sfs             24\n",
       "1   train           fss             23\n",
       "2    test           sfs             24\n",
       "3    test           fss             24\n",
       "4   train           sfs             24\n",
       "5   train           fss             24\n",
       "6    test           sfs             26\n",
       "7    test           fss             26\n",
       "8   train           sfs             26\n",
       "9   train           fss             24\n",
       "10   test           sfs             25\n",
       "11   test           fss             25\n",
       "12  train           sfs             24\n",
       "13  train           fss             24\n",
       "14   test           sfs             26\n",
       "15   test           fss             24\n",
       "16  train           sfs             25\n",
       "17  train           fss             25\n",
       "18   test           sfs             24\n",
       "19   test           fss             24\n",
       "20  train           sfs             24\n",
       "21  train           fss             24\n",
       "22   test           sfs             24\n",
       "23   test           fss             25\n",
       "24  train           sfs             25\n",
       "25  train           fss             25\n",
       "26   test           sfs             24\n",
       "27   test           fss             24\n",
       "28  train           sfs             27\n",
       "29  train           fss             25\n",
       "30   test           sfs             24\n",
       "31   test           fss             24\n",
       "32  train           sfs             24\n",
       "33  train           fss             25\n",
       "34   test           sfs             24\n",
       "35   test           fss             26\n",
       "36  train           sfs             24\n",
       "37  train           fss             25\n",
       "38   test           sfs             24\n",
       "39   test           fss             25\n",
       "40  train           sfs             24\n",
       "41  train           fss             24\n",
       "42   test           sfs             25\n",
       "43   test           fss             26\n",
       "44  train           sfs             24\n",
       "45  train           fss             24\n",
       "46   test           sfs             24\n",
       "47   test           fss             24\n",
       "48  train           sfs             24\n",
       "49  train           fss             25\n",
       "50   test           sfs             24\n",
       "51   test           fss             25\n",
       "52  train           sfs             24\n",
       "53  train           fss             25\n",
       "54   test           sfs             24\n",
       "55   test           fss             25\n",
       "56  train           sfs             25\n",
       "57  train           fss             24\n",
       "58   test           sfs             24\n",
       "59   test           fss             26"
      ]
     },
     "metadata": {},
     "output_type": "display_data"
    }
   ],
   "source": [
    "def filter_path_to_decision_point(row):\n",
    "    # read path\n",
    "    path = pd.read_csv(row['path_file'])[['x','y']]\n",
    "\n",
    "    # find length until decision point\n",
    "    elements = row['decision_time_index'] + 1\n",
    "    if elements > 500:\n",
    "        elements = len(path)\n",
    "        \n",
    "    # filter points where it was stuck\n",
    "    filtered = [path.loc[0]]\n",
    "    for i,xy in path.loc[1:(elements-1)].iterrows():\n",
    "        if math.sqrt(((xy - filtered[-1])**2 ).sum()) > 0.02:\n",
    "            filtered += [xy]\n",
    "    return pd.DataFrame(columns = ['x','y'], data = filtered)\n",
    "\n",
    "def new_length(row):\n",
    "    return len(filter_path_to_decision_point(row))\n",
    "\n",
    "\n",
    "results['decision_time'] = results.apply(new_length, axis=1)\n",
    "\n",
    "\n",
    "display(Markdown(\"### Decision time boxplot\"))\n",
    "%matplotlib widget\n",
    "# results.boxplot(column=\"decision_time\", by=\"sequence_type\")\n",
    "sns.set(font_scale = 2)\n",
    "sns.boxplot(y=\"decision_time\", x=\"stage\", data=results, hue=\"sequence_type\", palette=\"Set3\")\n",
    "sns.stripplot(y=\"decision_time\", x=\"stage\", data=results, hue=\"sequence_type\", color = 'black', dodge = True)\n",
    "\n",
    "plt.show()\n",
    "\n",
    "anova = pg.anova(dv='decision_time', between=['sequence_type','stage'], data=results, detailed=True)\n",
    "display(Markdown(f'### Anova'), anova)\n",
    "\n",
    "\n",
    "display(Markdown(\"### DATA\"))\n",
    "display(results[['stage','sequence_type','decision_time']])\n",
    "\n",
    "        "
   ]
  },
  {
   "cell_type": "markdown",
   "metadata": {
    "jp-MarkdownHeadingCollapsed": true,
    "tags": []
   },
   "source": [
    "## Reclassifying sequences after filtering"
   ]
  },
  {
   "cell_type": "code",
   "execution_count": 24,
   "metadata": {
    "tags": []
   },
   "outputs": [
    {
     "data": {
      "text/plain": [
       "'Creating reservoir 0'"
      ]
     },
     "metadata": {},
     "output_type": "display_data"
    },
    {
     "data": {
      "text/plain": [
       "'Creating reservoir 1'"
      ]
     },
     "metadata": {},
     "output_type": "display_data"
    },
    {
     "data": {
      "text/plain": [
       "'Creating reservoir 2'"
      ]
     },
     "metadata": {},
     "output_type": "display_data"
    },
    {
     "data": {
      "text/plain": [
       "'Creating reservoir 3'"
      ]
     },
     "metadata": {},
     "output_type": "display_data"
    },
    {
     "data": {
      "text/plain": [
       "'Creating reservoir 4'"
      ]
     },
     "metadata": {},
     "output_type": "display_data"
    },
    {
     "data": {
      "text/plain": [
       "'Creating reservoir 5'"
      ]
     },
     "metadata": {},
     "output_type": "display_data"
    },
    {
     "data": {
      "text/plain": [
       "'Creating reservoir 6'"
      ]
     },
     "metadata": {},
     "output_type": "display_data"
    },
    {
     "data": {
      "text/plain": [
       "'Creating reservoir 7'"
      ]
     },
     "metadata": {},
     "output_type": "display_data"
    },
    {
     "data": {
      "text/plain": [
       "'Creating reservoir 8'"
      ]
     },
     "metadata": {},
     "output_type": "display_data"
    },
    {
     "data": {
      "text/plain": [
       "'Creating reservoir 9'"
      ]
     },
     "metadata": {},
     "output_type": "display_data"
    },
    {
     "data": {
      "text/plain": [
       "'Creating reservoir 10'"
      ]
     },
     "metadata": {},
     "output_type": "display_data"
    },
    {
     "data": {
      "text/plain": [
       "'Creating reservoir 11'"
      ]
     },
     "metadata": {},
     "output_type": "display_data"
    },
    {
     "data": {
      "text/plain": [
       "'Creating reservoir 12'"
      ]
     },
     "metadata": {},
     "output_type": "display_data"
    },
    {
     "data": {
      "text/plain": [
       "'Creating reservoir 13'"
      ]
     },
     "metadata": {},
     "output_type": "display_data"
    },
    {
     "data": {
      "text/plain": [
       "'Creating reservoir 14'"
      ]
     },
     "metadata": {},
     "output_type": "display_data"
    },
    {
     "data": {
      "text/plain": [
       "'Creating reservoir 15'"
      ]
     },
     "metadata": {},
     "output_type": "display_data"
    },
    {
     "data": {
      "text/plain": [
       "'Creating reservoir 16'"
      ]
     },
     "metadata": {},
     "output_type": "display_data"
    },
    {
     "data": {
      "text/plain": [
       "'Creating reservoir 17'"
      ]
     },
     "metadata": {},
     "output_type": "display_data"
    },
    {
     "data": {
      "text/plain": [
       "'Creating reservoir 18'"
      ]
     },
     "metadata": {},
     "output_type": "display_data"
    },
    {
     "data": {
      "text/plain": [
       "'Creating reservoir 19'"
      ]
     },
     "metadata": {},
     "output_type": "display_data"
    },
    {
     "data": {
      "text/plain": [
       "'Creating reservoir 20'"
      ]
     },
     "metadata": {},
     "output_type": "display_data"
    },
    {
     "data": {
      "text/plain": [
       "'Creating reservoir 21'"
      ]
     },
     "metadata": {},
     "output_type": "display_data"
    },
    {
     "data": {
      "text/plain": [
       "'Creating reservoir 22'"
      ]
     },
     "metadata": {},
     "output_type": "display_data"
    },
    {
     "data": {
      "text/plain": [
       "'Creating reservoir 23'"
      ]
     },
     "metadata": {},
     "output_type": "display_data"
    },
    {
     "data": {
      "text/plain": [
       "'Creating reservoir 24'"
      ]
     },
     "metadata": {},
     "output_type": "display_data"
    },
    {
     "data": {
      "text/plain": [
       "'Creating reservoir 25'"
      ]
     },
     "metadata": {},
     "output_type": "display_data"
    },
    {
     "data": {
      "text/plain": [
       "'Creating reservoir 26'"
      ]
     },
     "metadata": {},
     "output_type": "display_data"
    },
    {
     "data": {
      "text/plain": [
       "'Creating reservoir 27'"
      ]
     },
     "metadata": {},
     "output_type": "display_data"
    },
    {
     "data": {
      "text/plain": [
       "'Creating reservoir 28'"
      ]
     },
     "metadata": {},
     "output_type": "display_data"
    },
    {
     "data": {
      "text/plain": [
       "'Creating reservoir 29'"
      ]
     },
     "metadata": {},
     "output_type": "display_data"
    },
    {
     "data": {
      "text/plain": [
       "'Creating reservoir 30'"
      ]
     },
     "metadata": {},
     "output_type": "display_data"
    },
    {
     "data": {
      "text/plain": [
       "'Creating reservoir 31'"
      ]
     },
     "metadata": {},
     "output_type": "display_data"
    },
    {
     "data": {
      "text/plain": [
       "'Creating reservoir 32'"
      ]
     },
     "metadata": {},
     "output_type": "display_data"
    },
    {
     "data": {
      "text/plain": [
       "'Creating reservoir 33'"
      ]
     },
     "metadata": {},
     "output_type": "display_data"
    },
    {
     "data": {
      "text/plain": [
       "'Creating reservoir 34'"
      ]
     },
     "metadata": {},
     "output_type": "display_data"
    },
    {
     "data": {
      "text/plain": [
       "'Creating reservoir 35'"
      ]
     },
     "metadata": {},
     "output_type": "display_data"
    },
    {
     "data": {
      "text/plain": [
       "'Creating reservoir 36'"
      ]
     },
     "metadata": {},
     "output_type": "display_data"
    },
    {
     "data": {
      "text/plain": [
       "'Creating reservoir 37'"
      ]
     },
     "metadata": {},
     "output_type": "display_data"
    },
    {
     "data": {
      "text/plain": [
       "'Creating reservoir 38'"
      ]
     },
     "metadata": {},
     "output_type": "display_data"
    },
    {
     "data": {
      "text/plain": [
       "'Creating reservoir 39'"
      ]
     },
     "metadata": {},
     "output_type": "display_data"
    },
    {
     "data": {
      "text/plain": [
       "'Creating reservoir 40'"
      ]
     },
     "metadata": {},
     "output_type": "display_data"
    },
    {
     "data": {
      "text/plain": [
       "'Creating reservoir 41'"
      ]
     },
     "metadata": {},
     "output_type": "display_data"
    },
    {
     "data": {
      "text/plain": [
       "'Creating reservoir 42'"
      ]
     },
     "metadata": {},
     "output_type": "display_data"
    },
    {
     "data": {
      "text/plain": [
       "'Creating reservoir 43'"
      ]
     },
     "metadata": {},
     "output_type": "display_data"
    },
    {
     "data": {
      "text/plain": [
       "'Creating reservoir 44'"
      ]
     },
     "metadata": {},
     "output_type": "display_data"
    },
    {
     "data": {
      "text/plain": [
       "'Creating reservoir 45'"
      ]
     },
     "metadata": {},
     "output_type": "display_data"
    },
    {
     "data": {
      "text/plain": [
       "'Creating reservoir 46'"
      ]
     },
     "metadata": {},
     "output_type": "display_data"
    },
    {
     "data": {
      "text/plain": [
       "'Creating reservoir 47'"
      ]
     },
     "metadata": {},
     "output_type": "display_data"
    },
    {
     "data": {
      "text/plain": [
       "'Creating reservoir 48'"
      ]
     },
     "metadata": {},
     "output_type": "display_data"
    },
    {
     "data": {
      "text/plain": [
       "'Creating reservoir 49'"
      ]
     },
     "metadata": {},
     "output_type": "display_data"
    },
    {
     "data": {
      "text/plain": [
       "'Creating reservoir 50'"
      ]
     },
     "metadata": {},
     "output_type": "display_data"
    },
    {
     "data": {
      "text/plain": [
       "'Creating reservoir 51'"
      ]
     },
     "metadata": {},
     "output_type": "display_data"
    },
    {
     "data": {
      "text/plain": [
       "'Creating reservoir 52'"
      ]
     },
     "metadata": {},
     "output_type": "display_data"
    },
    {
     "data": {
      "text/plain": [
       "'Creating reservoir 53'"
      ]
     },
     "metadata": {},
     "output_type": "display_data"
    },
    {
     "data": {
      "text/plain": [
       "'Creating reservoir 54'"
      ]
     },
     "metadata": {},
     "output_type": "display_data"
    },
    {
     "data": {
      "text/plain": [
       "'Creating reservoir 55'"
      ]
     },
     "metadata": {},
     "output_type": "display_data"
    },
    {
     "data": {
      "text/plain": [
       "'Creating reservoir 56'"
      ]
     },
     "metadata": {},
     "output_type": "display_data"
    },
    {
     "data": {
      "text/plain": [
       "'Creating reservoir 57'"
      ]
     },
     "metadata": {},
     "output_type": "display_data"
    },
    {
     "data": {
      "text/plain": [
       "'Creating reservoir 58'"
      ]
     },
     "metadata": {},
     "output_type": "display_data"
    },
    {
     "data": {
      "text/plain": [
       "'Creating reservoir 59'"
      ]
     },
     "metadata": {},
     "output_type": "display_data"
    },
    {
     "data": {
      "text/plain": [
       "2"
      ]
     },
     "metadata": {},
     "output_type": "display_data"
    },
    {
     "data": {
      "text/plain": [
       "3"
      ]
     },
     "metadata": {},
     "output_type": "display_data"
    },
    {
     "data": {
      "text/plain": [
       "6"
      ]
     },
     "metadata": {},
     "output_type": "display_data"
    },
    {
     "data": {
      "text/plain": [
       "7"
      ]
     },
     "metadata": {},
     "output_type": "display_data"
    },
    {
     "data": {
      "text/plain": [
       "10"
      ]
     },
     "metadata": {},
     "output_type": "display_data"
    },
    {
     "data": {
      "text/plain": [
       "11"
      ]
     },
     "metadata": {},
     "output_type": "display_data"
    },
    {
     "data": {
      "text/plain": [
       "14"
      ]
     },
     "metadata": {},
     "output_type": "display_data"
    },
    {
     "data": {
      "text/plain": [
       "15"
      ]
     },
     "metadata": {},
     "output_type": "display_data"
    },
    {
     "data": {
      "text/plain": [
       "18"
      ]
     },
     "metadata": {},
     "output_type": "display_data"
    },
    {
     "data": {
      "text/plain": [
       "19"
      ]
     },
     "metadata": {},
     "output_type": "display_data"
    },
    {
     "data": {
      "text/plain": [
       "22"
      ]
     },
     "metadata": {},
     "output_type": "display_data"
    },
    {
     "data": {
      "text/plain": [
       "23"
      ]
     },
     "metadata": {},
     "output_type": "display_data"
    },
    {
     "data": {
      "text/plain": [
       "26"
      ]
     },
     "metadata": {},
     "output_type": "display_data"
    },
    {
     "data": {
      "text/plain": [
       "27"
      ]
     },
     "metadata": {},
     "output_type": "display_data"
    },
    {
     "data": {
      "text/plain": [
       "30"
      ]
     },
     "metadata": {},
     "output_type": "display_data"
    },
    {
     "data": {
      "text/plain": [
       "31"
      ]
     },
     "metadata": {},
     "output_type": "display_data"
    },
    {
     "data": {
      "text/plain": [
       "34"
      ]
     },
     "metadata": {},
     "output_type": "display_data"
    },
    {
     "data": {
      "text/plain": [
       "35"
      ]
     },
     "metadata": {},
     "output_type": "display_data"
    },
    {
     "data": {
      "text/plain": [
       "38"
      ]
     },
     "metadata": {},
     "output_type": "display_data"
    },
    {
     "data": {
      "text/plain": [
       "39"
      ]
     },
     "metadata": {},
     "output_type": "display_data"
    },
    {
     "data": {
      "text/plain": [
       "42"
      ]
     },
     "metadata": {},
     "output_type": "display_data"
    },
    {
     "data": {
      "text/plain": [
       "43"
      ]
     },
     "metadata": {},
     "output_type": "display_data"
    },
    {
     "data": {
      "text/plain": [
       "46"
      ]
     },
     "metadata": {},
     "output_type": "display_data"
    },
    {
     "data": {
      "text/plain": [
       "47"
      ]
     },
     "metadata": {},
     "output_type": "display_data"
    },
    {
     "data": {
      "text/plain": [
       "50"
      ]
     },
     "metadata": {},
     "output_type": "display_data"
    },
    {
     "data": {
      "text/plain": [
       "51"
      ]
     },
     "metadata": {},
     "output_type": "display_data"
    },
    {
     "data": {
      "text/plain": [
       "54"
      ]
     },
     "metadata": {},
     "output_type": "display_data"
    },
    {
     "data": {
      "text/plain": [
       "55"
      ]
     },
     "metadata": {},
     "output_type": "display_data"
    },
    {
     "data": {
      "text/plain": [
       "58"
      ]
     },
     "metadata": {},
     "output_type": "display_data"
    },
    {
     "data": {
      "text/plain": [
       "59"
      ]
     },
     "metadata": {},
     "output_type": "display_data"
    }
   ],
   "source": [
    "results_filtered = results.copy()\n",
    "filtered_paths = { id: filter_path_to_decision_point(row) for id, row in results_filtered.iterrows() }\n",
    "palce_cells = load_place_cells('input/placecells.csv')\n",
    "\n",
    "def associate_action(s):\n",
    "    return 'left' if s == 'sfs' else 'right'\n",
    "\n",
    "def create_reservoir(num_pcs, reservoir_size, output_size, seed):\n",
    "    np.random.seed(seed)\n",
    "    return \n",
    "\n",
    "def calculate_reservoir_state( row ):\n",
    "    display(f'Creating reservoir {row[\"sequence_id\"]}')\n",
    "    path = filter_path_to_decision_point(row)\n",
    "    activations = calc_activation_matrix(path, palce_cells)\n",
    "    \n",
    "    np.random.seed(row['seed'])\n",
    "    reservoir = PredictionESN(n_input=256, n_output=1, n_reservoir=400, \n",
    "                    leakingRate=0.05, regressionParameters=[1e-2], solver=\"lsqr\", feedback=False)\n",
    "    return  reservoir.propagate(activations.T)[257:,-1].T\n",
    "\n",
    "all_states = { index : calculate_reservoir_state(row) for index, row in results_filtered.iterrows()} \n",
    "\n",
    "\n",
    "for rat, experiment_data in  results_filtered.groupby(['rat']):\n",
    "    train_sequences = experiment_data.loc[ experiment_data.stage == 'train' ]\n",
    "    test_sequences = experiment_data.loc[ experiment_data.stage == 'test' ]\n",
    "    \n",
    "    for id_test, s_test in test_sequences.iterrows():        \n",
    "        # find distances to train sequences, then classify according to nearest neighbor\n",
    "        distances = { id_train : cos_sim(all_states[id_test], all_states[id_train]) for id_train, _ in train_sequences.iterrows() }\n",
    "        max_arg = max(distances, key=distances.get)\n",
    "        s_class = results_filtered.sequence_type[max_arg]\n",
    "\n",
    "        results_filtered.loc[id_test,'nearest_id'] = max_arg\n",
    "        results_filtered.loc[id_test,'nearest_distance'] = distances[max_arg]\n",
    "        results_filtered.loc[id_test,'classification'] = associate_action(s_class)\n",
    "\n",
    "display(results_filtered)"
   ]
  },
  {
   "cell_type": "markdown",
   "metadata": {
    "tags": []
   },
   "source": [
    "## Classification results after filtering"
   ]
  },
  {
   "cell_type": "code",
   "execution_count": 32,
   "metadata": {
    "jupyter": {
     "source_hidden": true
    },
    "tags": []
   },
   "outputs": [
    {
     "data": {
      "text/markdown": [
       "### Debug: Number of positions where NN distance changed 30"
      ],
      "text/plain": [
       "<IPython.core.display.Markdown object>"
      ]
     },
     "metadata": {},
     "output_type": "display_data"
    },
    {
     "data": {
      "text/markdown": [
       "### Confusion Matrix"
      ],
      "text/plain": [
       "<IPython.core.display.Markdown object>"
      ]
     },
     "metadata": {},
     "output_type": "display_data"
    },
    {
     "data": {
      "text/plain": [
       "array([[15,  0],\n",
       "       [ 0, 15]], dtype=int64)"
      ]
     },
     "metadata": {},
     "output_type": "display_data"
    },
    {
     "data": {
      "text/markdown": [
       "### Distance between reservoir states of same sequence at decision point"
      ],
      "text/plain": [
       "<IPython.core.display.Markdown object>"
      ]
     },
     "metadata": {},
     "output_type": "display_data"
    },
    {
     "data": {
      "text/plain": [
       "'Mean: 0.9974550192363044'"
      ]
     },
     "metadata": {},
     "output_type": "display_data"
    },
    {
     "data": {
      "text/plain": [
       "'STD:  0.002025063023471084'"
      ]
     },
     "metadata": {},
     "output_type": "display_data"
    },
    {
     "data": {
      "text/markdown": [
       "### Training Data"
      ],
      "text/plain": [
       "<IPython.core.display.Markdown object>"
      ]
     },
     "metadata": {},
     "output_type": "display_data"
    },
    {
     "data": {
      "text/html": [
       "<div>\n",
       "<style scoped>\n",
       "    .dataframe tbody tr th:only-of-type {\n",
       "        vertical-align: middle;\n",
       "    }\n",
       "\n",
       "    .dataframe tbody tr th {\n",
       "        vertical-align: top;\n",
       "    }\n",
       "\n",
       "    .dataframe thead th {\n",
       "        text-align: right;\n",
       "    }\n",
       "</style>\n",
       "<table border=\"1\" class=\"dataframe\">\n",
       "  <thead>\n",
       "    <tr style=\"text-align: right;\">\n",
       "      <th></th>\n",
       "      <th>rat</th>\n",
       "      <th>seed</th>\n",
       "      <th>sequence_id</th>\n",
       "      <th>sequence_type</th>\n",
       "      <th>stage</th>\n",
       "      <th>classification</th>\n",
       "      <th>decision_time_index</th>\n",
       "      <th>nearest_id</th>\n",
       "      <th>nearest_distance</th>\n",
       "      <th>path_file</th>\n",
       "      <th>ground_truth</th>\n",
       "    </tr>\n",
       "  </thead>\n",
       "  <tbody>\n",
       "    <tr>\n",
       "      <th>0</th>\n",
       "      <td>0</td>\n",
       "      <td>788275</td>\n",
       "      <td>0</td>\n",
       "      <td>sfs</td>\n",
       "      <td>train</td>\n",
       "      <td>none</td>\n",
       "      <td>9999</td>\n",
       "      <td>0</td>\n",
       "      <td>0.0</td>\n",
       "      <td>results/eval_rats_15_tests_1/paths/path_164252...</td>\n",
       "      <td>left</td>\n",
       "    </tr>\n",
       "    <tr>\n",
       "      <th>1</th>\n",
       "      <td>0</td>\n",
       "      <td>788275</td>\n",
       "      <td>1</td>\n",
       "      <td>fss</td>\n",
       "      <td>train</td>\n",
       "      <td>none</td>\n",
       "      <td>9999</td>\n",
       "      <td>1</td>\n",
       "      <td>0.0</td>\n",
       "      <td>results/eval_rats_15_tests_1/paths/path_164252...</td>\n",
       "      <td>right</td>\n",
       "    </tr>\n",
       "    <tr>\n",
       "      <th>4</th>\n",
       "      <td>1</td>\n",
       "      <td>19514</td>\n",
       "      <td>4</td>\n",
       "      <td>sfs</td>\n",
       "      <td>train</td>\n",
       "      <td>none</td>\n",
       "      <td>9999</td>\n",
       "      <td>4</td>\n",
       "      <td>0.0</td>\n",
       "      <td>results/eval_rats_15_tests_1/paths/path_164252...</td>\n",
       "      <td>left</td>\n",
       "    </tr>\n",
       "    <tr>\n",
       "      <th>5</th>\n",
       "      <td>1</td>\n",
       "      <td>19514</td>\n",
       "      <td>5</td>\n",
       "      <td>fss</td>\n",
       "      <td>train</td>\n",
       "      <td>none</td>\n",
       "      <td>9999</td>\n",
       "      <td>5</td>\n",
       "      <td>0.0</td>\n",
       "      <td>results/eval_rats_15_tests_1/paths/path_164252...</td>\n",
       "      <td>right</td>\n",
       "    </tr>\n",
       "    <tr>\n",
       "      <th>8</th>\n",
       "      <td>2</td>\n",
       "      <td>615930</td>\n",
       "      <td>8</td>\n",
       "      <td>sfs</td>\n",
       "      <td>train</td>\n",
       "      <td>none</td>\n",
       "      <td>9999</td>\n",
       "      <td>8</td>\n",
       "      <td>0.0</td>\n",
       "      <td>results/eval_rats_15_tests_1/paths/path_164252...</td>\n",
       "      <td>left</td>\n",
       "    </tr>\n",
       "    <tr>\n",
       "      <th>9</th>\n",
       "      <td>2</td>\n",
       "      <td>615930</td>\n",
       "      <td>9</td>\n",
       "      <td>fss</td>\n",
       "      <td>train</td>\n",
       "      <td>none</td>\n",
       "      <td>9999</td>\n",
       "      <td>9</td>\n",
       "      <td>0.0</td>\n",
       "      <td>results/eval_rats_15_tests_1/paths/path_164252...</td>\n",
       "      <td>right</td>\n",
       "    </tr>\n",
       "    <tr>\n",
       "      <th>12</th>\n",
       "      <td>3</td>\n",
       "      <td>234944</td>\n",
       "      <td>12</td>\n",
       "      <td>sfs</td>\n",
       "      <td>train</td>\n",
       "      <td>none</td>\n",
       "      <td>9999</td>\n",
       "      <td>12</td>\n",
       "      <td>0.0</td>\n",
       "      <td>results/eval_rats_15_tests_1/paths/path_164252...</td>\n",
       "      <td>left</td>\n",
       "    </tr>\n",
       "    <tr>\n",
       "      <th>13</th>\n",
       "      <td>3</td>\n",
       "      <td>234944</td>\n",
       "      <td>13</td>\n",
       "      <td>fss</td>\n",
       "      <td>train</td>\n",
       "      <td>none</td>\n",
       "      <td>9999</td>\n",
       "      <td>13</td>\n",
       "      <td>0.0</td>\n",
       "      <td>results/eval_rats_15_tests_1/paths/path_164252...</td>\n",
       "      <td>right</td>\n",
       "    </tr>\n",
       "    <tr>\n",
       "      <th>16</th>\n",
       "      <td>4</td>\n",
       "      <td>942231</td>\n",
       "      <td>16</td>\n",
       "      <td>sfs</td>\n",
       "      <td>train</td>\n",
       "      <td>none</td>\n",
       "      <td>9999</td>\n",
       "      <td>16</td>\n",
       "      <td>0.0</td>\n",
       "      <td>results/eval_rats_15_tests_1/paths/path_164252...</td>\n",
       "      <td>left</td>\n",
       "    </tr>\n",
       "    <tr>\n",
       "      <th>17</th>\n",
       "      <td>4</td>\n",
       "      <td>942231</td>\n",
       "      <td>17</td>\n",
       "      <td>fss</td>\n",
       "      <td>train</td>\n",
       "      <td>none</td>\n",
       "      <td>9999</td>\n",
       "      <td>17</td>\n",
       "      <td>0.0</td>\n",
       "      <td>results/eval_rats_15_tests_1/paths/path_164252...</td>\n",
       "      <td>right</td>\n",
       "    </tr>\n",
       "    <tr>\n",
       "      <th>20</th>\n",
       "      <td>5</td>\n",
       "      <td>20956</td>\n",
       "      <td>20</td>\n",
       "      <td>sfs</td>\n",
       "      <td>train</td>\n",
       "      <td>none</td>\n",
       "      <td>9999</td>\n",
       "      <td>20</td>\n",
       "      <td>0.0</td>\n",
       "      <td>results/eval_rats_15_tests_1/paths/path_164252...</td>\n",
       "      <td>left</td>\n",
       "    </tr>\n",
       "    <tr>\n",
       "      <th>21</th>\n",
       "      <td>5</td>\n",
       "      <td>20956</td>\n",
       "      <td>21</td>\n",
       "      <td>fss</td>\n",
       "      <td>train</td>\n",
       "      <td>none</td>\n",
       "      <td>9999</td>\n",
       "      <td>21</td>\n",
       "      <td>0.0</td>\n",
       "      <td>results/eval_rats_15_tests_1/paths/path_164252...</td>\n",
       "      <td>right</td>\n",
       "    </tr>\n",
       "    <tr>\n",
       "      <th>24</th>\n",
       "      <td>6</td>\n",
       "      <td>195139</td>\n",
       "      <td>24</td>\n",
       "      <td>sfs</td>\n",
       "      <td>train</td>\n",
       "      <td>none</td>\n",
       "      <td>9999</td>\n",
       "      <td>24</td>\n",
       "      <td>0.0</td>\n",
       "      <td>results/eval_rats_15_tests_1/paths/path_164252...</td>\n",
       "      <td>left</td>\n",
       "    </tr>\n",
       "    <tr>\n",
       "      <th>25</th>\n",
       "      <td>6</td>\n",
       "      <td>195139</td>\n",
       "      <td>25</td>\n",
       "      <td>fss</td>\n",
       "      <td>train</td>\n",
       "      <td>none</td>\n",
       "      <td>9999</td>\n",
       "      <td>25</td>\n",
       "      <td>0.0</td>\n",
       "      <td>results/eval_rats_15_tests_1/paths/path_164252...</td>\n",
       "      <td>right</td>\n",
       "    </tr>\n",
       "    <tr>\n",
       "      <th>28</th>\n",
       "      <td>7</td>\n",
       "      <td>919560</td>\n",
       "      <td>28</td>\n",
       "      <td>sfs</td>\n",
       "      <td>train</td>\n",
       "      <td>none</td>\n",
       "      <td>9999</td>\n",
       "      <td>28</td>\n",
       "      <td>0.0</td>\n",
       "      <td>results/eval_rats_15_tests_1/paths/path_164252...</td>\n",
       "      <td>left</td>\n",
       "    </tr>\n",
       "    <tr>\n",
       "      <th>29</th>\n",
       "      <td>7</td>\n",
       "      <td>919560</td>\n",
       "      <td>29</td>\n",
       "      <td>fss</td>\n",
       "      <td>train</td>\n",
       "      <td>none</td>\n",
       "      <td>9999</td>\n",
       "      <td>29</td>\n",
       "      <td>0.0</td>\n",
       "      <td>results/eval_rats_15_tests_1/paths/path_164252...</td>\n",
       "      <td>right</td>\n",
       "    </tr>\n",
       "    <tr>\n",
       "      <th>32</th>\n",
       "      <td>8</td>\n",
       "      <td>31066</td>\n",
       "      <td>32</td>\n",
       "      <td>sfs</td>\n",
       "      <td>train</td>\n",
       "      <td>none</td>\n",
       "      <td>9999</td>\n",
       "      <td>32</td>\n",
       "      <td>0.0</td>\n",
       "      <td>results/eval_rats_15_tests_1/paths/path_164252...</td>\n",
       "      <td>left</td>\n",
       "    </tr>\n",
       "    <tr>\n",
       "      <th>33</th>\n",
       "      <td>8</td>\n",
       "      <td>31066</td>\n",
       "      <td>33</td>\n",
       "      <td>fss</td>\n",
       "      <td>train</td>\n",
       "      <td>none</td>\n",
       "      <td>9999</td>\n",
       "      <td>33</td>\n",
       "      <td>0.0</td>\n",
       "      <td>results/eval_rats_15_tests_1/paths/path_164252...</td>\n",
       "      <td>right</td>\n",
       "    </tr>\n",
       "    <tr>\n",
       "      <th>36</th>\n",
       "      <td>9</td>\n",
       "      <td>81350</td>\n",
       "      <td>36</td>\n",
       "      <td>sfs</td>\n",
       "      <td>train</td>\n",
       "      <td>none</td>\n",
       "      <td>9999</td>\n",
       "      <td>36</td>\n",
       "      <td>0.0</td>\n",
       "      <td>results/eval_rats_15_tests_1/paths/path_164252...</td>\n",
       "      <td>left</td>\n",
       "    </tr>\n",
       "    <tr>\n",
       "      <th>37</th>\n",
       "      <td>9</td>\n",
       "      <td>81350</td>\n",
       "      <td>37</td>\n",
       "      <td>fss</td>\n",
       "      <td>train</td>\n",
       "      <td>none</td>\n",
       "      <td>9999</td>\n",
       "      <td>37</td>\n",
       "      <td>0.0</td>\n",
       "      <td>results/eval_rats_15_tests_1/paths/path_164252...</td>\n",
       "      <td>right</td>\n",
       "    </tr>\n",
       "    <tr>\n",
       "      <th>40</th>\n",
       "      <td>10</td>\n",
       "      <td>641560</td>\n",
       "      <td>40</td>\n",
       "      <td>sfs</td>\n",
       "      <td>train</td>\n",
       "      <td>none</td>\n",
       "      <td>9999</td>\n",
       "      <td>40</td>\n",
       "      <td>0.0</td>\n",
       "      <td>results/eval_rats_15_tests_1/paths/path_164252...</td>\n",
       "      <td>left</td>\n",
       "    </tr>\n",
       "    <tr>\n",
       "      <th>41</th>\n",
       "      <td>10</td>\n",
       "      <td>641560</td>\n",
       "      <td>41</td>\n",
       "      <td>fss</td>\n",
       "      <td>train</td>\n",
       "      <td>none</td>\n",
       "      <td>9999</td>\n",
       "      <td>41</td>\n",
       "      <td>0.0</td>\n",
       "      <td>results/eval_rats_15_tests_1/paths/path_164252...</td>\n",
       "      <td>right</td>\n",
       "    </tr>\n",
       "    <tr>\n",
       "      <th>44</th>\n",
       "      <td>11</td>\n",
       "      <td>424397</td>\n",
       "      <td>44</td>\n",
       "      <td>sfs</td>\n",
       "      <td>train</td>\n",
       "      <td>none</td>\n",
       "      <td>9999</td>\n",
       "      <td>44</td>\n",
       "      <td>0.0</td>\n",
       "      <td>results/eval_rats_15_tests_1/paths/path_164252...</td>\n",
       "      <td>left</td>\n",
       "    </tr>\n",
       "    <tr>\n",
       "      <th>45</th>\n",
       "      <td>11</td>\n",
       "      <td>424397</td>\n",
       "      <td>45</td>\n",
       "      <td>fss</td>\n",
       "      <td>train</td>\n",
       "      <td>none</td>\n",
       "      <td>9999</td>\n",
       "      <td>45</td>\n",
       "      <td>0.0</td>\n",
       "      <td>results/eval_rats_15_tests_1/paths/path_164252...</td>\n",
       "      <td>right</td>\n",
       "    </tr>\n",
       "    <tr>\n",
       "      <th>48</th>\n",
       "      <td>12</td>\n",
       "      <td>154019</td>\n",
       "      <td>48</td>\n",
       "      <td>sfs</td>\n",
       "      <td>train</td>\n",
       "      <td>none</td>\n",
       "      <td>9999</td>\n",
       "      <td>48</td>\n",
       "      <td>0.0</td>\n",
       "      <td>results/eval_rats_15_tests_1/paths/path_164252...</td>\n",
       "      <td>left</td>\n",
       "    </tr>\n",
       "    <tr>\n",
       "      <th>49</th>\n",
       "      <td>12</td>\n",
       "      <td>154019</td>\n",
       "      <td>49</td>\n",
       "      <td>fss</td>\n",
       "      <td>train</td>\n",
       "      <td>none</td>\n",
       "      <td>9999</td>\n",
       "      <td>49</td>\n",
       "      <td>0.0</td>\n",
       "      <td>results/eval_rats_15_tests_1/paths/path_164252...</td>\n",
       "      <td>right</td>\n",
       "    </tr>\n",
       "    <tr>\n",
       "      <th>52</th>\n",
       "      <td>13</td>\n",
       "      <td>918772</td>\n",
       "      <td>52</td>\n",
       "      <td>sfs</td>\n",
       "      <td>train</td>\n",
       "      <td>none</td>\n",
       "      <td>9999</td>\n",
       "      <td>52</td>\n",
       "      <td>0.0</td>\n",
       "      <td>results/eval_rats_15_tests_1/paths/path_164252...</td>\n",
       "      <td>left</td>\n",
       "    </tr>\n",
       "    <tr>\n",
       "      <th>53</th>\n",
       "      <td>13</td>\n",
       "      <td>918772</td>\n",
       "      <td>53</td>\n",
       "      <td>fss</td>\n",
       "      <td>train</td>\n",
       "      <td>none</td>\n",
       "      <td>9999</td>\n",
       "      <td>53</td>\n",
       "      <td>0.0</td>\n",
       "      <td>results/eval_rats_15_tests_1/paths/path_164252...</td>\n",
       "      <td>right</td>\n",
       "    </tr>\n",
       "    <tr>\n",
       "      <th>56</th>\n",
       "      <td>14</td>\n",
       "      <td>778113</td>\n",
       "      <td>56</td>\n",
       "      <td>sfs</td>\n",
       "      <td>train</td>\n",
       "      <td>none</td>\n",
       "      <td>9999</td>\n",
       "      <td>56</td>\n",
       "      <td>0.0</td>\n",
       "      <td>results/eval_rats_15_tests_1/paths/path_164252...</td>\n",
       "      <td>left</td>\n",
       "    </tr>\n",
       "    <tr>\n",
       "      <th>57</th>\n",
       "      <td>14</td>\n",
       "      <td>778113</td>\n",
       "      <td>57</td>\n",
       "      <td>fss</td>\n",
       "      <td>train</td>\n",
       "      <td>none</td>\n",
       "      <td>9999</td>\n",
       "      <td>57</td>\n",
       "      <td>0.0</td>\n",
       "      <td>results/eval_rats_15_tests_1/paths/path_164252...</td>\n",
       "      <td>right</td>\n",
       "    </tr>\n",
       "  </tbody>\n",
       "</table>\n",
       "</div>"
      ],
      "text/plain": [
       "    rat    seed  sequence_id sequence_type  stage classification  \\\n",
       "0     0  788275            0           sfs  train           none   \n",
       "1     0  788275            1           fss  train           none   \n",
       "4     1   19514            4           sfs  train           none   \n",
       "5     1   19514            5           fss  train           none   \n",
       "8     2  615930            8           sfs  train           none   \n",
       "9     2  615930            9           fss  train           none   \n",
       "12    3  234944           12           sfs  train           none   \n",
       "13    3  234944           13           fss  train           none   \n",
       "16    4  942231           16           sfs  train           none   \n",
       "17    4  942231           17           fss  train           none   \n",
       "20    5   20956           20           sfs  train           none   \n",
       "21    5   20956           21           fss  train           none   \n",
       "24    6  195139           24           sfs  train           none   \n",
       "25    6  195139           25           fss  train           none   \n",
       "28    7  919560           28           sfs  train           none   \n",
       "29    7  919560           29           fss  train           none   \n",
       "32    8   31066           32           sfs  train           none   \n",
       "33    8   31066           33           fss  train           none   \n",
       "36    9   81350           36           sfs  train           none   \n",
       "37    9   81350           37           fss  train           none   \n",
       "40   10  641560           40           sfs  train           none   \n",
       "41   10  641560           41           fss  train           none   \n",
       "44   11  424397           44           sfs  train           none   \n",
       "45   11  424397           45           fss  train           none   \n",
       "48   12  154019           48           sfs  train           none   \n",
       "49   12  154019           49           fss  train           none   \n",
       "52   13  918772           52           sfs  train           none   \n",
       "53   13  918772           53           fss  train           none   \n",
       "56   14  778113           56           sfs  train           none   \n",
       "57   14  778113           57           fss  train           none   \n",
       "\n",
       "    decision_time_index  nearest_id  nearest_distance  \\\n",
       "0                  9999           0               0.0   \n",
       "1                  9999           1               0.0   \n",
       "4                  9999           4               0.0   \n",
       "5                  9999           5               0.0   \n",
       "8                  9999           8               0.0   \n",
       "9                  9999           9               0.0   \n",
       "12                 9999          12               0.0   \n",
       "13                 9999          13               0.0   \n",
       "16                 9999          16               0.0   \n",
       "17                 9999          17               0.0   \n",
       "20                 9999          20               0.0   \n",
       "21                 9999          21               0.0   \n",
       "24                 9999          24               0.0   \n",
       "25                 9999          25               0.0   \n",
       "28                 9999          28               0.0   \n",
       "29                 9999          29               0.0   \n",
       "32                 9999          32               0.0   \n",
       "33                 9999          33               0.0   \n",
       "36                 9999          36               0.0   \n",
       "37                 9999          37               0.0   \n",
       "40                 9999          40               0.0   \n",
       "41                 9999          41               0.0   \n",
       "44                 9999          44               0.0   \n",
       "45                 9999          45               0.0   \n",
       "48                 9999          48               0.0   \n",
       "49                 9999          49               0.0   \n",
       "52                 9999          52               0.0   \n",
       "53                 9999          53               0.0   \n",
       "56                 9999          56               0.0   \n",
       "57                 9999          57               0.0   \n",
       "\n",
       "                                            path_file ground_truth  \n",
       "0   results/eval_rats_15_tests_1/paths/path_164252...         left  \n",
       "1   results/eval_rats_15_tests_1/paths/path_164252...        right  \n",
       "4   results/eval_rats_15_tests_1/paths/path_164252...         left  \n",
       "5   results/eval_rats_15_tests_1/paths/path_164252...        right  \n",
       "8   results/eval_rats_15_tests_1/paths/path_164252...         left  \n",
       "9   results/eval_rats_15_tests_1/paths/path_164252...        right  \n",
       "12  results/eval_rats_15_tests_1/paths/path_164252...         left  \n",
       "13  results/eval_rats_15_tests_1/paths/path_164252...        right  \n",
       "16  results/eval_rats_15_tests_1/paths/path_164252...         left  \n",
       "17  results/eval_rats_15_tests_1/paths/path_164252...        right  \n",
       "20  results/eval_rats_15_tests_1/paths/path_164252...         left  \n",
       "21  results/eval_rats_15_tests_1/paths/path_164252...        right  \n",
       "24  results/eval_rats_15_tests_1/paths/path_164252...         left  \n",
       "25  results/eval_rats_15_tests_1/paths/path_164252...        right  \n",
       "28  results/eval_rats_15_tests_1/paths/path_164252...         left  \n",
       "29  results/eval_rats_15_tests_1/paths/path_164252...        right  \n",
       "32  results/eval_rats_15_tests_1/paths/path_164252...         left  \n",
       "33  results/eval_rats_15_tests_1/paths/path_164252...        right  \n",
       "36  results/eval_rats_15_tests_1/paths/path_164252...         left  \n",
       "37  results/eval_rats_15_tests_1/paths/path_164252...        right  \n",
       "40  results/eval_rats_15_tests_1/paths/path_164252...         left  \n",
       "41  results/eval_rats_15_tests_1/paths/path_164252...        right  \n",
       "44  results/eval_rats_15_tests_1/paths/path_164252...         left  \n",
       "45  results/eval_rats_15_tests_1/paths/path_164252...        right  \n",
       "48  results/eval_rats_15_tests_1/paths/path_164252...         left  \n",
       "49  results/eval_rats_15_tests_1/paths/path_164252...        right  \n",
       "52  results/eval_rats_15_tests_1/paths/path_164252...         left  \n",
       "53  results/eval_rats_15_tests_1/paths/path_164252...        right  \n",
       "56  results/eval_rats_15_tests_1/paths/path_164252...         left  \n",
       "57  results/eval_rats_15_tests_1/paths/path_164252...        right  "
      ]
     },
     "metadata": {},
     "output_type": "display_data"
    },
    {
     "data": {
      "text/markdown": [
       "### Test Data"
      ],
      "text/plain": [
       "<IPython.core.display.Markdown object>"
      ]
     },
     "metadata": {},
     "output_type": "display_data"
    },
    {
     "data": {
      "text/html": [
       "<div>\n",
       "<style scoped>\n",
       "    .dataframe tbody tr th:only-of-type {\n",
       "        vertical-align: middle;\n",
       "    }\n",
       "\n",
       "    .dataframe tbody tr th {\n",
       "        vertical-align: top;\n",
       "    }\n",
       "\n",
       "    .dataframe thead th {\n",
       "        text-align: right;\n",
       "    }\n",
       "</style>\n",
       "<table border=\"1\" class=\"dataframe\">\n",
       "  <thead>\n",
       "    <tr style=\"text-align: right;\">\n",
       "      <th></th>\n",
       "      <th>rat</th>\n",
       "      <th>seed</th>\n",
       "      <th>sequence_id</th>\n",
       "      <th>sequence_type</th>\n",
       "      <th>stage</th>\n",
       "      <th>classification</th>\n",
       "      <th>decision_time_index</th>\n",
       "      <th>nearest_id</th>\n",
       "      <th>nearest_distance</th>\n",
       "      <th>path_file</th>\n",
       "      <th>ground_truth</th>\n",
       "    </tr>\n",
       "  </thead>\n",
       "  <tbody>\n",
       "    <tr>\n",
       "      <th>2</th>\n",
       "      <td>0</td>\n",
       "      <td>788275</td>\n",
       "      <td>2</td>\n",
       "      <td>sfs</td>\n",
       "      <td>test</td>\n",
       "      <td>left</td>\n",
       "      <td>23</td>\n",
       "      <td>0</td>\n",
       "      <td>0.995233</td>\n",
       "      <td>results/eval_rats_15_tests_1/paths/path_164252...</td>\n",
       "      <td>left</td>\n",
       "    </tr>\n",
       "    <tr>\n",
       "      <th>3</th>\n",
       "      <td>0</td>\n",
       "      <td>788275</td>\n",
       "      <td>3</td>\n",
       "      <td>fss</td>\n",
       "      <td>test</td>\n",
       "      <td>right</td>\n",
       "      <td>29</td>\n",
       "      <td>1</td>\n",
       "      <td>0.970282</td>\n",
       "      <td>results/eval_rats_15_tests_1/paths/path_164252...</td>\n",
       "      <td>right</td>\n",
       "    </tr>\n",
       "    <tr>\n",
       "      <th>6</th>\n",
       "      <td>1</td>\n",
       "      <td>19514</td>\n",
       "      <td>6</td>\n",
       "      <td>sfs</td>\n",
       "      <td>test</td>\n",
       "      <td>left</td>\n",
       "      <td>25</td>\n",
       "      <td>4</td>\n",
       "      <td>0.998648</td>\n",
       "      <td>results/eval_rats_15_tests_1/paths/path_164252...</td>\n",
       "      <td>left</td>\n",
       "    </tr>\n",
       "    <tr>\n",
       "      <th>7</th>\n",
       "      <td>1</td>\n",
       "      <td>19514</td>\n",
       "      <td>7</td>\n",
       "      <td>fss</td>\n",
       "      <td>test</td>\n",
       "      <td>right</td>\n",
       "      <td>26</td>\n",
       "      <td>5</td>\n",
       "      <td>0.997685</td>\n",
       "      <td>results/eval_rats_15_tests_1/paths/path_164252...</td>\n",
       "      <td>right</td>\n",
       "    </tr>\n",
       "    <tr>\n",
       "      <th>10</th>\n",
       "      <td>2</td>\n",
       "      <td>615930</td>\n",
       "      <td>10</td>\n",
       "      <td>sfs</td>\n",
       "      <td>test</td>\n",
       "      <td>left</td>\n",
       "      <td>25</td>\n",
       "      <td>8</td>\n",
       "      <td>0.998252</td>\n",
       "      <td>results/eval_rats_15_tests_1/paths/path_164252...</td>\n",
       "      <td>left</td>\n",
       "    </tr>\n",
       "    <tr>\n",
       "      <th>11</th>\n",
       "      <td>2</td>\n",
       "      <td>615930</td>\n",
       "      <td>11</td>\n",
       "      <td>fss</td>\n",
       "      <td>test</td>\n",
       "      <td>right</td>\n",
       "      <td>25</td>\n",
       "      <td>9</td>\n",
       "      <td>0.993239</td>\n",
       "      <td>results/eval_rats_15_tests_1/paths/path_164252...</td>\n",
       "      <td>right</td>\n",
       "    </tr>\n",
       "    <tr>\n",
       "      <th>14</th>\n",
       "      <td>3</td>\n",
       "      <td>234944</td>\n",
       "      <td>14</td>\n",
       "      <td>sfs</td>\n",
       "      <td>test</td>\n",
       "      <td>left</td>\n",
       "      <td>25</td>\n",
       "      <td>12</td>\n",
       "      <td>0.997286</td>\n",
       "      <td>results/eval_rats_15_tests_1/paths/path_164252...</td>\n",
       "      <td>left</td>\n",
       "    </tr>\n",
       "    <tr>\n",
       "      <th>15</th>\n",
       "      <td>3</td>\n",
       "      <td>234944</td>\n",
       "      <td>15</td>\n",
       "      <td>fss</td>\n",
       "      <td>test</td>\n",
       "      <td>right</td>\n",
       "      <td>71</td>\n",
       "      <td>13</td>\n",
       "      <td>0.893991</td>\n",
       "      <td>results/eval_rats_15_tests_1/paths/path_164252...</td>\n",
       "      <td>right</td>\n",
       "    </tr>\n",
       "    <tr>\n",
       "      <th>18</th>\n",
       "      <td>4</td>\n",
       "      <td>942231</td>\n",
       "      <td>18</td>\n",
       "      <td>sfs</td>\n",
       "      <td>test</td>\n",
       "      <td>left</td>\n",
       "      <td>23</td>\n",
       "      <td>16</td>\n",
       "      <td>0.993083</td>\n",
       "      <td>results/eval_rats_15_tests_1/paths/path_164252...</td>\n",
       "      <td>left</td>\n",
       "    </tr>\n",
       "    <tr>\n",
       "      <th>19</th>\n",
       "      <td>4</td>\n",
       "      <td>942231</td>\n",
       "      <td>19</td>\n",
       "      <td>fss</td>\n",
       "      <td>test</td>\n",
       "      <td>right</td>\n",
       "      <td>24</td>\n",
       "      <td>17</td>\n",
       "      <td>0.998683</td>\n",
       "      <td>results/eval_rats_15_tests_1/paths/path_164252...</td>\n",
       "      <td>right</td>\n",
       "    </tr>\n",
       "    <tr>\n",
       "      <th>22</th>\n",
       "      <td>5</td>\n",
       "      <td>20956</td>\n",
       "      <td>22</td>\n",
       "      <td>sfs</td>\n",
       "      <td>test</td>\n",
       "      <td>left</td>\n",
       "      <td>23</td>\n",
       "      <td>20</td>\n",
       "      <td>0.999819</td>\n",
       "      <td>results/eval_rats_15_tests_1/paths/path_164252...</td>\n",
       "      <td>left</td>\n",
       "    </tr>\n",
       "    <tr>\n",
       "      <th>23</th>\n",
       "      <td>5</td>\n",
       "      <td>20956</td>\n",
       "      <td>23</td>\n",
       "      <td>fss</td>\n",
       "      <td>test</td>\n",
       "      <td>right</td>\n",
       "      <td>24</td>\n",
       "      <td>21</td>\n",
       "      <td>0.986038</td>\n",
       "      <td>results/eval_rats_15_tests_1/paths/path_164252...</td>\n",
       "      <td>right</td>\n",
       "    </tr>\n",
       "    <tr>\n",
       "      <th>26</th>\n",
       "      <td>6</td>\n",
       "      <td>195139</td>\n",
       "      <td>26</td>\n",
       "      <td>sfs</td>\n",
       "      <td>test</td>\n",
       "      <td>left</td>\n",
       "      <td>23</td>\n",
       "      <td>24</td>\n",
       "      <td>0.998123</td>\n",
       "      <td>results/eval_rats_15_tests_1/paths/path_164252...</td>\n",
       "      <td>left</td>\n",
       "    </tr>\n",
       "    <tr>\n",
       "      <th>27</th>\n",
       "      <td>6</td>\n",
       "      <td>195139</td>\n",
       "      <td>27</td>\n",
       "      <td>fss</td>\n",
       "      <td>test</td>\n",
       "      <td>right</td>\n",
       "      <td>24</td>\n",
       "      <td>25</td>\n",
       "      <td>0.999381</td>\n",
       "      <td>results/eval_rats_15_tests_1/paths/path_164252...</td>\n",
       "      <td>right</td>\n",
       "    </tr>\n",
       "    <tr>\n",
       "      <th>30</th>\n",
       "      <td>7</td>\n",
       "      <td>919560</td>\n",
       "      <td>30</td>\n",
       "      <td>sfs</td>\n",
       "      <td>test</td>\n",
       "      <td>left</td>\n",
       "      <td>23</td>\n",
       "      <td>28</td>\n",
       "      <td>0.995854</td>\n",
       "      <td>results/eval_rats_15_tests_1/paths/path_164252...</td>\n",
       "      <td>left</td>\n",
       "    </tr>\n",
       "    <tr>\n",
       "      <th>31</th>\n",
       "      <td>7</td>\n",
       "      <td>919560</td>\n",
       "      <td>31</td>\n",
       "      <td>fss</td>\n",
       "      <td>test</td>\n",
       "      <td>left</td>\n",
       "      <td>23</td>\n",
       "      <td>28</td>\n",
       "      <td>0.974154</td>\n",
       "      <td>results/eval_rats_15_tests_1/paths/path_164252...</td>\n",
       "      <td>right</td>\n",
       "    </tr>\n",
       "    <tr>\n",
       "      <th>34</th>\n",
       "      <td>8</td>\n",
       "      <td>31066</td>\n",
       "      <td>34</td>\n",
       "      <td>sfs</td>\n",
       "      <td>test</td>\n",
       "      <td>left</td>\n",
       "      <td>23</td>\n",
       "      <td>32</td>\n",
       "      <td>0.999820</td>\n",
       "      <td>results/eval_rats_15_tests_1/paths/path_164252...</td>\n",
       "      <td>left</td>\n",
       "    </tr>\n",
       "    <tr>\n",
       "      <th>35</th>\n",
       "      <td>8</td>\n",
       "      <td>31066</td>\n",
       "      <td>35</td>\n",
       "      <td>fss</td>\n",
       "      <td>test</td>\n",
       "      <td>right</td>\n",
       "      <td>26</td>\n",
       "      <td>33</td>\n",
       "      <td>0.994134</td>\n",
       "      <td>results/eval_rats_15_tests_1/paths/path_164252...</td>\n",
       "      <td>right</td>\n",
       "    </tr>\n",
       "    <tr>\n",
       "      <th>38</th>\n",
       "      <td>9</td>\n",
       "      <td>81350</td>\n",
       "      <td>38</td>\n",
       "      <td>sfs</td>\n",
       "      <td>test</td>\n",
       "      <td>left</td>\n",
       "      <td>23</td>\n",
       "      <td>36</td>\n",
       "      <td>0.990097</td>\n",
       "      <td>results/eval_rats_15_tests_1/paths/path_164252...</td>\n",
       "      <td>left</td>\n",
       "    </tr>\n",
       "    <tr>\n",
       "      <th>39</th>\n",
       "      <td>9</td>\n",
       "      <td>81350</td>\n",
       "      <td>39</td>\n",
       "      <td>fss</td>\n",
       "      <td>test</td>\n",
       "      <td>right</td>\n",
       "      <td>32</td>\n",
       "      <td>37</td>\n",
       "      <td>0.978737</td>\n",
       "      <td>results/eval_rats_15_tests_1/paths/path_164252...</td>\n",
       "      <td>right</td>\n",
       "    </tr>\n",
       "    <tr>\n",
       "      <th>42</th>\n",
       "      <td>10</td>\n",
       "      <td>641560</td>\n",
       "      <td>42</td>\n",
       "      <td>sfs</td>\n",
       "      <td>test</td>\n",
       "      <td>left</td>\n",
       "      <td>24</td>\n",
       "      <td>40</td>\n",
       "      <td>0.998547</td>\n",
       "      <td>results/eval_rats_15_tests_1/paths/path_164252...</td>\n",
       "      <td>left</td>\n",
       "    </tr>\n",
       "    <tr>\n",
       "      <th>43</th>\n",
       "      <td>10</td>\n",
       "      <td>641560</td>\n",
       "      <td>43</td>\n",
       "      <td>fss</td>\n",
       "      <td>test</td>\n",
       "      <td>right</td>\n",
       "      <td>25</td>\n",
       "      <td>41</td>\n",
       "      <td>0.999193</td>\n",
       "      <td>results/eval_rats_15_tests_1/paths/path_164252...</td>\n",
       "      <td>right</td>\n",
       "    </tr>\n",
       "    <tr>\n",
       "      <th>46</th>\n",
       "      <td>11</td>\n",
       "      <td>424397</td>\n",
       "      <td>46</td>\n",
       "      <td>sfs</td>\n",
       "      <td>test</td>\n",
       "      <td>left</td>\n",
       "      <td>23</td>\n",
       "      <td>44</td>\n",
       "      <td>0.999169</td>\n",
       "      <td>results/eval_rats_15_tests_1/paths/path_164252...</td>\n",
       "      <td>left</td>\n",
       "    </tr>\n",
       "    <tr>\n",
       "      <th>47</th>\n",
       "      <td>11</td>\n",
       "      <td>424397</td>\n",
       "      <td>47</td>\n",
       "      <td>fss</td>\n",
       "      <td>test</td>\n",
       "      <td>right</td>\n",
       "      <td>26</td>\n",
       "      <td>45</td>\n",
       "      <td>0.984324</td>\n",
       "      <td>results/eval_rats_15_tests_1/paths/path_164252...</td>\n",
       "      <td>right</td>\n",
       "    </tr>\n",
       "    <tr>\n",
       "      <th>50</th>\n",
       "      <td>12</td>\n",
       "      <td>154019</td>\n",
       "      <td>50</td>\n",
       "      <td>sfs</td>\n",
       "      <td>test</td>\n",
       "      <td>left</td>\n",
       "      <td>23</td>\n",
       "      <td>48</td>\n",
       "      <td>0.999133</td>\n",
       "      <td>results/eval_rats_15_tests_1/paths/path_164252...</td>\n",
       "      <td>left</td>\n",
       "    </tr>\n",
       "    <tr>\n",
       "      <th>51</th>\n",
       "      <td>12</td>\n",
       "      <td>154019</td>\n",
       "      <td>51</td>\n",
       "      <td>fss</td>\n",
       "      <td>test</td>\n",
       "      <td>right</td>\n",
       "      <td>25</td>\n",
       "      <td>49</td>\n",
       "      <td>0.997414</td>\n",
       "      <td>results/eval_rats_15_tests_1/paths/path_164252...</td>\n",
       "      <td>right</td>\n",
       "    </tr>\n",
       "    <tr>\n",
       "      <th>54</th>\n",
       "      <td>13</td>\n",
       "      <td>918772</td>\n",
       "      <td>54</td>\n",
       "      <td>sfs</td>\n",
       "      <td>test</td>\n",
       "      <td>left</td>\n",
       "      <td>23</td>\n",
       "      <td>52</td>\n",
       "      <td>0.999666</td>\n",
       "      <td>results/eval_rats_15_tests_1/paths/path_164252...</td>\n",
       "      <td>left</td>\n",
       "    </tr>\n",
       "    <tr>\n",
       "      <th>55</th>\n",
       "      <td>13</td>\n",
       "      <td>918772</td>\n",
       "      <td>55</td>\n",
       "      <td>fss</td>\n",
       "      <td>test</td>\n",
       "      <td>right</td>\n",
       "      <td>24</td>\n",
       "      <td>53</td>\n",
       "      <td>0.998827</td>\n",
       "      <td>results/eval_rats_15_tests_1/paths/path_164252...</td>\n",
       "      <td>right</td>\n",
       "    </tr>\n",
       "    <tr>\n",
       "      <th>58</th>\n",
       "      <td>14</td>\n",
       "      <td>778113</td>\n",
       "      <td>58</td>\n",
       "      <td>sfs</td>\n",
       "      <td>test</td>\n",
       "      <td>left</td>\n",
       "      <td>23</td>\n",
       "      <td>56</td>\n",
       "      <td>0.997240</td>\n",
       "      <td>results/eval_rats_15_tests_1/paths/path_164252...</td>\n",
       "      <td>left</td>\n",
       "    </tr>\n",
       "    <tr>\n",
       "      <th>59</th>\n",
       "      <td>14</td>\n",
       "      <td>778113</td>\n",
       "      <td>59</td>\n",
       "      <td>fss</td>\n",
       "      <td>test</td>\n",
       "      <td>right</td>\n",
       "      <td>25</td>\n",
       "      <td>57</td>\n",
       "      <td>0.997488</td>\n",
       "      <td>results/eval_rats_15_tests_1/paths/path_164252...</td>\n",
       "      <td>right</td>\n",
       "    </tr>\n",
       "  </tbody>\n",
       "</table>\n",
       "</div>"
      ],
      "text/plain": [
       "    rat    seed  sequence_id sequence_type stage classification  \\\n",
       "2     0  788275            2           sfs  test           left   \n",
       "3     0  788275            3           fss  test          right   \n",
       "6     1   19514            6           sfs  test           left   \n",
       "7     1   19514            7           fss  test          right   \n",
       "10    2  615930           10           sfs  test           left   \n",
       "11    2  615930           11           fss  test          right   \n",
       "14    3  234944           14           sfs  test           left   \n",
       "15    3  234944           15           fss  test          right   \n",
       "18    4  942231           18           sfs  test           left   \n",
       "19    4  942231           19           fss  test          right   \n",
       "22    5   20956           22           sfs  test           left   \n",
       "23    5   20956           23           fss  test          right   \n",
       "26    6  195139           26           sfs  test           left   \n",
       "27    6  195139           27           fss  test          right   \n",
       "30    7  919560           30           sfs  test           left   \n",
       "31    7  919560           31           fss  test           left   \n",
       "34    8   31066           34           sfs  test           left   \n",
       "35    8   31066           35           fss  test          right   \n",
       "38    9   81350           38           sfs  test           left   \n",
       "39    9   81350           39           fss  test          right   \n",
       "42   10  641560           42           sfs  test           left   \n",
       "43   10  641560           43           fss  test          right   \n",
       "46   11  424397           46           sfs  test           left   \n",
       "47   11  424397           47           fss  test          right   \n",
       "50   12  154019           50           sfs  test           left   \n",
       "51   12  154019           51           fss  test          right   \n",
       "54   13  918772           54           sfs  test           left   \n",
       "55   13  918772           55           fss  test          right   \n",
       "58   14  778113           58           sfs  test           left   \n",
       "59   14  778113           59           fss  test          right   \n",
       "\n",
       "    decision_time_index  nearest_id  nearest_distance  \\\n",
       "2                    23           0          0.995233   \n",
       "3                    29           1          0.970282   \n",
       "6                    25           4          0.998648   \n",
       "7                    26           5          0.997685   \n",
       "10                   25           8          0.998252   \n",
       "11                   25           9          0.993239   \n",
       "14                   25          12          0.997286   \n",
       "15                   71          13          0.893991   \n",
       "18                   23          16          0.993083   \n",
       "19                   24          17          0.998683   \n",
       "22                   23          20          0.999819   \n",
       "23                   24          21          0.986038   \n",
       "26                   23          24          0.998123   \n",
       "27                   24          25          0.999381   \n",
       "30                   23          28          0.995854   \n",
       "31                   23          28          0.974154   \n",
       "34                   23          32          0.999820   \n",
       "35                   26          33          0.994134   \n",
       "38                   23          36          0.990097   \n",
       "39                   32          37          0.978737   \n",
       "42                   24          40          0.998547   \n",
       "43                   25          41          0.999193   \n",
       "46                   23          44          0.999169   \n",
       "47                   26          45          0.984324   \n",
       "50                   23          48          0.999133   \n",
       "51                   25          49          0.997414   \n",
       "54                   23          52          0.999666   \n",
       "55                   24          53          0.998827   \n",
       "58                   23          56          0.997240   \n",
       "59                   25          57          0.997488   \n",
       "\n",
       "                                            path_file ground_truth  \n",
       "2   results/eval_rats_15_tests_1/paths/path_164252...         left  \n",
       "3   results/eval_rats_15_tests_1/paths/path_164252...        right  \n",
       "6   results/eval_rats_15_tests_1/paths/path_164252...         left  \n",
       "7   results/eval_rats_15_tests_1/paths/path_164252...        right  \n",
       "10  results/eval_rats_15_tests_1/paths/path_164252...         left  \n",
       "11  results/eval_rats_15_tests_1/paths/path_164252...        right  \n",
       "14  results/eval_rats_15_tests_1/paths/path_164252...         left  \n",
       "15  results/eval_rats_15_tests_1/paths/path_164252...        right  \n",
       "18  results/eval_rats_15_tests_1/paths/path_164252...         left  \n",
       "19  results/eval_rats_15_tests_1/paths/path_164252...        right  \n",
       "22  results/eval_rats_15_tests_1/paths/path_164252...         left  \n",
       "23  results/eval_rats_15_tests_1/paths/path_164252...        right  \n",
       "26  results/eval_rats_15_tests_1/paths/path_164252...         left  \n",
       "27  results/eval_rats_15_tests_1/paths/path_164252...        right  \n",
       "30  results/eval_rats_15_tests_1/paths/path_164252...         left  \n",
       "31  results/eval_rats_15_tests_1/paths/path_164252...        right  \n",
       "34  results/eval_rats_15_tests_1/paths/path_164252...         left  \n",
       "35  results/eval_rats_15_tests_1/paths/path_164252...        right  \n",
       "38  results/eval_rats_15_tests_1/paths/path_164252...         left  \n",
       "39  results/eval_rats_15_tests_1/paths/path_164252...        right  \n",
       "42  results/eval_rats_15_tests_1/paths/path_164252...         left  \n",
       "43  results/eval_rats_15_tests_1/paths/path_164252...        right  \n",
       "46  results/eval_rats_15_tests_1/paths/path_164252...         left  \n",
       "47  results/eval_rats_15_tests_1/paths/path_164252...        right  \n",
       "50  results/eval_rats_15_tests_1/paths/path_164252...         left  \n",
       "51  results/eval_rats_15_tests_1/paths/path_164252...        right  \n",
       "54  results/eval_rats_15_tests_1/paths/path_164252...         left  \n",
       "55  results/eval_rats_15_tests_1/paths/path_164252...        right  \n",
       "58  results/eval_rats_15_tests_1/paths/path_164252...         left  \n",
       "59  results/eval_rats_15_tests_1/paths/path_164252...        right  "
      ]
     },
     "metadata": {},
     "output_type": "display_data"
    }
   ],
   "source": [
    "# Make sure new data was correctly saved\n",
    "different_distances =results['nearest_distance'] != results_filtered['nearest_distance']\n",
    "display(Markdown(f'### Debug: Number of positions where NN distance changed {different_distances.sum()}'))\n",
    "cols = ['nearest_id', 'nearest_distance', 'classification']\n",
    "# display(results[cols].loc[different_distances])\n",
    "# display(results_filtered[cols].loc[different_distances])\n",
    "\n",
    "# Re-evaluate results using filtered data\n",
    "results_training_filtered = results_filtered.loc[results_filtered.stage == 'train']\n",
    "results_testing_filtered  = results_filtered.loc[results_filtered.stage == 'test']\n",
    "\n",
    "from sklearn.metrics import confusion_matrix\n",
    "confussion = confusion_matrix(results_testing_filtered.ground_truth, results_testing_filtered.classification)\n",
    "\n",
    "display(Markdown('### Confusion Matrix'))\n",
    "display(confussion)\n",
    "\n",
    "display(Markdown('### Distance between reservoir states of same sequence at decision point'))\n",
    "display(f'Mean: {results_testing_filtered.nearest_distance.mean()}')\n",
    "display(f'STD:  {results_testing_filtered.nearest_distance.std()}')\n",
    "\n",
    "display(Markdown('### Training Data'))\n",
    "display(results_training)\n",
    "\n",
    "display(Markdown('### Test Data'))\n",
    "display(results_testing)"
   ]
  }
 ],
 "metadata": {
  "kernelspec": {
   "display_name": "Python 3 (ipykernel)",
   "language": "python",
   "name": "python3"
  },
  "language_info": {
   "codemirror_mode": {
    "name": "ipython",
    "version": 3
   },
   "file_extension": ".py",
   "mimetype": "text/x-python",
   "name": "python",
   "nbconvert_exporter": "python",
   "pygments_lexer": "ipython3",
   "version": "3.9.7"
  }
 },
 "nbformat": 4,
 "nbformat_minor": 4
}
